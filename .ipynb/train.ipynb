{
 "cells": [
  {
   "cell_type": "code",
   "execution_count": 1774,
   "metadata": {},
   "outputs": [],
   "source": [
    "from sklearn.preprocessing import StandardScaler\n",
    "from sklearn import linear_model\n",
    "from sklearn import model_selection\n",
    "from sklearn.metrics import classification_report\n",
    "from sklearn.metrics import confusion_matrix\n",
    "from sklearn.metrics import accuracy_score\n",
    "import matplotlib.pyplot as plt\n",
    "import seaborn as sns\n",
    "import pandas as pd\n",
    "import numpy as np"
   ]
  },
  {
   "cell_type": "markdown",
   "metadata": {},
   "source": [
    "**IDEA A SEGUIR**\n",
    "1. Separar las variables por categóricas y numéricas.\n",
    "    - Análisis\n",
    "    - En las categóricas le damos numeros y si al analizar la correlación vemos que la columna es relevante le aplicamo dummy\n",
    "2. Hacer un modelo supervisado y otro de categórica.\n",
    "    - Comprobar de cada modelo la mejor opción (arboles de decision, RLin, Rlog, Poli,...)\n",
    "3. Hacer un RandomForestTree para combinar los dos mejores modelos de cada caso.\n",
    "4. Pruebas"
   ]
  },
  {
   "cell_type": "code",
   "execution_count": 1775,
   "metadata": {},
   "outputs": [],
   "source": [
    "df=pd.read_csv(\"train.csv\")"
   ]
  },
  {
   "cell_type": "code",
   "execution_count": 1776,
   "metadata": {},
   "outputs": [
    {
     "data": {
      "text/html": [
       "<div>\n",
       "<style scoped>\n",
       "    .dataframe tbody tr th:only-of-type {\n",
       "        vertical-align: middle;\n",
       "    }\n",
       "\n",
       "    .dataframe tbody tr th {\n",
       "        vertical-align: top;\n",
       "    }\n",
       "\n",
       "    .dataframe thead th {\n",
       "        text-align: right;\n",
       "    }\n",
       "</style>\n",
       "<table border=\"1\" class=\"dataframe\">\n",
       "  <thead>\n",
       "    <tr style=\"text-align: right;\">\n",
       "      <th></th>\n",
       "      <th>id</th>\n",
       "      <th>laptop_ID</th>\n",
       "      <th>Company</th>\n",
       "      <th>Product</th>\n",
       "      <th>TypeName</th>\n",
       "      <th>Inches</th>\n",
       "      <th>ScreenResolution</th>\n",
       "      <th>Cpu</th>\n",
       "      <th>Ram</th>\n",
       "      <th>Memory</th>\n",
       "      <th>Gpu</th>\n",
       "      <th>OpSys</th>\n",
       "      <th>Weight</th>\n",
       "      <th>Price_euros</th>\n",
       "    </tr>\n",
       "  </thead>\n",
       "  <tbody>\n",
       "    <tr>\n",
       "      <th>0</th>\n",
       "      <td>268</td>\n",
       "      <td>1002</td>\n",
       "      <td>Dell</td>\n",
       "      <td>Inspiron 5567</td>\n",
       "      <td>Notebook</td>\n",
       "      <td>15.6</td>\n",
       "      <td>1366x768</td>\n",
       "      <td>Intel Core i7 7500U 2.7GHz</td>\n",
       "      <td>8GB</td>\n",
       "      <td>1TB HDD</td>\n",
       "      <td>AMD Radeon R7 M445</td>\n",
       "      <td>Windows 10</td>\n",
       "      <td>2.36kg</td>\n",
       "      <td>749.00</td>\n",
       "    </tr>\n",
       "    <tr>\n",
       "      <th>1</th>\n",
       "      <td>347</td>\n",
       "      <td>867</td>\n",
       "      <td>Asus</td>\n",
       "      <td>X541NA (N4200/4GB/1TB/W10)</td>\n",
       "      <td>Notebook</td>\n",
       "      <td>15.6</td>\n",
       "      <td>1366x768</td>\n",
       "      <td>Intel Pentium Quad Core N4200 1.1GHz</td>\n",
       "      <td>4GB</td>\n",
       "      <td>1TB HDD</td>\n",
       "      <td>Intel HD Graphics 505</td>\n",
       "      <td>Windows 10</td>\n",
       "      <td>2kg</td>\n",
       "      <td>449.00</td>\n",
       "    </tr>\n",
       "    <tr>\n",
       "      <th>2</th>\n",
       "      <td>353</td>\n",
       "      <td>966</td>\n",
       "      <td>Toshiba</td>\n",
       "      <td>Portege Z30-C-1CW</td>\n",
       "      <td>Notebook</td>\n",
       "      <td>13.3</td>\n",
       "      <td>Full HD 1920x1080</td>\n",
       "      <td>Intel Core i5 6200U 2.3GHz</td>\n",
       "      <td>8GB</td>\n",
       "      <td>256GB SSD</td>\n",
       "      <td>Intel HD Graphics 520</td>\n",
       "      <td>Windows 7</td>\n",
       "      <td>1.2kg</td>\n",
       "      <td>1460.00</td>\n",
       "    </tr>\n",
       "    <tr>\n",
       "      <th>3</th>\n",
       "      <td>578</td>\n",
       "      <td>767</td>\n",
       "      <td>Dell</td>\n",
       "      <td>Alienware 17</td>\n",
       "      <td>Gaming</td>\n",
       "      <td>15.6</td>\n",
       "      <td>IPS Panel 4K Ultra HD 3840x2160</td>\n",
       "      <td>Intel Core i7 7700HQ 2.8GHz</td>\n",
       "      <td>16GB</td>\n",
       "      <td>256GB SSD +  1TB HDD</td>\n",
       "      <td>Nvidia GeForce GTX 1070</td>\n",
       "      <td>Windows 10</td>\n",
       "      <td>4.42kg</td>\n",
       "      <td>2868.99</td>\n",
       "    </tr>\n",
       "    <tr>\n",
       "      <th>4</th>\n",
       "      <td>42</td>\n",
       "      <td>1241</td>\n",
       "      <td>Dell</td>\n",
       "      <td>Latitude E7270</td>\n",
       "      <td>Ultrabook</td>\n",
       "      <td>12.5</td>\n",
       "      <td>Full HD / Touchscreen 1920x1080</td>\n",
       "      <td>Intel Core i5 6300U 2.4GHz</td>\n",
       "      <td>8GB</td>\n",
       "      <td>256GB SSD</td>\n",
       "      <td>Intel HD Graphics 520</td>\n",
       "      <td>Windows 7</td>\n",
       "      <td>1.26kg</td>\n",
       "      <td>1713.37</td>\n",
       "    </tr>\n",
       "  </tbody>\n",
       "</table>\n",
       "</div>"
      ],
      "text/plain": [
       "    id  laptop_ID  Company                     Product   TypeName  Inches  \\\n",
       "0  268       1002     Dell               Inspiron 5567   Notebook    15.6   \n",
       "1  347        867     Asus  X541NA (N4200/4GB/1TB/W10)   Notebook    15.6   \n",
       "2  353        966  Toshiba           Portege Z30-C-1CW   Notebook    13.3   \n",
       "3  578        767     Dell                Alienware 17     Gaming    15.6   \n",
       "4   42       1241     Dell              Latitude E7270  Ultrabook    12.5   \n",
       "\n",
       "                  ScreenResolution                                   Cpu  \\\n",
       "0                         1366x768            Intel Core i7 7500U 2.7GHz   \n",
       "1                         1366x768  Intel Pentium Quad Core N4200 1.1GHz   \n",
       "2                Full HD 1920x1080            Intel Core i5 6200U 2.3GHz   \n",
       "3  IPS Panel 4K Ultra HD 3840x2160           Intel Core i7 7700HQ 2.8GHz   \n",
       "4  Full HD / Touchscreen 1920x1080            Intel Core i5 6300U 2.4GHz   \n",
       "\n",
       "    Ram                Memory                      Gpu       OpSys  Weight  \\\n",
       "0   8GB               1TB HDD       AMD Radeon R7 M445  Windows 10  2.36kg   \n",
       "1   4GB               1TB HDD    Intel HD Graphics 505  Windows 10     2kg   \n",
       "2   8GB             256GB SSD    Intel HD Graphics 520   Windows 7   1.2kg   \n",
       "3  16GB  256GB SSD +  1TB HDD  Nvidia GeForce GTX 1070  Windows 10  4.42kg   \n",
       "4   8GB             256GB SSD    Intel HD Graphics 520   Windows 7  1.26kg   \n",
       "\n",
       "   Price_euros  \n",
       "0       749.00  \n",
       "1       449.00  \n",
       "2      1460.00  \n",
       "3      2868.99  \n",
       "4      1713.37  "
      ]
     },
     "execution_count": 1776,
     "metadata": {},
     "output_type": "execute_result"
    }
   ],
   "source": [
    "df.head()"
   ]
  },
  {
   "cell_type": "code",
   "execution_count": 1777,
   "metadata": {},
   "outputs": [
    {
     "name": "stdout",
     "output_type": "stream",
     "text": [
      "<class 'pandas.core.frame.DataFrame'>\n",
      "RangeIndex: 912 entries, 0 to 911\n",
      "Data columns (total 14 columns):\n",
      " #   Column            Non-Null Count  Dtype  \n",
      "---  ------            --------------  -----  \n",
      " 0   id                912 non-null    int64  \n",
      " 1   laptop_ID         912 non-null    int64  \n",
      " 2   Company           912 non-null    object \n",
      " 3   Product           912 non-null    object \n",
      " 4   TypeName          912 non-null    object \n",
      " 5   Inches            912 non-null    float64\n",
      " 6   ScreenResolution  912 non-null    object \n",
      " 7   Cpu               912 non-null    object \n",
      " 8   Ram               912 non-null    object \n",
      " 9   Memory            912 non-null    object \n",
      " 10  Gpu               912 non-null    object \n",
      " 11  OpSys             912 non-null    object \n",
      " 12  Weight            912 non-null    object \n",
      " 13  Price_euros       912 non-null    float64\n",
      "dtypes: float64(2), int64(2), object(10)\n",
      "memory usage: 99.9+ KB\n"
     ]
    }
   ],
   "source": [
    "df.info()"
   ]
  },
  {
   "cell_type": "markdown",
   "metadata": {},
   "source": [
    "**FUNCIÓN PARA PASAR DE STR A NUM**"
   ]
  },
  {
   "cell_type": "code",
   "execution_count": 1778,
   "metadata": {},
   "outputs": [],
   "source": [
    "def str_num(columna): \n",
    "    for posicion, nombre in enumerate(columna.unique()):\n",
    "           columna.replace({nombre:posicion},inplace=True)\n",
    "    return columna"
   ]
  },
  {
   "cell_type": "code",
   "execution_count": 1779,
   "metadata": {},
   "outputs": [],
   "source": [
    "def eliminar_to_num(columna, string,tipo):\n",
    "    return columna.str.replace(string,\"\",regex=True).astype(tipo)"
   ]
  },
  {
   "cell_type": "markdown",
   "metadata": {},
   "source": [
    "-------------"
   ]
  },
  {
   "cell_type": "code",
   "execution_count": 1780,
   "metadata": {},
   "outputs": [
    {
     "data": {
      "text/plain": [
       "array(['Dell', 'Asus', 'Toshiba', 'MSI', 'HP', 'Lenovo', 'Acer', 'Apple',\n",
       "       'Fujitsu', 'Mediacom', 'Razer', 'Samsung', 'LG', 'Microsoft',\n",
       "       'Vero', 'Google', 'Huawei', 'Xiaomi', 'Chuwi'], dtype=object)"
      ]
     },
     "execution_count": 1780,
     "metadata": {},
     "output_type": "execute_result"
    }
   ],
   "source": [
    "df[\"Company\"].unique()"
   ]
  },
  {
   "cell_type": "code",
   "execution_count": 1781,
   "metadata": {},
   "outputs": [
    {
     "data": {
      "image/png": "[encoded data removed]",
      "text/plain": [
       "<Figure size 640x480 with 1 Axes>"
      ]
     },
     "metadata": {},
     "output_type": "display_data"
    }
   ],
   "source": [
    "plt.bar(df[\"Company\"],df[\"Price_euros\"])\n",
    "plt.xticks(rotation=50)\n",
    "plt.xlabel(\"Compañias\")\n",
    "plt.ylabel(\"percios €\");"
   ]
  },
  {
   "cell_type": "code",
   "execution_count": 1782,
   "metadata": {},
   "outputs": [
    {
     "data": {
      "text/plain": [
       "Company\n",
       "Lenovo       208\n",
       "Dell         207\n",
       "HP           189\n",
       "Asus         108\n",
       "Acer          75\n",
       "Toshiba       37\n",
       "MSI           34\n",
       "Apple         17\n",
       "Mediacom       7\n",
       "Razer          6\n",
       "Samsung        6\n",
       "Fujitsu        3\n",
       "Microsoft      3\n",
       "Vero           3\n",
       "Xiaomi         3\n",
       "Chuwi          2\n",
       "Google         2\n",
       "LG             1\n",
       "Huawei         1\n",
       "Name: count, dtype: int64"
      ]
     },
     "execution_count": 1782,
     "metadata": {},
     "output_type": "execute_result"
    }
   ],
   "source": [
    "df[\"Company\"].value_counts()"
   ]
  },
  {
   "cell_type": "code",
   "execution_count": 1783,
   "metadata": {},
   "outputs": [
    {
     "name": "stderr",
     "output_type": "stream",
     "text": [
      "C:\\Users\\UX490U\\AppData\\Local\\Temp\\ipykernel_1000\\1236849756.py:3: FutureWarning: Downcasting behavior in `replace` is deprecated and will be removed in a future version. To retain the old behavior, explicitly call `result.infer_objects(copy=False)`. To opt-in to the future behavior, set `pd.set_option('future.no_silent_downcasting', True)`\n",
      "  columna.replace({nombre:posicion},inplace=True)\n"
     ]
    },
    {
     "data": {
      "text/plain": [
       "0      0\n",
       "1      1\n",
       "2      2\n",
       "3      0\n",
       "4      0\n",
       "      ..\n",
       "907    6\n",
       "908    2\n",
       "909    6\n",
       "910    0\n",
       "911    0\n",
       "Name: Company, Length: 912, dtype: int64"
      ]
     },
     "execution_count": 1783,
     "metadata": {},
     "output_type": "execute_result"
    }
   ],
   "source": [
    "str_num(df[\"Company\"])"
   ]
  },
  {
   "cell_type": "markdown",
   "metadata": {},
   "source": [
    "-----------"
   ]
  },
  {
   "cell_type": "code",
   "execution_count": 1784,
   "metadata": {},
   "outputs": [
    {
     "data": {
      "text/plain": [
       "array([15.6, 13.3, 12.5, 14. , 17.3, 10.1, 11.6, 15.4, 15. , 12. , 13.5,\n",
       "       12.3, 13. , 13.9, 18.4])"
      ]
     },
     "execution_count": 1784,
     "metadata": {},
     "output_type": "execute_result"
    }
   ],
   "source": [
    "df[\"Inches\"].unique()"
   ]
  },
  {
   "cell_type": "code",
   "execution_count": 1785,
   "metadata": {},
   "outputs": [
    {
     "data": {
      "image/png": "[encoded data removed]",
      "text/plain": [
       "<Figure size 640x480 with 1 Axes>"
      ]
     },
     "metadata": {},
     "output_type": "display_data"
    }
   ],
   "source": [
    "plt.bar(df[\"Inches\"],df[\"Price_euros\"])\n",
    "plt.xlabel(\"Pulgadas\")\n",
    "plt.ylabel(\"percios €\");"
   ]
  },
  {
   "cell_type": "code",
   "execution_count": 1786,
   "metadata": {},
   "outputs": [
    {
     "data": {
      "text/plain": [
       "Inches\n",
       "15.6    474\n",
       "14.0    143\n",
       "13.3    111\n",
       "17.3    108\n",
       "12.5     28\n",
       "11.6     21\n",
       "12.0      6\n",
       "10.1      4\n",
       "13.9      4\n",
       "15.0      3\n",
       "15.4      3\n",
       "13.5      3\n",
       "12.3      2\n",
       "13.0      1\n",
       "18.4      1\n",
       "Name: count, dtype: int64"
      ]
     },
     "execution_count": 1786,
     "metadata": {},
     "output_type": "execute_result"
    }
   ],
   "source": [
    "df[\"Inches\"].value_counts()"
   ]
  },
  {
   "cell_type": "markdown",
   "metadata": {},
   "source": [
    "---------"
   ]
  },
  {
   "cell_type": "code",
   "execution_count": 1787,
   "metadata": {},
   "outputs": [
    {
     "data": {
      "text/plain": [
       "array(['Notebook', 'Gaming', 'Ultrabook', '2 in 1 Convertible', 'Netbook',\n",
       "       'Workstation'], dtype=object)"
      ]
     },
     "execution_count": 1787,
     "metadata": {},
     "output_type": "execute_result"
    }
   ],
   "source": [
    "df[\"TypeName\"].unique()"
   ]
  },
  {
   "cell_type": "code",
   "execution_count": 1788,
   "metadata": {},
   "outputs": [
    {
     "data": {
      "image/png": "[encoded data removed]",
      "text/plain": [
       "<Figure size 640x480 with 1 Axes>"
      ]
     },
     "metadata": {},
     "output_type": "display_data"
    }
   ],
   "source": [
    "plt.bar(df[\"TypeName\"],df[\"Price_euros\"])\n",
    "plt.xticks(rotation=45)\n",
    "plt.xlabel(\"Nombres\")\n",
    "plt.ylabel(\"percios €\");"
   ]
  },
  {
   "cell_type": "code",
   "execution_count": 1789,
   "metadata": {},
   "outputs": [
    {
     "data": {
      "text/plain": [
       "TypeName\n",
       "Notebook              522\n",
       "Gaming                138\n",
       "Ultrabook             135\n",
       "2 in 1 Convertible     85\n",
       "Workstation            18\n",
       "Netbook                14\n",
       "Name: count, dtype: int64"
      ]
     },
     "execution_count": 1789,
     "metadata": {},
     "output_type": "execute_result"
    }
   ],
   "source": [
    "df[\"TypeName\"].value_counts()"
   ]
  },
  {
   "cell_type": "code",
   "execution_count": 1790,
   "metadata": {},
   "outputs": [
    {
     "name": "stderr",
     "output_type": "stream",
     "text": [
      "C:\\Users\\UX490U\\AppData\\Local\\Temp\\ipykernel_1000\\1236849756.py:3: FutureWarning: Downcasting behavior in `replace` is deprecated and will be removed in a future version. To retain the old behavior, explicitly call `result.infer_objects(copy=False)`. To opt-in to the future behavior, set `pd.set_option('future.no_silent_downcasting', True)`\n",
      "  columna.replace({nombre:posicion},inplace=True)\n"
     ]
    },
    {
     "data": {
      "text/plain": [
       "0      0\n",
       "1      0\n",
       "2      0\n",
       "3      1\n",
       "4      2\n",
       "      ..\n",
       "907    3\n",
       "908    0\n",
       "909    0\n",
       "910    2\n",
       "911    0\n",
       "Name: TypeName, Length: 912, dtype: int64"
      ]
     },
     "execution_count": 1790,
     "metadata": {},
     "output_type": "execute_result"
    }
   ],
   "source": [
    "str_num(df[\"TypeName\"])"
   ]
  },
  {
   "cell_type": "markdown",
   "metadata": {},
   "source": [
    "-----------------"
   ]
  },
  {
   "cell_type": "code",
   "execution_count": 1791,
   "metadata": {},
   "outputs": [
    {
     "data": {
      "text/plain": [
       "array(['8GB', '4GB', '16GB', '12GB', '6GB', '32GB', '2GB', '24GB'],\n",
       "      dtype=object)"
      ]
     },
     "execution_count": 1791,
     "metadata": {},
     "output_type": "execute_result"
    }
   ],
   "source": [
    "df[\"Ram\"].unique()"
   ]
  },
  {
   "cell_type": "code",
   "execution_count": 1792,
   "metadata": {},
   "outputs": [
    {
     "data": {
      "image/png": "[encoded data removed]",
      "text/plain": [
       "<Figure size 640x480 with 1 Axes>"
      ]
     },
     "metadata": {},
     "output_type": "display_data"
    }
   ],
   "source": [
    "plt.bar(df[\"Ram\"],df[\"Price_euros\"])\n",
    "plt.xticks(rotation=45)\n",
    "plt.xlabel(\"Ram\")\n",
    "plt.ylabel(\"percios €\");"
   ]
  },
  {
   "cell_type": "code",
   "execution_count": 1793,
   "metadata": {},
   "outputs": [
    {
     "data": {
      "text/plain": [
       "Ram\n",
       "8GB     434\n",
       "4GB     274\n",
       "16GB    125\n",
       "6GB      32\n",
       "2GB      16\n",
       "12GB     15\n",
       "32GB     14\n",
       "24GB      2\n",
       "Name: count, dtype: int64"
      ]
     },
     "execution_count": 1793,
     "metadata": {},
     "output_type": "execute_result"
    }
   ],
   "source": [
    "df[\"Ram\"].value_counts()"
   ]
  },
  {
   "cell_type": "code",
   "execution_count": 1794,
   "metadata": {},
   "outputs": [],
   "source": [
    "df[\"Ram\"]=eliminar_to_num(df[\"Ram\"],\"GB\",int)"
   ]
  },
  {
   "cell_type": "markdown",
   "metadata": {},
   "source": [
    "----------------"
   ]
  },
  {
   "cell_type": "code",
   "execution_count": 1795,
   "metadata": {},
   "outputs": [
    {
     "data": {
      "text/plain": [
       "array(['1TB HDD', '256GB SSD', '256GB SSD +  1TB HDD',\n",
       "       '512GB SSD +  2TB HDD', '128GB SSD +  1TB HDD', '128GB SSD',\n",
       "       '1TB SSD', '64GB Flash Storage', '2TB HDD', '500GB HDD',\n",
       "       '1.0TB Hybrid', '16GB Flash Storage', '256GB Flash Storage',\n",
       "       '180GB SSD', '32GB Flash Storage', '512GB SSD',\n",
       "       '512GB SSD +  1TB HDD', '256GB SSD +  500GB HDD',\n",
       "       '256GB SSD +  2TB HDD', '1TB SSD +  1TB HDD', '64GB SSD',\n",
       "       '128GB Flash Storage', '256GB SSD +  1.0TB Hybrid', '32GB SSD',\n",
       "       '512GB Flash Storage', '240GB SSD', '256GB SSD +  256GB SSD',\n",
       "       '16GB SSD', '8GB SSD', '64GB Flash Storage +  1TB HDD',\n",
       "       '1.0TB HDD', '1TB HDD +  1TB HDD', '512GB SSD +  512GB SSD',\n",
       "       '128GB SSD +  2TB HDD', '32GB HDD', '512GB SSD +  1.0TB Hybrid'],\n",
       "      dtype=object)"
      ]
     },
     "execution_count": 1795,
     "metadata": {},
     "output_type": "execute_result"
    }
   ],
   "source": [
    "df[\"Memory\"].unique()"
   ]
  },
  {
   "cell_type": "code",
   "execution_count": 1796,
   "metadata": {},
   "outputs": [
    {
     "data": {
      "text/plain": [
       "Memory\n",
       "256GB SSD                        293\n",
       "1TB HDD                          150\n",
       "500GB HDD                        100\n",
       "512GB SSD                         75\n",
       "128GB SSD +  1TB HDD              61\n",
       "128GB SSD                         56\n",
       "256GB SSD +  1TB HDD              52\n",
       "32GB Flash Storage                27\n",
       "2TB HDD                           11\n",
       "64GB Flash Storage                11\n",
       "512GB SSD +  1TB HDD              10\n",
       "1TB SSD                            9\n",
       "256GB Flash Storage                7\n",
       "1.0TB Hybrid                       7\n",
       "32GB SSD                           5\n",
       "180GB SSD                          5\n",
       "256GB SSD +  2TB HDD               4\n",
       "16GB Flash Storage                 4\n",
       "16GB SSD                           3\n",
       "512GB SSD +  2TB HDD               2\n",
       "1TB SSD +  1TB HDD                 2\n",
       "256GB SSD +  500GB HDD             2\n",
       "512GB Flash Storage                2\n",
       "128GB Flash Storage                2\n",
       "256GB SSD +  1.0TB Hybrid          1\n",
       "64GB SSD                           1\n",
       "240GB SSD                          1\n",
       "256GB SSD +  256GB SSD             1\n",
       "8GB SSD                            1\n",
       "64GB Flash Storage +  1TB HDD      1\n",
       "1.0TB HDD                          1\n",
       "1TB HDD +  1TB HDD                 1\n",
       "512GB SSD +  512GB SSD             1\n",
       "128GB SSD +  2TB HDD               1\n",
       "32GB HDD                           1\n",
       "512GB SSD +  1.0TB Hybrid          1\n",
       "Name: count, dtype: int64"
      ]
     },
     "execution_count": 1796,
     "metadata": {},
     "output_type": "execute_result"
    }
   ],
   "source": [
    "df[\"Memory\"].value_counts()"
   ]
  },
  {
   "cell_type": "code",
   "execution_count": 1797,
   "metadata": {},
   "outputs": [],
   "source": [
    "df[\"SSD\"] = df[\"Memory\"].str.extract(r'(\\d+\\.?\\d*TB|\\d+GB) SSD')\n",
    "df[\"HDD\"] = df[\"Memory\"].str.extract(r'(\\d+\\.?\\d*TB|\\d+GB) HDD')\n",
    "df[\"Flash Storage\"] = df[\"Memory\"].str.extract(r'(\\d+\\.?\\d*TB|\\d+GB) Flash Storage')\n",
    "df[\"Hybrid\"] = df[\"Memory\"].str.extract(r'(\\d+\\.?\\d*TB|\\d+GB) Hybrid')\n",
    "\n"
   ]
  },
  {
   "cell_type": "markdown",
   "metadata": {},
   "source": [
    "Una vez separados los tipos de almacenamiento vamos a sumar en cada fila el almacenamiento total. Para ello necesitamos que todo este en las mismas unidades"
   ]
  },
  {
   "cell_type": "code",
   "execution_count": 1798,
   "metadata": {},
   "outputs": [],
   "source": [
    "def convertir_a_gb(valor):\n",
    "    if pd.isna(valor):\n",
    "        return 0 \n",
    "    if \"TB\" in valor:\n",
    "        return int(float(valor.replace(\"TB\", \"\")) * 1024)  # Convertir TB a GB\n",
    "    return int(valor.replace(\"GB\", \"\"))"
   ]
  },
  {
   "cell_type": "code",
   "execution_count": 1799,
   "metadata": {},
   "outputs": [],
   "source": [
    "df['Storage_SSD'] = df['Memory'].str.contains('SSD').astype(int)\n",
    "df['Storage_HDD'] = df['Memory'].str.contains('HDD').astype(int)\n",
    "df['Storage_Flash'] = df['Memory'].str.contains('Flash').astype(int)\n",
    "df['Storage_Hybrid'] = df['Memory'].str.contains('Hybrid').astype(int)"
   ]
  },
  {
   "cell_type": "code",
   "execution_count": 1800,
   "metadata": {},
   "outputs": [],
   "source": [
    "# df[\"SSD\"] = df[\"SSD\"].apply(convertir_a_gb)\n",
    "# df[\"HDD\"] = df[\"HDD\"].apply(convertir_a_gb)\n",
    "# df[\"Flash Storage\"] = df[\"Flash Storage\"].apply(convertir_a_gb)\n",
    "# df[\"Hybrid\"] = df[\"Hybrid\"].apply(convertir_a_gb)"
   ]
  },
  {
   "cell_type": "code",
   "execution_count": 1801,
   "metadata": {},
   "outputs": [
    {
     "data": {
      "text/html": [
       "<div>\n",
       "<style scoped>\n",
       "    .dataframe tbody tr th:only-of-type {\n",
       "        vertical-align: middle;\n",
       "    }\n",
       "\n",
       "    .dataframe tbody tr th {\n",
       "        vertical-align: top;\n",
       "    }\n",
       "\n",
       "    .dataframe thead th {\n",
       "        text-align: right;\n",
       "    }\n",
       "</style>\n",
       "<table border=\"1\" class=\"dataframe\">\n",
       "  <thead>\n",
       "    <tr style=\"text-align: right;\">\n",
       "      <th></th>\n",
       "      <th>id</th>\n",
       "      <th>laptop_ID</th>\n",
       "      <th>Company</th>\n",
       "      <th>Product</th>\n",
       "      <th>TypeName</th>\n",
       "      <th>Inches</th>\n",
       "      <th>ScreenResolution</th>\n",
       "      <th>Cpu</th>\n",
       "      <th>Ram</th>\n",
       "      <th>Memory</th>\n",
       "      <th>...</th>\n",
       "      <th>Weight</th>\n",
       "      <th>Price_euros</th>\n",
       "      <th>SSD</th>\n",
       "      <th>HDD</th>\n",
       "      <th>Flash Storage</th>\n",
       "      <th>Hybrid</th>\n",
       "      <th>Storage_SSD</th>\n",
       "      <th>Storage_HDD</th>\n",
       "      <th>Storage_Flash</th>\n",
       "      <th>Storage_Hybrid</th>\n",
       "    </tr>\n",
       "  </thead>\n",
       "  <tbody>\n",
       "    <tr>\n",
       "      <th>0</th>\n",
       "      <td>268</td>\n",
       "      <td>1002</td>\n",
       "      <td>0</td>\n",
       "      <td>Inspiron 5567</td>\n",
       "      <td>0</td>\n",
       "      <td>15.6</td>\n",
       "      <td>1366x768</td>\n",
       "      <td>Intel Core i7 7500U 2.7GHz</td>\n",
       "      <td>8</td>\n",
       "      <td>1TB HDD</td>\n",
       "      <td>...</td>\n",
       "      <td>2.36kg</td>\n",
       "      <td>749.00</td>\n",
       "      <td>NaN</td>\n",
       "      <td>1TB</td>\n",
       "      <td>NaN</td>\n",
       "      <td>NaN</td>\n",
       "      <td>0</td>\n",
       "      <td>1</td>\n",
       "      <td>0</td>\n",
       "      <td>0</td>\n",
       "    </tr>\n",
       "    <tr>\n",
       "      <th>1</th>\n",
       "      <td>347</td>\n",
       "      <td>867</td>\n",
       "      <td>1</td>\n",
       "      <td>X541NA (N4200/4GB/1TB/W10)</td>\n",
       "      <td>0</td>\n",
       "      <td>15.6</td>\n",
       "      <td>1366x768</td>\n",
       "      <td>Intel Pentium Quad Core N4200 1.1GHz</td>\n",
       "      <td>4</td>\n",
       "      <td>1TB HDD</td>\n",
       "      <td>...</td>\n",
       "      <td>2kg</td>\n",
       "      <td>449.00</td>\n",
       "      <td>NaN</td>\n",
       "      <td>1TB</td>\n",
       "      <td>NaN</td>\n",
       "      <td>NaN</td>\n",
       "      <td>0</td>\n",
       "      <td>1</td>\n",
       "      <td>0</td>\n",
       "      <td>0</td>\n",
       "    </tr>\n",
       "    <tr>\n",
       "      <th>2</th>\n",
       "      <td>353</td>\n",
       "      <td>966</td>\n",
       "      <td>2</td>\n",
       "      <td>Portege Z30-C-1CW</td>\n",
       "      <td>0</td>\n",
       "      <td>13.3</td>\n",
       "      <td>Full HD 1920x1080</td>\n",
       "      <td>Intel Core i5 6200U 2.3GHz</td>\n",
       "      <td>8</td>\n",
       "      <td>256GB SSD</td>\n",
       "      <td>...</td>\n",
       "      <td>1.2kg</td>\n",
       "      <td>1460.00</td>\n",
       "      <td>256GB</td>\n",
       "      <td>NaN</td>\n",
       "      <td>NaN</td>\n",
       "      <td>NaN</td>\n",
       "      <td>1</td>\n",
       "      <td>0</td>\n",
       "      <td>0</td>\n",
       "      <td>0</td>\n",
       "    </tr>\n",
       "    <tr>\n",
       "      <th>3</th>\n",
       "      <td>578</td>\n",
       "      <td>767</td>\n",
       "      <td>0</td>\n",
       "      <td>Alienware 17</td>\n",
       "      <td>1</td>\n",
       "      <td>15.6</td>\n",
       "      <td>IPS Panel 4K Ultra HD 3840x2160</td>\n",
       "      <td>Intel Core i7 7700HQ 2.8GHz</td>\n",
       "      <td>16</td>\n",
       "      <td>256GB SSD +  1TB HDD</td>\n",
       "      <td>...</td>\n",
       "      <td>4.42kg</td>\n",
       "      <td>2868.99</td>\n",
       "      <td>256GB</td>\n",
       "      <td>1TB</td>\n",
       "      <td>NaN</td>\n",
       "      <td>NaN</td>\n",
       "      <td>1</td>\n",
       "      <td>1</td>\n",
       "      <td>0</td>\n",
       "      <td>0</td>\n",
       "    </tr>\n",
       "    <tr>\n",
       "      <th>4</th>\n",
       "      <td>42</td>\n",
       "      <td>1241</td>\n",
       "      <td>0</td>\n",
       "      <td>Latitude E7270</td>\n",
       "      <td>2</td>\n",
       "      <td>12.5</td>\n",
       "      <td>Full HD / Touchscreen 1920x1080</td>\n",
       "      <td>Intel Core i5 6300U 2.4GHz</td>\n",
       "      <td>8</td>\n",
       "      <td>256GB SSD</td>\n",
       "      <td>...</td>\n",
       "      <td>1.26kg</td>\n",
       "      <td>1713.37</td>\n",
       "      <td>256GB</td>\n",
       "      <td>NaN</td>\n",
       "      <td>NaN</td>\n",
       "      <td>NaN</td>\n",
       "      <td>1</td>\n",
       "      <td>0</td>\n",
       "      <td>0</td>\n",
       "      <td>0</td>\n",
       "    </tr>\n",
       "  </tbody>\n",
       "</table>\n",
       "<p>5 rows × 22 columns</p>\n",
       "</div>"
      ],
      "text/plain": [
       "    id  laptop_ID  Company                     Product  TypeName  Inches  \\\n",
       "0  268       1002        0               Inspiron 5567         0    15.6   \n",
       "1  347        867        1  X541NA (N4200/4GB/1TB/W10)         0    15.6   \n",
       "2  353        966        2           Portege Z30-C-1CW         0    13.3   \n",
       "3  578        767        0                Alienware 17         1    15.6   \n",
       "4   42       1241        0              Latitude E7270         2    12.5   \n",
       "\n",
       "                  ScreenResolution                                   Cpu  Ram  \\\n",
       "0                         1366x768            Intel Core i7 7500U 2.7GHz    8   \n",
       "1                         1366x768  Intel Pentium Quad Core N4200 1.1GHz    4   \n",
       "2                Full HD 1920x1080            Intel Core i5 6200U 2.3GHz    8   \n",
       "3  IPS Panel 4K Ultra HD 3840x2160           Intel Core i7 7700HQ 2.8GHz   16   \n",
       "4  Full HD / Touchscreen 1920x1080            Intel Core i5 6300U 2.4GHz    8   \n",
       "\n",
       "                 Memory  ...  Weight Price_euros    SSD  HDD Flash Storage  \\\n",
       "0               1TB HDD  ...  2.36kg      749.00    NaN  1TB           NaN   \n",
       "1               1TB HDD  ...     2kg      449.00    NaN  1TB           NaN   \n",
       "2             256GB SSD  ...   1.2kg     1460.00  256GB  NaN           NaN   \n",
       "3  256GB SSD +  1TB HDD  ...  4.42kg     2868.99  256GB  1TB           NaN   \n",
       "4             256GB SSD  ...  1.26kg     1713.37  256GB  NaN           NaN   \n",
       "\n",
       "  Hybrid Storage_SSD Storage_HDD  Storage_Flash  Storage_Hybrid  \n",
       "0    NaN           0           1              0               0  \n",
       "1    NaN           0           1              0               0  \n",
       "2    NaN           1           0              0               0  \n",
       "3    NaN           1           1              0               0  \n",
       "4    NaN           1           0              0               0  \n",
       "\n",
       "[5 rows x 22 columns]"
      ]
     },
     "execution_count": 1801,
     "metadata": {},
     "output_type": "execute_result"
    }
   ],
   "source": [
    "df.head()"
   ]
  },
  {
   "cell_type": "code",
   "execution_count": 1802,
   "metadata": {},
   "outputs": [],
   "source": [
    "#Creamos una columna con el totla de almacenamiento\n",
    "#df[\"Total_Almacenamiento_GB\"] = df[\"SSD\"] + df[\"HDD\"] + df[\"Flash Storage\"] + df[\"Hybrid\"]\n"
   ]
  },
  {
   "cell_type": "code",
   "execution_count": 1803,
   "metadata": {},
   "outputs": [],
   "source": [
    "#df[\"Total_Almacenamiento_GB\"].unique()"
   ]
  },
  {
   "cell_type": "markdown",
   "metadata": {},
   "source": [
    "---------------"
   ]
  },
  {
   "cell_type": "code",
   "execution_count": 1804,
   "metadata": {},
   "outputs": [
    {
     "data": {
      "text/plain": [
       "array(['Windows 10', 'Windows 7', 'Linux', 'Chrome OS', 'No OS',\n",
       "       'Mac OS X', 'Windows 10 S', 'macOS', 'Android'], dtype=object)"
      ]
     },
     "execution_count": 1804,
     "metadata": {},
     "output_type": "execute_result"
    }
   ],
   "source": [
    "df[\"OpSys\"].unique()"
   ]
  },
  {
   "cell_type": "code",
   "execution_count": 1805,
   "metadata": {},
   "outputs": [
    {
     "data": {
      "image/png": "[encoded data removed]",
      "text/plain": [
       "<Figure size 640x480 with 1 Axes>"
      ]
     },
     "metadata": {},
     "output_type": "display_data"
    }
   ],
   "source": [
    "plt.bar(df[\"OpSys\"],df[\"Price_euros\"])\n",
    "plt.xticks(rotation=45)\n",
    "plt.xlabel(\"OpSys\")\n",
    "plt.ylabel(\"percios €\");"
   ]
  },
  {
   "cell_type": "code",
   "execution_count": 1806,
   "metadata": {},
   "outputs": [
    {
     "data": {
      "text/plain": [
       "OpSys\n",
       "Windows 10      746\n",
       "Linux            47\n",
       "No OS            44\n",
       "Windows 7        32\n",
       "Chrome OS        20\n",
       "macOS            11\n",
       "Mac OS X          6\n",
       "Windows 10 S      4\n",
       "Android           2\n",
       "Name: count, dtype: int64"
      ]
     },
     "execution_count": 1806,
     "metadata": {},
     "output_type": "execute_result"
    }
   ],
   "source": [
    "df[\"OpSys\"].value_counts()"
   ]
  },
  {
   "cell_type": "code",
   "execution_count": 1807,
   "metadata": {},
   "outputs": [
    {
     "name": "stderr",
     "output_type": "stream",
     "text": [
      "C:\\Users\\UX490U\\AppData\\Local\\Temp\\ipykernel_1000\\1236849756.py:3: FutureWarning: Downcasting behavior in `replace` is deprecated and will be removed in a future version. To retain the old behavior, explicitly call `result.infer_objects(copy=False)`. To opt-in to the future behavior, set `pd.set_option('future.no_silent_downcasting', True)`\n",
      "  columna.replace({nombre:posicion},inplace=True)\n"
     ]
    },
    {
     "data": {
      "text/plain": [
       "0      0\n",
       "1      0\n",
       "2      1\n",
       "3      0\n",
       "4      1\n",
       "      ..\n",
       "907    3\n",
       "908    0\n",
       "909    0\n",
       "910    0\n",
       "911    2\n",
       "Name: OpSys, Length: 912, dtype: int64"
      ]
     },
     "execution_count": 1807,
     "metadata": {},
     "output_type": "execute_result"
    }
   ],
   "source": [
    "str_num(df[\"OpSys\"])"
   ]
  },
  {
   "cell_type": "markdown",
   "metadata": {},
   "source": [
    "--------------"
   ]
  },
  {
   "cell_type": "code",
   "execution_count": 1808,
   "metadata": {},
   "outputs": [
    {
     "data": {
      "text/plain": [
       "array(['2.36kg', '2kg', '1.2kg', '4.42kg', '1.26kg', '2.26kg', '2.4kg',\n",
       "       '1.3kg', '2.5kg', '2.65kg', '2.02kg', '2.2kg', '1.95kg', '1.75kg',\n",
       "       '1.88kg', '1.74kg', '2.23kg', '3kg', '0.69kg', '2.71kg', '3.35kg',\n",
       "       '1.78kg', '2.13kg', '2.32kg', '2.18kg', '2.20kg', '2.1kg', '1.7kg',\n",
       "       '2.3kg', '1.91kg', '2.31kg', '1.4kg', '1.48kg', '2.04kg', '1.54kg',\n",
       "       '1.86kg', '1.98kg', '1.47kg', '2.67kg', '1.85kg', '1.5kg',\n",
       "       '0.97kg', '1.6kg', '1.68kg', '2.09kg', '2.33kg', '3.49kg',\n",
       "       '3.78kg', '1.36kg', '2.77kg', '1.29kg', '1.62kg', '1.05kg',\n",
       "       '2.05kg', '1.9kg', '1.28kg', '1.49kg', '2.62kg', '2.0kg', '1.63kg',\n",
       "       '1.37kg', '2.73kg', '2.69kg', '1.25kg', '4.14kg', '2.9kg',\n",
       "       '1.23kg', '2.37kg', '1.10kg', '1.90kg', '2.63kg', '1.39kg',\n",
       "       '2.8kg', '2.94kg', '1.43kg', '1.22kg', '2.21kg', '1.32kg', '2.6kg',\n",
       "       '1.45kg', '1.14kg', '4.36kg', '1.8kg', '1.1kg', '3.3kg', '3.2kg',\n",
       "       '4.2kg', '1.35kg', '2.19kg', '1.96kg', '4.0kg', '1.84kg', '1.65kg',\n",
       "       '1.76kg', '1.17kg', '1.09kg', '2.59kg', '4.33kg', '2.7kg',\n",
       "       '1.64kg', '0.92kg', '1.34kg', '4.6kg', '1.56kg', '1.13kg',\n",
       "       '2.08kg', '2.43kg', '2.38kg', '1.93kg', '1.252kg', '0.920kg',\n",
       "       '1.16kg', '1.24kg', '1.38kg', '2.75kg', '1.87kg', '1.42kg',\n",
       "       '0.99kg', '2.14kg', '1.44kg', '3.14kg', '3.4kg', '2.24kg',\n",
       "       '1.15kg', '1.83kg', '3.21kg', '2.06kg', '2.83kg', '1.19kg',\n",
       "       '1.31kg', '1.11kg', '1.27kg', '0.98kg', '3.6kg', '4.3kg', '2.99kg',\n",
       "       '2.17kg', '1.58kg', '0.81kg', '3.0kg', '2.54kg', '2.56kg',\n",
       "       '2.29kg', '1.21kg', '1.99kg', '2.45kg', '2.34kg', '2.79kg',\n",
       "       '3.8kg', '4.4kg', '1.12kg', '1.89kg', '1.08kg', '1.41kg', '4kg',\n",
       "       '2.72kg', '1.94kg', '1.79kg'], dtype=object)"
      ]
     },
     "execution_count": 1808,
     "metadata": {},
     "output_type": "execute_result"
    }
   ],
   "source": [
    "df[\"Weight\"].unique()"
   ]
  },
  {
   "cell_type": "code",
   "execution_count": 1809,
   "metadata": {},
   "outputs": [],
   "source": [
    "df[\"Weight\"]=eliminar_to_num(df[\"Weight\"],\"kg\",float)"
   ]
  },
  {
   "cell_type": "code",
   "execution_count": 1810,
   "metadata": {},
   "outputs": [
    {
     "data": {
      "text/plain": [
       "Weight\n",
       "2.20    89\n",
       "2.10    40\n",
       "2.00    37\n",
       "2.30    35\n",
       "2.40    31\n",
       "        ..\n",
       "1.08     1\n",
       "1.41     1\n",
       "2.72     1\n",
       "1.94     1\n",
       "1.79     1\n",
       "Name: count, Length: 151, dtype: int64"
      ]
     },
     "execution_count": 1810,
     "metadata": {},
     "output_type": "execute_result"
    }
   ],
   "source": [
    "df[\"Weight\"].value_counts()"
   ]
  },
  {
   "cell_type": "code",
   "execution_count": 1811,
   "metadata": {},
   "outputs": [
    {
     "data": {
      "image/png": "[encoded data removed]",
      "text/plain": [
       "<Figure size 640x480 with 1 Axes>"
      ]
     },
     "metadata": {},
     "output_type": "display_data"
    }
   ],
   "source": [
    "plt.bar(df[\"Weight\"],df[\"Price_euros\"])\n",
    "plt.xlabel(\"Weight\")\n",
    "plt.ylabel(\"percios €\");"
   ]
  },
  {
   "cell_type": "markdown",
   "metadata": {},
   "source": [
    "-----------------"
   ]
  },
  {
   "cell_type": "code",
   "execution_count": 1812,
   "metadata": {},
   "outputs": [
    {
     "data": {
      "text/plain": [
       "array(['1366x768', 'Full HD 1920x1080', 'IPS Panel 4K Ultra HD 3840x2160',\n",
       "       'Full HD / Touchscreen 1920x1080', 'IPS Panel Full HD 1920x1080',\n",
       "       'IPS Panel Full HD / Touchscreen 1920x1080',\n",
       "       'IPS Panel Touchscreen 1920x1200',\n",
       "       '4K Ultra HD / Touchscreen 3840x2160', 'Touchscreen 1366x768',\n",
       "       'IPS Panel Retina Display 2880x1800', 'IPS Panel 1366x768',\n",
       "       'IPS Panel Quad HD+ / Touchscreen 3200x1800',\n",
       "       'Quad HD+ / Touchscreen 3200x1800', '4K Ultra HD 3840x2160',\n",
       "       'IPS Panel 2560x1440', '1600x900', 'Touchscreen 2560x1440',\n",
       "       'IPS Panel Quad HD+ 2560x1440',\n",
       "       'IPS Panel Retina Display 2304x1440', '1440x900',\n",
       "       'IPS Panel Retina Display 2560x1600', 'Touchscreen 2256x1504',\n",
       "       '2560x1440', 'IPS Panel Touchscreen / 4K Ultra HD 3840x2160',\n",
       "       'IPS Panel Touchscreen 2560x1440', '1920x1080',\n",
       "       'Touchscreen 2400x1600', 'IPS Panel Full HD 2160x1440',\n",
       "       'Quad HD+ 3200x1800',\n",
       "       'IPS Panel 4K Ultra HD / Touchscreen 3840x2160',\n",
       "       'Touchscreen / Full HD 1920x1080',\n",
       "       'Touchscreen / 4K Ultra HD 3840x2160',\n",
       "       'IPS Panel Quad HD+ 3200x1800', 'IPS Panel Full HD 1920x1200',\n",
       "       'IPS Panel Touchscreen 1366x768'], dtype=object)"
      ]
     },
     "execution_count": 1812,
     "metadata": {},
     "output_type": "execute_result"
    }
   ],
   "source": [
    "\n",
    "df[\"ScreenResolution\"].unique()\n"
   ]
  },
  {
   "cell_type": "code",
   "execution_count": 1813,
   "metadata": {},
   "outputs": [
    {
     "data": {
      "text/plain": [
       "ScreenResolution\n",
       "Full HD 1920x1080                                346\n",
       "1366x768                                         208\n",
       "IPS Panel Full HD 1920x1080                      163\n",
       "IPS Panel Full HD / Touchscreen 1920x1080         37\n",
       "Full HD / Touchscreen 1920x1080                   32\n",
       "Touchscreen 1366x768                              15\n",
       "1600x900                                          11\n",
       "IPS Panel 4K Ultra HD 3840x2160                   10\n",
       "4K Ultra HD / Touchscreen 3840x2160                8\n",
       "Quad HD+ / Touchscreen 3200x1800                   8\n",
       "IPS Panel 4K Ultra HD / Touchscreen 3840x2160      8\n",
       "IPS Panel Retina Display 2304x1440                 6\n",
       "IPS Panel 1366x768                                 5\n",
       "IPS Panel Retina Display 2560x1600                 5\n",
       "4K Ultra HD 3840x2160                              5\n",
       "IPS Panel Quad HD+ / Touchscreen 3200x1800         4\n",
       "IPS Panel Touchscreen 2560x1440                    4\n",
       "Touchscreen 2560x1440                              4\n",
       "IPS Panel Touchscreen 1920x1200                    4\n",
       "Touchscreen 2256x1504                              3\n",
       "IPS Panel 2560x1440                                3\n",
       "IPS Panel Retina Display 2880x1800                 3\n",
       "1920x1080                                          3\n",
       "Touchscreen 2400x1600                              2\n",
       "2560x1440                                          2\n",
       "IPS Panel Touchscreen / 4K Ultra HD 3840x2160      2\n",
       "1440x900                                           2\n",
       "Quad HD+ 3200x1800                                 2\n",
       "IPS Panel Quad HD+ 2560x1440                       1\n",
       "IPS Panel Full HD 2160x1440                        1\n",
       "Touchscreen / Full HD 1920x1080                    1\n",
       "Touchscreen / 4K Ultra HD 3840x2160                1\n",
       "IPS Panel Quad HD+ 3200x1800                       1\n",
       "IPS Panel Full HD 1920x1200                        1\n",
       "IPS Panel Touchscreen 1366x768                     1\n",
       "Name: count, dtype: int64"
      ]
     },
     "execution_count": 1813,
     "metadata": {},
     "output_type": "execute_result"
    }
   ],
   "source": [
    "df[\"ScreenResolution\"].value_counts()"
   ]
  },
  {
   "cell_type": "code",
   "execution_count": 1814,
   "metadata": {},
   "outputs": [],
   "source": [
    "tactil=[]\n",
    "for i in df[\"ScreenResolution\"]:\n",
    "    if \"Touchscreen\" in i:\n",
    "        tactil.append(1)\n",
    "    else:\n",
    "        tactil.append(0)"
   ]
  },
  {
   "cell_type": "code",
   "execution_count": 1815,
   "metadata": {},
   "outputs": [],
   "source": [
    "df[\"pantalla_tactil\"]=tactil"
   ]
  },
  {
   "cell_type": "code",
   "execution_count": 1816,
   "metadata": {},
   "outputs": [
    {
     "data": {
      "text/html": [
       "<div>\n",
       "<style scoped>\n",
       "    .dataframe tbody tr th:only-of-type {\n",
       "        vertical-align: middle;\n",
       "    }\n",
       "\n",
       "    .dataframe tbody tr th {\n",
       "        vertical-align: top;\n",
       "    }\n",
       "\n",
       "    .dataframe thead th {\n",
       "        text-align: right;\n",
       "    }\n",
       "</style>\n",
       "<table border=\"1\" class=\"dataframe\">\n",
       "  <thead>\n",
       "    <tr style=\"text-align: right;\">\n",
       "      <th></th>\n",
       "      <th>pantalla_tactil</th>\n",
       "      <th>ScreenResolution</th>\n",
       "    </tr>\n",
       "  </thead>\n",
       "  <tbody>\n",
       "    <tr>\n",
       "      <th>0</th>\n",
       "      <td>0</td>\n",
       "      <td>1366x768</td>\n",
       "    </tr>\n",
       "    <tr>\n",
       "      <th>1</th>\n",
       "      <td>0</td>\n",
       "      <td>1366x768</td>\n",
       "    </tr>\n",
       "    <tr>\n",
       "      <th>2</th>\n",
       "      <td>0</td>\n",
       "      <td>Full HD 1920x1080</td>\n",
       "    </tr>\n",
       "    <tr>\n",
       "      <th>3</th>\n",
       "      <td>0</td>\n",
       "      <td>IPS Panel 4K Ultra HD 3840x2160</td>\n",
       "    </tr>\n",
       "    <tr>\n",
       "      <th>4</th>\n",
       "      <td>1</td>\n",
       "      <td>Full HD / Touchscreen 1920x1080</td>\n",
       "    </tr>\n",
       "  </tbody>\n",
       "</table>\n",
       "</div>"
      ],
      "text/plain": [
       "   pantalla_tactil                 ScreenResolution\n",
       "0                0                         1366x768\n",
       "1                0                         1366x768\n",
       "2                0                Full HD 1920x1080\n",
       "3                0  IPS Panel 4K Ultra HD 3840x2160\n",
       "4                1  Full HD / Touchscreen 1920x1080"
      ]
     },
     "execution_count": 1816,
     "metadata": {},
     "output_type": "execute_result"
    }
   ],
   "source": [
    "df[[\"pantalla_tactil\",\"ScreenResolution\"]].head()"
   ]
  },
  {
   "cell_type": "code",
   "execution_count": 1817,
   "metadata": {},
   "outputs": [],
   "source": [
    "lista_tamaño=df[\"ScreenResolution\"].str.split(\" \")\n",
    "tamaño_pantalla=[]\n",
    "for i in lista_tamaño:\n",
    "    tamaño_pantalla.append(i[-1])\n"
   ]
  },
  {
   "cell_type": "code",
   "execution_count": 1818,
   "metadata": {},
   "outputs": [],
   "source": [
    "df[\"tamaño_pantalla\"]=lista_tamaño"
   ]
  },
  {
   "cell_type": "code",
   "execution_count": 1819,
   "metadata": {},
   "outputs": [],
   "source": [
    "tamaño_num=[]\n",
    "for i in df[\"tamaño_pantalla\"]:\n",
    "    tamaño_num.append(i[-1])"
   ]
  },
  {
   "cell_type": "code",
   "execution_count": 1820,
   "metadata": {},
   "outputs": [],
   "source": [
    "df[\"tamaño_pantalla\"]=tamaño_num"
   ]
  },
  {
   "cell_type": "code",
   "execution_count": 1821,
   "metadata": {},
   "outputs": [
    {
     "data": {
      "text/plain": [
       "array(['1366x768', '1920x1080', '3840x2160', '1920x1200', '2880x1800',\n",
       "       '3200x1800', '2560x1440', '1600x900', '2304x1440', '1440x900',\n",
       "       '2560x1600', '2256x1504', '2400x1600', '2160x1440'], dtype=object)"
      ]
     },
     "execution_count": 1821,
     "metadata": {},
     "output_type": "execute_result"
    }
   ],
   "source": [
    "df[\"tamaño_pantalla\"].unique()"
   ]
  },
  {
   "cell_type": "code",
   "execution_count": 1822,
   "metadata": {},
   "outputs": [],
   "source": [
    "ancho_alto=df[\"tamaño_pantalla\"].str.split(\"x\")\n",
    "ancho_pantalla=[]\n",
    "alto_pantalla=[]\n",
    "for i in ancho_alto:\n",
    "    alto_pantalla.append(i[-1])\n",
    "    ancho_pantalla.append(i[0])"
   ]
  },
  {
   "cell_type": "code",
   "execution_count": 1823,
   "metadata": {},
   "outputs": [],
   "source": [
    "df[\"ancho_pantalla\"] =ancho_pantalla\n",
    "df[\"alto_pantalla\"] =alto_pantalla"
   ]
  },
  {
   "cell_type": "code",
   "execution_count": 1840,
   "metadata": {},
   "outputs": [],
   "source": [
    "df[[\"alto_pantalla\",\"ancho_pantalla\"]]=df[[\"alto_pantalla\",\"ancho_pantalla\"]].astype(float)"
   ]
  },
  {
   "cell_type": "code",
   "execution_count": 1842,
   "metadata": {},
   "outputs": [],
   "source": [
    "df[\"tamaño_pantalla\"]=df[\"alto_pantalla\"]*df[\"ancho_pantalla\"]"
   ]
  },
  {
   "cell_type": "markdown",
   "metadata": {},
   "source": [
    "Hemos sacado una columna para diferenciar entre tactil y no y hemos  multiplicado los numeros para obtener una columna numerica "
   ]
  },
  {
   "cell_type": "markdown",
   "metadata": {},
   "source": [
    "-------------"
   ]
  },
  {
   "cell_type": "code",
   "execution_count": 1825,
   "metadata": {},
   "outputs": [
    {
     "data": {
      "text/plain": [
       "array(['Inspiron 5567', 'X541NA (N4200/4GB/1TB/W10)', 'Portege Z30-C-1CW',\n",
       "       'Alienware 17', 'Latitude E7270', 'ZenBook Flip',\n",
       "       'X541UA-DM1897 (i3-6006U/4GB/256GB/FHD/Linux)', 'GP62M 7RDX',\n",
       "       'UX430UQ-GV209R (i7-7500U/8GB/256GB/GeForce', 'Rog GL553VE-FY052T',\n",
       "       'X540SA-RBPDN09 (N3710/4GB/1TB/W10)', 'Inspiron 5570',\n",
       "       'Tecra A50-C-1ZV', '15-cd005nv (A9-9420/6GB/256GB/Radeon',\n",
       "       'Satellite Pro', 'Latitude 5590', 'Yoga 520-14IKB',\n",
       "       'Aspire E5-575', 'Thinkpad P51', 'Aspire A517-51G', 'Yoga Book',\n",
       "       '17-ak002nv (A10-9620P/6GB/2TB/Radeon', 'EliteBook 820',\n",
       "       'Omen 17-W295', 'Precision M5520',\n",
       "       'X540UA-DM186 (i3-6006U/4GB/1TB/FHD/Linux)', 'Extensa EX2540-58KR',\n",
       "       'IdeaPad 310-15IKB', 'IdeaPad 320-15IAP', 'ProBook 640',\n",
       "       'Inspiron 3576', 'GL553VE-FY082T (i7-7700HQ/8GB/1TB',\n",
       "       'B51-80 (i7-6500U/8GB/1008GB/Radeon', 'Vostro 3568',\n",
       "       'Chromebook CB5-571-C1DZ', 'IdeaPad 320-15ABR', 'Inspiron 3552',\n",
       "       'X553SA-XX021T (N3050/4GB/500GB/W10)', 'Aspire 3', 'VivoBook S15',\n",
       "       'GL62M 7RD', 'Inspiron 5578',\n",
       "       '15-BS101nv (i7-8550U/8GB/256GB/FHD/W10)', 'ProBook 650',\n",
       "       'Chromebook X360', 'EliteBook 840', 'Inspiron 3567',\n",
       "       'IdeaPad 110-15ISK', 'MacBook Pro', '250 G6', 'EliteBook 850',\n",
       "       'Vostro 5568', '15-ra044nv (N3060/4GB/500GB/W10)', 'LifeBook A556',\n",
       "       'Tecra Z40-C-136', 'Thinkpad T460', 'Thinkpad T560',\n",
       "       'SmartBook 140', 'ThinkPad P51', 'Ideapad 310-15ISK', 'Aspire 5',\n",
       "       'L403NA-GA013TS (N3350/4GB/32GB/W10)', 'XPS 13',\n",
       "       'GL62M (i5-7300HQ/8GB/1TB', 'EliteBook Folio', 'Latitude 5480',\n",
       "       'IdeaPad 310-15ISK', 'Chromebook 14', 'Latitude E5570',\n",
       "       'Aspire A315-31', 'Blade Pro', 'IdeaPad 320-15AST',\n",
       "       'GT72VR Dominator', 'IdeaPad 320-15ISK',\n",
       "       'N23 (N3060/4GB/128GB/W10)', 'Thinkpad X270', 'Inspiron 7773',\n",
       "       'Inspiron 5379', 'Portege X30-D-10L',\n",
       "       '15-cb003na (i5-7300HQ/8GB/1TB',\n",
       "       'V330-15IKB (i7-8550U/8GB/256GB/FHD/W10)',\n",
       "       'V110-15ISK (i3-6006U/4GB/1TB/No',\n",
       "       'X553SA-XX031T (N3050/4GB/500GB/W10)', 'EliteBook x360',\n",
       "       'Probook 430', 'Inspiron 7567', 'IdeaPad Y700-15ACZ',\n",
       "       'Legion Y520-15IKBN', 'Latitude 3180', 'Probook 450',\n",
       "       'ThinkPad Yoga', 'ROG Strix', 'K756UX-T4340T (i5-7200U/8GB/500GB',\n",
       "       'GE63VR 7RE', 'Chromebook C731-C78G', 'GT73EVR 7RE',\n",
       "       'X555QG-DM242T (A10-9620P/4GB/1TB', 'ProBook 450',\n",
       "       'Tecra A40-C-1E5', 'Yoga 900-13ISK', 'Elitebook 1040',\n",
       "       'GE72 Apache', 'Thinkpad T470', 'Pro P2540UA-XS51', 'Probook 440',\n",
       "       'Zenbook 3', 'V310-15ISK (i3-6006U/4GB/500GB/No', 'Inspiron 7577',\n",
       "       'ProBook 470', 'Inspiron 3179',\n",
       "       'V320-17ISK (i3-6006U/4GB/500GB/FHD/No', 'VivoBook Max', 'Swift 3',\n",
       "       '15-AY023na (N3710/8GB/2TB/W10)', 'Latitude 3580', 'GT62VR 7RE',\n",
       "       'XPS 15', 'EliteBook 1040', 'GL62M 7RDX', 'ZBook 15u',\n",
       "       'Pavilion Power', 'Envy 13-AD007nv',\n",
       "       'UX410UA-GV350T (i5-8250U/8GB/256GB/FHD/W10)', 'Aspire 7',\n",
       "       'Zbook 15', 'Lifebook A557', 'Notebook 9', 'IdeaPad 320-15IKBN',\n",
       "       'Rog GL502VM-DS74', 'ThinkPad 13', 'Aspire A315-51',\n",
       "       'V110-15IKB (i5-7200U/4GB/128GB/W10)',\n",
       "       '15-bw011nv (A6-9220/4GB/1TB/FHD/W10)', 'Latitude 5580',\n",
       "       'Ideapad 700-15ISK', 'Elitebook 840', 'TravelMate P259-G2',\n",
       "       'GE73VR 7RE', 'Aspire E5-475', 'ThinkPad X1', 'Elitebook 820',\n",
       "       'Aspire R7', 'Aspire ES1-572', 'IdeaPad 510-15IKB',\n",
       "       'SP714-51 (i7-7Y75/8GB/256GB/FHD/W10)', 'ThinkPad P40', 'GL62 6QF',\n",
       "       'Latitude 7480', 'Aspire E5-774G', 'Portégé Z30-C-16K',\n",
       "       'FX502VM-DM105T (i7-6700HQ/8GB/1TB/GeForce',\n",
       "       'X542UQ-DM117 (i3-7100U/8GB/1TB/GeForce', 'Spectre Pro',\n",
       "       'Portege X30-D-10V', 'Rog Strix', 'Predator G9-793',\n",
       "       'SmartBook 130', 'Tecra A50-D-11D', 'Inspiron 7579',\n",
       "       '15-bw007nv (A10-9620P/6GB/128GB/Radeon', 'ThinkPad L570',\n",
       "       'Spin 3', 'Pro P2540UA-XO0198T', 'Rog G752VT-GC073T',\n",
       "       'V510-15IKB (i5-7200U/8GB/256GB/FHD/No',\n",
       "       'E402WA-GA010T (E2-6110/2GB/32GB/W10)', 'Latitude 3480',\n",
       "       'Stream 11-Y000na', 'L502NA-GO052T (N3350/4GB/128GB/W10)',\n",
       "       'Rog GL553VE-DS74', 'Inspiron 5579',\n",
       "       'X705UV-BX074T (i3-6006U/4GB/1TB/GeForce', 'GS43VR 7RE',\n",
       "       'IdeaPad 320-17IKBR', 'Gram 15Z975', 'ZBook 15', 'Latitude E7470',\n",
       "       'E402WA-GA007T (E2-6110/4GB/64GB/W10', 'Rog G752VL-UH71T',\n",
       "       'GP72MVR 7RFX', 'ThinkPad E570', 'ThinkPad T470s',\n",
       "       'X541NA-PD1003Y (N4200/4GB/500GB/W10)', 'Pavilion 15-AW003nv',\n",
       "       'Aspire 1', 'Envy 13-AB077cl', 'X541NA-GO414T (N3350/8GB/1TB/W10)',\n",
       "       'MacBook 12\"', 'ThinkPad T460s', 'Macbook Air',\n",
       "       '17-X047na (i3-6006U/8GB/1TB/W10)', 'IdeaPad Y900-17ISK',\n",
       "       'Swift SF114-31-P5HY', 'Spectre x360', 'Chromebook Flip',\n",
       "       'Thinkpad P50', 'Inspiron 5568', 'Inspiron 5770', 'Laptop MSI',\n",
       "       'GS73VR Stealth', 'SmartBook Edge', 'ThinkPad E480',\n",
       "       'Thinkpad Yoga', 'Yoga 500-15ISK', 'Latitude 7280',\n",
       "       'IdeaPad 320-15IKB', 'ZenBook UX305CA-UBM1', 'GT73VR Titan',\n",
       "       'Thinkpad T460p', 'Surface Laptop',\n",
       "       'V310-15IKB (i5-7200U/4GB/1TB/No', 'ThinkPad T470p',\n",
       "       'Q304UA-BHI5T11 (i5-7200U/6GB/1TB/FHD/W10)', 'Aspire ES1-523',\n",
       "       'Elitebook Folio', 'Portégé Z30-C-188', 'IdeaPad 100S-14IBR',\n",
       "       'B51-80 (i7-6500U/4GB/1008GB/FHD/W7)', 'Yoga 500-14ISK',\n",
       "       'Portege Z30-C-16J', '17-bs000nv I3', 'IdeaPad Y700-15ISK',\n",
       "       '15-bw009nv (A12-9720P/6GB/1TB/Radeon', 'Envy 13-ad009n',\n",
       "       'VivoBook Flip', '15-bs190od (i5-8250U/4GB/1TB/W10)',\n",
       "       '15-bs078cl (i7-7500U/8GB/2TB/W10)', 'Omen 17-W006na',\n",
       "       'Pro P2540UA-XO0192R', 'Portege Z30T-C-133', 'Tecra X40-D-10G',\n",
       "       'TravelMate B117-M', 'X751NV-TY001 (N4200/4GB/1TB/GeForce',\n",
       "       'Thinkpad E470', 'ProBook 440', 'Thinkpad L560', 'Elitebook 850',\n",
       "       '15-BS026nv (i5-7200U/8GB/256GB/Radeon', 'Inspiron 7570',\n",
       "       'Yoga 900S-12ISK', 'ThinkPad P70', 'Aspire A715-71G',\n",
       "       'Chromebook N23', 'Omen 17-AN010nv', 'K146 (N3350/4GB/32GB/W10)',\n",
       "       'Legion Y720-15IKB', 'ThinkPad X270', 'GP62 7RDX', 'Spin 5',\n",
       "       'UX510UX-CN269T (i7-7500U/8GB/256GB', 'Latitude 5289',\n",
       "       'Chromebook 15', 'ZBook 17', 'Pixelbook (Core', 'Leopard GP72M',\n",
       "       'Aspire A515-51G', 'VivoBook E403NA', 'Portege X30-D-10X',\n",
       "       'Rog GL702VS-GC095T', 'ThinkPad T570', 'Thinkpad X260',\n",
       "       'Thinkpad P71', 'ZenBook UX430UA',\n",
       "       'FX503VM-E4007T (i7-7700HQ/16GB/1TB', 'ZenBook UX430UN',\n",
       "       'Pavilion X360', 'Vostro 3559', '250 G5', 'ZBook Studio',\n",
       "       'MateBook X', 'Tecra Z50-C-144', 'Chromebook 3',\n",
       "       'V110-15ISK (i3-6006U/4GB/1TB/Radeon', 'ThinkPad T560',\n",
       "       'IdeaPad 520S-14IKB', 'Tecra Z40-C-12X', 'Flex 5', 'GP72M 7REX',\n",
       "       'Precision 7520', 'V110-15ISK (i5-6200U/4GB/500GB/W10)',\n",
       "       'ROG GL703VD-GC028T', 'Alienware 15',\n",
       "       'V330-15IKB (i5-8250U/4GB/256GB/FHD/W10)', 'GP72VR Leopard',\n",
       "       'Inspiron 5370', 'Precision 3520', 'Yoga 910-13IKB',\n",
       "       'Aspire A515-51G-59QF', 'ThinkPad L470', 'ProBook 430',\n",
       "       'Chromebook 13', 'Thinkpad E570', 'ThinkPad E580', 'GE63VR 7RF',\n",
       "       'Inspiron 5767', 'Ideapad 510S-13IKB', 'Yoga 920-13IKB',\n",
       "       'N42-20 Chromebook', 'Tecra Z50-C-140', 'Inspiron 3168',\n",
       "       'Tecra A40-C-1DF', 'Pavilion x360',\n",
       "       'V310-15IKB (i7-7500U/4GB/1TB/FHD/W10)', 'ZenBook UX530UQ-PRO',\n",
       "       'K147 (N3350/4GB/32GB/FHD/W10)', 'Thinkpad T570',\n",
       "       '15-bs011nv (i7-7500U/4GB/500GB/Radeon', 'Aspire E5-576G',\n",
       "       'Inspiron 7559', 'Yoga 730', 'Probook 470', 'ThinkPad T460',\n",
       "       'C740-C9QX (3205U/2GB/32GB/Chrome', 'Zenbook Flip',\n",
       "       '15-BA015wm (E2-7110/4GB/500GB/W10)',\n",
       "       '15-rb013nv (E2-9000e/4GB/500GB/W10)', 'Vostro 5468',\n",
       "       'Spectre 13-V100nv', 'R417NA-RS01 (N3350/4GB/32GB/W10)',\n",
       "       'FlexBook Edge', '15-bs018nq (i3-6006U/4GB/500GB/FHD/No',\n",
       "       'GT62VR 6RD', 'Latitude E5270', 'Vivobook E200HA',\n",
       "       'Omen 17-w207nv', 'V110-15ISK (i3-6006U/4GB/500GB/W10)',\n",
       "       'X541UV-DM1439T (i3-7100U/6GB/256GB/GeForce', 'GS60 Ghost',\n",
       "       'LifeBook A557', 'Rog G701VIK-BA060T', 'Zenbook UX410UA-GV027T',\n",
       "       'G752VY-GC162T (i7-6700HQ/16GB/1TB', 'Rog GL753VE-DS74',\n",
       "       'Thinkpad X1', 'Pavilion 15-CK000nv', 'Zenbook UX430UA',\n",
       "       'Vivobook Max', 'B51-80 (i5-6200U/8GB/1TB/Radeon',\n",
       "       'FX553VD-FY647T (i7-7700HQ/8GB/256GB/GeForce',\n",
       "       '15-bs015dx (i5-7200U/8GB/1TB/W10)',\n",
       "       '15-ay047nv (i3-6006U/6GB/1TB/Radeon',\n",
       "       'V110-15IAP (N3350/4GB/128GB/No', 'IdeaPad 300-17ISK',\n",
       "       'V310-15IKB (i5-7200U/4GB/1TB/FHD/W10)',\n",
       "       '17-BS037cl (i3-6006U/8GB/1TB/W10)',\n",
       "       'V110-15IAP (N3350/4GB/1TB/No', 'V310-15IKB (i5-7200U/8GB/1TB',\n",
       "       'Omen 15-AX205na', 'V142 (X5-Z8350/2GB/32GB/W10)', 'Omen -',\n",
       "       'ZenBook UX510UX-CN211T', 'IdeaPad 320-17IKB',\n",
       "       'A541NA-GO342 (N3350/4GB/500GB/Linux)',\n",
       "       '15-BS103nv (i5-8250U/6GB/256GB/Radeon', 'Yoga 510-15IKB',\n",
       "       'FX753VE-GC093 (i7-7700HQ/12GB/1TB/GeForce', 'Tecra A50-D-11M',\n",
       "       'Portege X20W-D-10V', 'V110-15ISK (i3-6006U/4GB/128GB/W10)',\n",
       "       'Latitude 3380', 'Yoga 720-13IKB', 'GS40 Phantom',\n",
       "       'X541NA-GO121 (N4200/4GB/1TB/Linux)', 'Latitude 3570',\n",
       "       'Envy 17-U275cl', 'IdeaPad 500-15ISK', 'GS63VR 7RF',\n",
       "       'FX753VD-GC071T (i7-7700HQ/8GB/1TB/GeForce',\n",
       "       'FX753VD-GC086T (i5-7300HQ/8GB/1TB',\n",
       "       'X556UJ-XO044T (i7-6500U/4GB/500GB/GeForce', 'Inspiron 5577',\n",
       "       '17-BS092ND (i3-6006U/8GB/256GB/W10)', 'Pro P2540UA-AB51',\n",
       "       '255 G6', 'ZenBook Pro', 'Portege A30-C-1CZ', 'Rog GL702VM-GC017T',\n",
       "       'IdeaPad 320-14IAP', 'GL72M 7REX',\n",
       "       '15-bs053od (i7-7500U/6GB/1TB/W10)', 'Aspire F5-573G',\n",
       "       'IdeaPad 510s-14IKB', 'Noteb Pav', 'Aspire ES1-531',\n",
       "       'ZenBook UX310UA-WB71', 'GE72MVR 7RG',\n",
       "       'V330-15IKB (i5-8250U/8GB/256GB/FHD/W10)', 'GE62 Apache',\n",
       "       'IdeaPad 520s-14IKB', 'V110-15ISK (i5-6200U/4GB/128GB/W10)',\n",
       "       'Ideapad 320-15IKBN', 'FX550IK-DM018T (FX-9830P/8GB/1TB/Radeon',\n",
       "       'X541NA (N3350/4GB/1TB/FHD/W10)', 'Rog GL702VM-GC354T',\n",
       "       'VivoBook X540YA-XX519T', 'Aspire F5-573G-510L',\n",
       "       '15-AC110nv (i7-6500U/6GB/1TB/Radeon', 'Rog GL502VS',\n",
       "       'TravelMate P238-M', 'Pavilion 15-cb003nv', 'Predator 17',\n",
       "       'ROG G701VI', 'Mi Notebook', 'GT80S 6QF-074US',\n",
       "       'Chromebook C910-C2ST', '250 G4', 'Tecra Z40-C-161', 'Nitro 5',\n",
       "       'GS73VR 7RG', 'V310-15ISK (i5-7200U/8GB/1TB', 'ThinkPad E470',\n",
       "       'ROG G752VSK-GC493T', '17-bs001nv (i5-7200U/6GB/2TB/Radeon',\n",
       "       'Probook 650', 'X541NA-GO020T (N3350/4GB/1TB/W10)', 'Probook 640',\n",
       "       'Swift 7', 'Tecra A40-C-1KF', 'VivoBook Pro',\n",
       "       '15-bw003nv (A9-Series-9420/4GB/256GB/FHD/W10)',\n",
       "       'FX753VE-GC155T (i7-7700HQ/16GB/1TB', 'Tecra A50-C-21G',\n",
       "       'Aspire ES1-533', 'Yoga 720-15IKB', 'Lapbook 15,6',\n",
       "       'IdeaPad 720S-13IKB', 'GE72VR Apache', 'Zbook 17', 'Blade Stealth',\n",
       "       'Omen 15-ce006nv', 'MacBook Air', 'LapBook 15.6\"',\n",
       "       '15-bs025nv (i5-7200U/8GB/256GB/W10)', 'Zenbook UX330UA-AH5Q',\n",
       "       'ProBook x360', '17-ak001nv (A6-9220/4GB/500GB/Radeon',\n",
       "       'UX410UA-GV097T (i3-7100U/4GB/256GB/FHD/W10)',\n",
       "       'Pavilion 15-BC000nv', 'Precision 5520', 'Vostro 5370',\n",
       "       'Smartbook 142', 'Thinkpad T460s',\n",
       "       '15-ba043na (A12-9700P/8GB/2TB/W10)', 'Thinkpad 13',\n",
       "       'Portege Z30-C-1CV', 'Stream 14-AX000nv',\n",
       "       'FX553VD-DM627T (i5-7300HQ/8GB/1TB', 'IdeaPad Y910-17ISK',\n",
       "       'Rog G752VL-GC088D', 'GS70 Stealth', 'Envy 13-AB002nv',\n",
       "       'GP62M 7REX', 'SmartBook 141', 'Zenbook UX510UW-FI095T',\n",
       "       'Portege Z30-C-16L', 'Rog GL753VD-GC082T',\n",
       "       'TMX349-G2-M-50FS (i5-7200U/8GB/256GB/FHD/W10)', 'Tecra Z50-D-10E',\n",
       "       'X541NA (N3350/4GB/1TB/Linux)',\n",
       "       'X751SV-TY001T (N3710/4GB/1TB/GeForce', 'Inspiron 5368',\n",
       "       '15-bw002nv (A6-9220/4GB/256GB/Radeon', 'Rog GL552VW-CN470T',\n",
       "       'Inspiron 7378', 'Yoga 500-14IBD',\n",
       "       'X505BP-BR019T (A9-9420/4GB/1TB/Radeon',\n",
       "       'V310-15ISK (i3-6006U/4GB/128GB/FHD/No', 'ThinkPad T470',\n",
       "       '14-am079na (N3710/8GB/2TB/W10)',\n",
       "       'V110-15ISK (i5-6200U/4GB/500GB/No', 'Ideapad 320-15IKBR',\n",
       "       'Latitude E5470', 'Thinkpad P51s', 'Chromebook C738T-C2EJ',\n",
       "       'Portege Z30-C-16H'], dtype=object)"
      ]
     },
     "execution_count": 1825,
     "metadata": {},
     "output_type": "execute_result"
    }
   ],
   "source": [
    "df[\"Product\"].unique() #MArca-Modelo"
   ]
  },
  {
   "cell_type": "markdown",
   "metadata": {},
   "source": [
    "Esta columna en principio no la vamos a usar ya que la mayoría de la información util como la marca o la memoria ya la tenemos."
   ]
  },
  {
   "cell_type": "markdown",
   "metadata": {},
   "source": [
    "-----------------"
   ]
  },
  {
   "cell_type": "code",
   "execution_count": 1826,
   "metadata": {},
   "outputs": [
    {
     "data": {
      "text/plain": [
       "0              Intel Core i7 7500U 2.7GHz\n",
       "1    Intel Pentium Quad Core N4200 1.1GHz\n",
       "2              Intel Core i5 6200U 2.3GHz\n",
       "3             Intel Core i7 7700HQ 2.8GHz\n",
       "4              Intel Core i5 6300U 2.4GHz\n",
       "Name: Cpu, dtype: object"
      ]
     },
     "execution_count": 1826,
     "metadata": {},
     "output_type": "execute_result"
    }
   ],
   "source": [
    "df[\"Cpu\"].head()"
   ]
  },
  {
   "cell_type": "code",
   "execution_count": 1827,
   "metadata": {},
   "outputs": [],
   "source": [
    "lista1=df['Cpu'].str.split(\" \")"
   ]
  },
  {
   "cell_type": "markdown",
   "metadata": {},
   "source": [
    "Una vez separados los str de Cpu seleccionamos velocidad del procesador y marca del fabricante como datos relevantes que pueden influir en el precio del portatil. Creamos dos nuevas columns, una numerica y otra categorica"
   ]
  },
  {
   "cell_type": "code",
   "execution_count": 1828,
   "metadata": {},
   "outputs": [],
   "source": [
    "marca_fabricante=[]\n",
    "velocidad_procesador=[]\n",
    "for i in lista1:\n",
    "    marca_fabricante.append(i[0])\n",
    "    velocidad_procesador.append(i[-1])\n",
    "    "
   ]
  },
  {
   "cell_type": "code",
   "execution_count": 1829,
   "metadata": {},
   "outputs": [],
   "source": [
    "df[\"marca_fabricante\"]=marca_fabricante\n",
    "df[\"velocidad_procesador\"]=velocidad_procesador"
   ]
  },
  {
   "cell_type": "code",
   "execution_count": 1838,
   "metadata": {},
   "outputs": [],
   "source": [
    "df[\"velocidad_procesador\"]=eliminar_to_num(df[\"velocidad_procesador\"],\"GHz\",float)"
   ]
  },
  {
   "cell_type": "markdown",
   "metadata": {},
   "source": [
    "---------------"
   ]
  },
  {
   "cell_type": "code",
   "execution_count": 1832,
   "metadata": {},
   "outputs": [
    {
     "data": {
      "text/plain": [
       "array(['AMD Radeon R7 M445', 'Intel HD Graphics 505',\n",
       "       'Intel HD Graphics 520', 'Nvidia GeForce GTX 1070',\n",
       "       'Nvidia GeForce GT 940MX', 'Nvidia GeForce GTX 1050',\n",
       "       'Nvidia GeForce 940MX', 'Nvidia GeForce GTX 1050 Ti',\n",
       "       'Intel HD Graphics 405', 'Intel UHD Graphics 620',\n",
       "       'AMD Radeon 530', 'Intel HD Graphics 510', 'Intel HD Graphics 620',\n",
       "       'Nvidia Quadro M2200M', 'Nvidia GeForce MX150',\n",
       "       'Intel HD Graphics 400', 'Nvidia Quadro M1200',\n",
       "       'Nvidia GeForce 920MX', 'Intel HD Graphics 500', 'AMD Radeon 520',\n",
       "       'AMD Radeon R5 M330', 'AMD Radeon R5 M420X', 'Intel HD Graphics',\n",
       "       'Intel HD Graphics 630', 'AMD Radeon R5 M430',\n",
       "       'Intel Iris Pro Graphics', 'Nvidia GeForce GTX 940MX',\n",
       "       'Intel HD Graphics 515', 'Nvidia GeForce GTX 1080',\n",
       "       'AMD Radeon R2 Graphics', 'Nvidia GeForce 150MX', 'AMD Radeon R5',\n",
       "       'Nvidia GeForce GTX 1050Ti', 'AMD Radeon R9 M385',\n",
       "       'Nvidia GeForce 930MX', 'Nvidia GeForce GTX 1060',\n",
       "       'Nvidia GeForce GTX 950M', 'Nvidia GeForce GTX 960M',\n",
       "       'Intel HD Graphics 615', 'AMD FirePro W4190M ', 'AMD Radeon R4',\n",
       "       'Nvidia Quadro M500M', 'AMD Radeon RX 580',\n",
       "       'Nvidia GeForce GTX 970M', 'AMD Radeon R7 M365X', 'AMD Radeon R2',\n",
       "       'Nvidia Quadro M1000M', 'Nvidia GeForce GTX 965M',\n",
       "       'Nvidia GeForce MX130', 'AMD Radeon R5 M420', 'AMD Radeon R7 M440',\n",
       "       'Intel HD Graphics 6000', 'Nvidia GeForce GTX 980M',\n",
       "       'Nvidia Quadro M2000M', 'Intel Iris Plus Graphics 650',\n",
       "       'AMD Radeon RX 550', 'Intel Iris Plus Graphics 640',\n",
       "       'Intel HD Graphics 5300', 'AMD Radeon R5 520',\n",
       "       'Nvidia GeForce 960M', 'Nvidia GeForce 930M',\n",
       "       'Nvidia Quadro 3000M', 'Nvidia GeForce GTX 1070M',\n",
       "       'Nvidia Quadro M620M', 'AMD Radeon R5 M315',\n",
       "       'Nvidia GeForce 920MX ', 'Intel HD Graphics 620 ',\n",
       "       'AMD Radeon Pro 555', 'Nvidia Quadro M620',\n",
       "       'Nvidia GeForce 930MX ', 'Nvidia GeForce GTX 960<U+039C>',\n",
       "       'Nvidia Quadro M2200', 'Nvidia GeForce 920M',\n",
       "       'Nvidia Quadro M3000M', 'AMD R17M-M1-70',\n",
       "       'Nvidia GeForce GTX 940M', 'AMD Radeon R7 M460',\n",
       "       'AMD Radeon R7 M360', 'AMD Radeon R4 Graphics',\n",
       "       'AMD Radeon Pro 455', 'AMD Radeon RX 560',\n",
       "       'Intel Iris Graphics 550', 'Nvidia GTX 980 SLI', 'AMD R4 Graphics',\n",
       "       'Nvidia GeForce GTX1050 Ti', 'Intel Iris Graphics 540',\n",
       "       'AMD FirePro W6150M', 'AMD Radeon R7 Graphics', 'AMD Radeon R7',\n",
       "       'Intel Graphics 620', 'Nvidia Quadro M520M'], dtype=object)"
      ]
     },
     "execution_count": 1832,
     "metadata": {},
     "output_type": "execute_result"
    }
   ],
   "source": [
    "df[\"Gpu\"].unique()\n",
    "# dividimos por str que tengan Nvidia,Intel, AMD"
   ]
  },
  {
   "cell_type": "code",
   "execution_count": 1833,
   "metadata": {},
   "outputs": [],
   "source": [
    "gpu_str=df['Gpu'].str.split(\" \")"
   ]
  },
  {
   "cell_type": "code",
   "execution_count": 1834,
   "metadata": {},
   "outputs": [],
   "source": [
    "tipo_gpu=[]\n",
    "for i in gpu_str:\n",
    "    tipo_gpu.append(i[0])"
   ]
  },
  {
   "cell_type": "code",
   "execution_count": 1835,
   "metadata": {},
   "outputs": [],
   "source": [
    "df[\"tipo_gpu\"]=tipo_gpu"
   ]
  },
  {
   "cell_type": "code",
   "execution_count": 1836,
   "metadata": {},
   "outputs": [
    {
     "data": {
      "text/plain": [
       "0         AMD\n",
       "1       Intel\n",
       "2       Intel\n",
       "3      Nvidia\n",
       "4       Intel\n",
       "        ...  \n",
       "907     Intel\n",
       "908     Intel\n",
       "909       AMD\n",
       "910     Intel\n",
       "911       AMD\n",
       "Name: tipo_gpu, Length: 912, dtype: object"
      ]
     },
     "execution_count": 1836,
     "metadata": {},
     "output_type": "execute_result"
    }
   ],
   "source": [
    "df[\"tipo_gpu\"]"
   ]
  },
  {
   "cell_type": "code",
   "execution_count": null,
   "metadata": {},
   "outputs": [],
   "source": [
    "str_num(df[\"tipo_gpu\"])"
   ]
  },
  {
   "cell_type": "markdown",
   "metadata": {},
   "source": [
    "----------------"
   ]
  },
  {
   "cell_type": "code",
   "execution_count": 1663,
   "metadata": {},
   "outputs": [
    {
     "name": "stdout",
     "output_type": "stream",
     "text": [
      "<class 'pandas.core.frame.DataFrame'>\n",
      "RangeIndex: 912 entries, 0 to 911\n",
      "Data columns (total 26 columns):\n",
      " #   Column                   Non-Null Count  Dtype  \n",
      "---  ------                   --------------  -----  \n",
      " 0   id                       912 non-null    int64  \n",
      " 1   laptop_ID                912 non-null    int64  \n",
      " 2   Company                  912 non-null    object \n",
      " 3   Product                  912 non-null    object \n",
      " 4   TypeName                 912 non-null    object \n",
      " 5   Inches                   912 non-null    float64\n",
      " 6   ScreenResolution         912 non-null    object \n",
      " 7   Cpu                      912 non-null    object \n",
      " 8   Ram                      912 non-null    int64  \n",
      " 9   Memory                   912 non-null    object \n",
      " 10  Gpu                      912 non-null    object \n",
      " 11  OpSys                    912 non-null    object \n",
      " 12  Weight                   912 non-null    float64\n",
      " 13  Price_euros              912 non-null    float64\n",
      " 14  SSD                      912 non-null    int64  \n",
      " 15  HDD                      912 non-null    int64  \n",
      " 16  Flash Storage            912 non-null    int64  \n",
      " 17  Hybrid                   912 non-null    int64  \n",
      " 18  Total_Almacenamiento_GB  912 non-null    int64  \n",
      " 19  pantalla_tactil          912 non-null    int64  \n",
      " 20  tamaño_pantalla          912 non-null    object \n",
      " 21  ancho_pantalla           912 non-null    float64\n",
      " 22  alto_pantalla            912 non-null    float64\n",
      " 23  marca_fabricante         912 non-null    object \n",
      " 24  velocidad_procesador     912 non-null    float64\n",
      " 25  tipo_gpu                 912 non-null    object \n",
      "dtypes: float64(6), int64(9), object(11)\n",
      "memory usage: 185.4+ KB\n"
     ]
    }
   ],
   "source": [
    "df.info()"
   ]
  },
  {
   "cell_type": "markdown",
   "metadata": {},
   "source": [
    "-----------"
   ]
  },
  {
   "cell_type": "code",
   "execution_count": 1844,
   "metadata": {},
   "outputs": [],
   "source": [
    "company_price = df.groupby('Company')['Price_euros'].describe()\n",
    "company_price = company_price['50%'].reset_index()"
   ]
  },
  {
   "cell_type": "code",
   "execution_count": 1846,
   "metadata": {},
   "outputs": [],
   "source": [
    "company_price.rename(columns={'50%':'company_price'},inplace=True)\n",
    "type_price = df.groupby('TypeName')['Price_euros'].describe()\n",
    "type_price = type_price['50%'].reset_index()\n",
    "type_price.rename(columns={'50%':'type_price'},inplace=True)"
   ]
  },
  {
   "cell_type": "code",
   "execution_count": 1848,
   "metadata": {},
   "outputs": [
    {
     "data": {
      "text/html": [
       "<div>\n",
       "<style scoped>\n",
       "    .dataframe tbody tr th:only-of-type {\n",
       "        vertical-align: middle;\n",
       "    }\n",
       "\n",
       "    .dataframe tbody tr th {\n",
       "        vertical-align: top;\n",
       "    }\n",
       "\n",
       "    .dataframe thead th {\n",
       "        text-align: right;\n",
       "    }\n",
       "</style>\n",
       "<table border=\"1\" class=\"dataframe\">\n",
       "  <thead>\n",
       "    <tr style=\"text-align: right;\">\n",
       "      <th></th>\n",
       "      <th>TypeName</th>\n",
       "      <th>type_price</th>\n",
       "    </tr>\n",
       "  </thead>\n",
       "  <tbody>\n",
       "    <tr>\n",
       "      <th>0</th>\n",
       "      <td>0</td>\n",
       "      <td>689.0</td>\n",
       "    </tr>\n",
       "    <tr>\n",
       "      <th>1</th>\n",
       "      <td>1</td>\n",
       "      <td>1498.5</td>\n",
       "    </tr>\n",
       "    <tr>\n",
       "      <th>2</th>\n",
       "      <td>2</td>\n",
       "      <td>1495.0</td>\n",
       "    </tr>\n",
       "    <tr>\n",
       "      <th>3</th>\n",
       "      <td>3</td>\n",
       "      <td>1159.0</td>\n",
       "    </tr>\n",
       "    <tr>\n",
       "      <th>4</th>\n",
       "      <td>4</td>\n",
       "      <td>269.0</td>\n",
       "    </tr>\n",
       "    <tr>\n",
       "      <th>5</th>\n",
       "      <td>5</td>\n",
       "      <td>2239.0</td>\n",
       "    </tr>\n",
       "  </tbody>\n",
       "</table>\n",
       "</div>"
      ],
      "text/plain": [
       "   TypeName  type_price\n",
       "0         0       689.0\n",
       "1         1      1498.5\n",
       "2         2      1495.0\n",
       "3         3      1159.0\n",
       "4         4       269.0\n",
       "5         5      2239.0"
      ]
     },
     "execution_count": 1848,
     "metadata": {},
     "output_type": "execute_result"
    }
   ],
   "source": [
    "type_price"
   ]
  },
  {
   "cell_type": "markdown",
   "metadata": {},
   "source": [
    "Vamos a crear dos DataFrame, uno de variables categóricas y otro de numéricas. De este modo podremos analizar y crear los modelos de forma más sencilla"
   ]
  },
  {
   "cell_type": "code",
   "execution_count": 1664,
   "metadata": {},
   "outputs": [],
   "source": [
    "df_cat=df[['Company','TypeName','OpSys','pantalla_tactil','marca_fabricante','tipo_gpu','Price_euros']]\n",
    "df_num=df[['Inches','ancho_pantalla', 'alto_pantalla','Ram','Total_Almacenamiento_GB','Weight','velocidad_procesador','Price_euros']]"
   ]
  },
  {
   "cell_type": "markdown",
   "metadata": {},
   "source": [
    "--------------"
   ]
  },
  {
   "cell_type": "markdown",
   "metadata": {},
   "source": [
    "## **ANÁLISIS**"
   ]
  },
  {
   "cell_type": "code",
   "execution_count": 1665,
   "metadata": {},
   "outputs": [
    {
     "data": {
      "text/plain": [
       "<Axes: >"
      ]
     },
     "execution_count": 1665,
     "metadata": {},
     "output_type": "execute_result"
    },
    {
     "data": {
      "image/png": "[encoded data removed]",
      "text/plain": [
       "<Figure size 640x480 with 2 Axes>"
      ]
     },
     "metadata": {},
     "output_type": "display_data"
    }
   ],
   "source": [
    "sns.heatmap(df_num.corr(),annot=True,cmap=\"coolwarm\")"
   ]
  },
  {
   "cell_type": "markdown",
   "metadata": {},
   "source": [
    "Viendo la correlación entre las variables numericas podríamos crear el modelo con el RAM , ANCHO y ALTO"
   ]
  },
  {
   "cell_type": "code",
   "execution_count": 1666,
   "metadata": {},
   "outputs": [
    {
     "data": {
      "text/html": [
       "<div>\n",
       "<style scoped>\n",
       "    .dataframe tbody tr th:only-of-type {\n",
       "        vertical-align: middle;\n",
       "    }\n",
       "\n",
       "    .dataframe tbody tr th {\n",
       "        vertical-align: top;\n",
       "    }\n",
       "\n",
       "    .dataframe thead th {\n",
       "        text-align: right;\n",
       "    }\n",
       "</style>\n",
       "<table border=\"1\" class=\"dataframe\">\n",
       "  <thead>\n",
       "    <tr style=\"text-align: right;\">\n",
       "      <th></th>\n",
       "      <th>Inches</th>\n",
       "      <th>ancho_pantalla</th>\n",
       "      <th>alto_pantalla</th>\n",
       "      <th>Ram</th>\n",
       "      <th>Total_Almacenamiento_GB</th>\n",
       "      <th>Weight</th>\n",
       "      <th>velocidad_procesador</th>\n",
       "      <th>Price_euros</th>\n",
       "    </tr>\n",
       "  </thead>\n",
       "  <tbody>\n",
       "    <tr>\n",
       "      <th>count</th>\n",
       "      <td>912.000000</td>\n",
       "      <td>912.000000</td>\n",
       "      <td>912.000000</td>\n",
       "      <td>912.000000</td>\n",
       "      <td>912.000000</td>\n",
       "      <td>912.000000</td>\n",
       "      <td>912.000000</td>\n",
       "      <td>912.000000</td>\n",
       "    </tr>\n",
       "    <tr>\n",
       "      <th>mean</th>\n",
       "      <td>15.011404</td>\n",
       "      <td>1890.050439</td>\n",
       "      <td>1067.899123</td>\n",
       "      <td>8.188596</td>\n",
       "      <td>603.372807</td>\n",
       "      <td>2.032112</td>\n",
       "      <td>2.287895</td>\n",
       "      <td>1108.122873</td>\n",
       "    </tr>\n",
       "    <tr>\n",
       "      <th>std</th>\n",
       "      <td>1.411744</td>\n",
       "      <td>506.007321</td>\n",
       "      <td>290.338307</td>\n",
       "      <td>4.899827</td>\n",
       "      <td>468.827204</td>\n",
       "      <td>0.653772</td>\n",
       "      <td>0.513277</td>\n",
       "      <td>714.597741</td>\n",
       "    </tr>\n",
       "    <tr>\n",
       "      <th>min</th>\n",
       "      <td>10.100000</td>\n",
       "      <td>1366.000000</td>\n",
       "      <td>768.000000</td>\n",
       "      <td>2.000000</td>\n",
       "      <td>8.000000</td>\n",
       "      <td>0.690000</td>\n",
       "      <td>0.900000</td>\n",
       "      <td>174.000000</td>\n",
       "    </tr>\n",
       "    <tr>\n",
       "      <th>25%</th>\n",
       "      <td>14.000000</td>\n",
       "      <td>1366.000000</td>\n",
       "      <td>768.000000</td>\n",
       "      <td>4.000000</td>\n",
       "      <td>256.000000</td>\n",
       "      <td>1.500000</td>\n",
       "      <td>2.000000</td>\n",
       "      <td>589.000000</td>\n",
       "    </tr>\n",
       "    <tr>\n",
       "      <th>50%</th>\n",
       "      <td>15.600000</td>\n",
       "      <td>1920.000000</td>\n",
       "      <td>1080.000000</td>\n",
       "      <td>8.000000</td>\n",
       "      <td>500.000000</td>\n",
       "      <td>2.040000</td>\n",
       "      <td>2.500000</td>\n",
       "      <td>949.000000</td>\n",
       "    </tr>\n",
       "    <tr>\n",
       "      <th>75%</th>\n",
       "      <td>15.600000</td>\n",
       "      <td>1920.000000</td>\n",
       "      <td>1080.000000</td>\n",
       "      <td>8.000000</td>\n",
       "      <td>1024.000000</td>\n",
       "      <td>2.300000</td>\n",
       "      <td>2.700000</td>\n",
       "      <td>1458.500000</td>\n",
       "    </tr>\n",
       "    <tr>\n",
       "      <th>max</th>\n",
       "      <td>18.400000</td>\n",
       "      <td>3840.000000</td>\n",
       "      <td>2160.000000</td>\n",
       "      <td>32.000000</td>\n",
       "      <td>2560.000000</td>\n",
       "      <td>4.600000</td>\n",
       "      <td>3.600000</td>\n",
       "      <td>6099.000000</td>\n",
       "    </tr>\n",
       "  </tbody>\n",
       "</table>\n",
       "</div>"
      ],
      "text/plain": [
       "           Inches  ancho_pantalla  alto_pantalla         Ram  \\\n",
       "count  912.000000      912.000000     912.000000  912.000000   \n",
       "mean    15.011404     1890.050439    1067.899123    8.188596   \n",
       "std      1.411744      506.007321     290.338307    4.899827   \n",
       "min     10.100000     1366.000000     768.000000    2.000000   \n",
       "25%     14.000000     1366.000000     768.000000    4.000000   \n",
       "50%     15.600000     1920.000000    1080.000000    8.000000   \n",
       "75%     15.600000     1920.000000    1080.000000    8.000000   \n",
       "max     18.400000     3840.000000    2160.000000   32.000000   \n",
       "\n",
       "       Total_Almacenamiento_GB      Weight  velocidad_procesador  Price_euros  \n",
       "count               912.000000  912.000000            912.000000   912.000000  \n",
       "mean                603.372807    2.032112              2.287895  1108.122873  \n",
       "std                 468.827204    0.653772              0.513277   714.597741  \n",
       "min                   8.000000    0.690000              0.900000   174.000000  \n",
       "25%                 256.000000    1.500000              2.000000   589.000000  \n",
       "50%                 500.000000    2.040000              2.500000   949.000000  \n",
       "75%                1024.000000    2.300000              2.700000  1458.500000  \n",
       "max                2560.000000    4.600000              3.600000  6099.000000  "
      ]
     },
     "execution_count": 1666,
     "metadata": {},
     "output_type": "execute_result"
    }
   ],
   "source": [
    "df_num.describe()"
   ]
  },
  {
   "cell_type": "markdown",
   "metadata": {},
   "source": [
    "---------------"
   ]
  },
  {
   "cell_type": "markdown",
   "metadata": {},
   "source": [
    "# **MODELOS SUPERVISADOS**"
   ]
  },
  {
   "cell_type": "code",
   "execution_count": 1667,
   "metadata": {},
   "outputs": [],
   "source": [
    "from sklearn.model_selection import train_test_split\n",
    "from sklearn.preprocessing import PolynomialFeatures, StandardScaler, MinMaxScaler\n",
    "from sklearn.linear_model import LinearRegression, Ridge, Lasso\n",
    "from sklearn.metrics import mean_absolute_error, mean_squared_error"
   ]
  },
  {
   "cell_type": "code",
   "execution_count": 1668,
   "metadata": {},
   "outputs": [
    {
     "data": {
      "text/plain": [
       "Index(['Inches', 'ancho_pantalla', 'alto_pantalla', 'Ram',\n",
       "       'Total_Almacenamiento_GB', 'Weight', 'velocidad_procesador',\n",
       "       'Price_euros'],\n",
       "      dtype='object')"
      ]
     },
     "execution_count": 1668,
     "metadata": {},
     "output_type": "execute_result"
    }
   ],
   "source": [
    "df_num.columns"
   ]
  },
  {
   "cell_type": "code",
   "execution_count": 1669,
   "metadata": {},
   "outputs": [],
   "source": [
    "X1=df_num[['Ram','velocidad_procesador','alto_pantalla','ancho_pantalla']]\n",
    "y1=df[\"Price_euros\"]"
   ]
  },
  {
   "cell_type": "code",
   "execution_count": 1670,
   "metadata": {},
   "outputs": [
    {
     "name": "stdout",
     "output_type": "stream",
     "text": [
      "(729, 4)\n",
      "(183, 4)\n",
      "(729,)\n",
      "(183,)\n"
     ]
    }
   ],
   "source": [
    "X1_train, X1_test, y1_train, y1_test = train_test_split(X1, y1, test_size=0.2, random_state=42)\n",
    "print(X1_train.shape)\n",
    "print(X1_test.shape)\n",
    "print(y1_train.shape)\n",
    "print(y1_test.shape)"
   ]
  },
  {
   "cell_type": "code",
   "execution_count": 1671,
   "metadata": {},
   "outputs": [],
   "source": [
    "scaler = StandardScaler()\n",
    "\n",
    "X_train_scal = scaler.fit_transform(X1_train)\n",
    "X_test_scal = scaler.transform(X1_test)"
   ]
  },
  {
   "cell_type": "code",
   "execution_count": 1672,
   "metadata": {},
   "outputs": [],
   "source": [
    "from sklearn import metrics\n",
    "def train_evaluate_model(model, X_train, y_train, X_test, y_test):\n",
    "    model.fit(X_train, y_train)\n",
    "    y_pred = model.predict(X_test)\n",
    "    print(\"R2 score\", model.score(X_test, y_test))\n",
    "    print(\"MAE\", metrics.mean_absolute_error(y_test, y_pred))\n",
    "    print(\"MSE\", metrics.mean_squared_error(y_test, y_pred))\n",
    "    print(\"RMSE\", metrics.mean_squared_error(y_test, y_pred) ** (1/2))\n",
    "    return model"
   ]
  },
  {
   "cell_type": "code",
   "execution_count": 1673,
   "metadata": {},
   "outputs": [
    {
     "name": "stdout",
     "output_type": "stream",
     "text": [
      "R2 score 0.631247047197426\n",
      "MAE 272.8416941487231\n",
      "MSE 159266.65059099323\n",
      "RMSE 399.0822604313467\n"
     ]
    },
    {
     "data": {
      "text/html": [
       "<style>#sk-container-id-59 {\n",
       "  /* Definition of color scheme common for light and dark mode */\n",
       "  --sklearn-color-text: #000;\n",
       "  --sklearn-color-text-muted: #666;\n",
       "  --sklearn-color-line: gray;\n",
       "  /* Definition of color scheme for unfitted estimators */\n",
       "  --sklearn-color-unfitted-level-0: #fff5e6;\n",
       "  --sklearn-color-unfitted-level-1: #f6e4d2;\n",
       "  --sklearn-color-unfitted-level-2: #ffe0b3;\n",
       "  --sklearn-color-unfitted-level-3: chocolate;\n",
       "  /* Definition of color scheme for fitted estimators */\n",
       "  --sklearn-color-fitted-level-0: #f0f8ff;\n",
       "  --sklearn-color-fitted-level-1: #d4ebff;\n",
       "  --sklearn-color-fitted-level-2: #b3dbfd;\n",
       "  --sklearn-color-fitted-level-3: cornflowerblue;\n",
       "\n",
       "  /* Specific color for light theme */\n",
       "  --sklearn-color-text-on-default-background: var(--sg-text-color, var(--theme-code-foreground, var(--jp-content-font-color1, black)));\n",
       "  --sklearn-color-background: var(--sg-background-color, var(--theme-background, var(--jp-layout-color0, white)));\n",
       "  --sklearn-color-border-box: var(--sg-text-color, var(--theme-code-foreground, var(--jp-content-font-color1, black)));\n",
       "  --sklearn-color-icon: #696969;\n",
       "\n",
       "  @media (prefers-color-scheme: dark) {\n",
       "    /* Redefinition of color scheme for dark theme */\n",
       "    --sklearn-color-text-on-default-background: var(--sg-text-color, var(--theme-code-foreground, var(--jp-content-font-color1, white)));\n",
       "    --sklearn-color-background: var(--sg-background-color, var(--theme-background, var(--jp-layout-color0, #111)));\n",
       "    --sklearn-color-border-box: var(--sg-text-color, var(--theme-code-foreground, var(--jp-content-font-color1, white)));\n",
       "    --sklearn-color-icon: #878787;\n",
       "  }\n",
       "}\n",
       "\n",
       "#sk-container-id-59 {\n",
       "  color: var(--sklearn-color-text);\n",
       "}\n",
       "\n",
       "#sk-container-id-59 pre {\n",
       "  padding: 0;\n",
       "}\n",
       "\n",
       "#sk-container-id-59 input.sk-hidden--visually {\n",
       "  border: 0;\n",
       "  clip: rect(1px 1px 1px 1px);\n",
       "  clip: rect(1px, 1px, 1px, 1px);\n",
       "  height: 1px;\n",
       "  margin: -1px;\n",
       "  overflow: hidden;\n",
       "  padding: 0;\n",
       "  position: absolute;\n",
       "  width: 1px;\n",
       "}\n",
       "\n",
       "#sk-container-id-59 div.sk-dashed-wrapped {\n",
       "  border: 1px dashed var(--sklearn-color-line);\n",
       "  margin: 0 0.4em 0.5em 0.4em;\n",
       "  box-sizing: border-box;\n",
       "  padding-bottom: 0.4em;\n",
       "  background-color: var(--sklearn-color-background);\n",
       "}\n",
       "\n",
       "#sk-container-id-59 div.sk-container {\n",
       "  /* jupyter's `normalize.less` sets `[hidden] { display: none; }`\n",
       "     but bootstrap.min.css set `[hidden] { display: none !important; }`\n",
       "     so we also need the `!important` here to be able to override the\n",
       "     default hidden behavior on the sphinx rendered scikit-learn.org.\n",
       "     See: https://github.com/scikit-learn/scikit-learn/issues/21755 */\n",
       "  display: inline-block !important;\n",
       "  position: relative;\n",
       "}\n",
       "\n",
       "#sk-container-id-59 div.sk-text-repr-fallback {\n",
       "  display: none;\n",
       "}\n",
       "\n",
       "div.sk-parallel-item,\n",
       "div.sk-serial,\n",
       "div.sk-item {\n",
       "  /* draw centered vertical line to link estimators */\n",
       "  background-image: linear-gradient(var(--sklearn-color-text-on-default-background), var(--sklearn-color-text-on-default-background));\n",
       "  background-size: 2px 100%;\n",
       "  background-repeat: no-repeat;\n",
       "  background-position: center center;\n",
       "}\n",
       "\n",
       "/* Parallel-specific style estimator block */\n",
       "\n",
       "#sk-container-id-59 div.sk-parallel-item::after {\n",
       "  content: \"\";\n",
       "  width: 100%;\n",
       "  border-bottom: 2px solid var(--sklearn-color-text-on-default-background);\n",
       "  flex-grow: 1;\n",
       "}\n",
       "\n",
       "#sk-container-id-59 div.sk-parallel {\n",
       "  display: flex;\n",
       "  align-items: stretch;\n",
       "  justify-content: center;\n",
       "  background-color: var(--sklearn-color-background);\n",
       "  position: relative;\n",
       "}\n",
       "\n",
       "#sk-container-id-59 div.sk-parallel-item {\n",
       "  display: flex;\n",
       "  flex-direction: column;\n",
       "}\n",
       "\n",
       "#sk-container-id-59 div.sk-parallel-item:first-child::after {\n",
       "  align-self: flex-end;\n",
       "  width: 50%;\n",
       "}\n",
       "\n",
       "#sk-container-id-59 div.sk-parallel-item:last-child::after {\n",
       "  align-self: flex-start;\n",
       "  width: 50%;\n",
       "}\n",
       "\n",
       "#sk-container-id-59 div.sk-parallel-item:only-child::after {\n",
       "  width: 0;\n",
       "}\n",
       "\n",
       "/* Serial-specific style estimator block */\n",
       "\n",
       "#sk-container-id-59 div.sk-serial {\n",
       "  display: flex;\n",
       "  flex-direction: column;\n",
       "  align-items: center;\n",
       "  background-color: var(--sklearn-color-background);\n",
       "  padding-right: 1em;\n",
       "  padding-left: 1em;\n",
       "}\n",
       "\n",
       "\n",
       "/* Toggleable style: style used for estimator/Pipeline/ColumnTransformer box that is\n",
       "clickable and can be expanded/collapsed.\n",
       "- Pipeline and ColumnTransformer use this feature and define the default style\n",
       "- Estimators will overwrite some part of the style using the `sk-estimator` class\n",
       "*/\n",
       "\n",
       "/* Pipeline and ColumnTransformer style (default) */\n",
       "\n",
       "#sk-container-id-59 div.sk-toggleable {\n",
       "  /* Default theme specific background. It is overwritten whether we have a\n",
       "  specific estimator or a Pipeline/ColumnTransformer */\n",
       "  background-color: var(--sklearn-color-background);\n",
       "}\n",
       "\n",
       "/* Toggleable label */\n",
       "#sk-container-id-59 label.sk-toggleable__label {\n",
       "  cursor: pointer;\n",
       "  display: flex;\n",
       "  width: 100%;\n",
       "  margin-bottom: 0;\n",
       "  padding: 0.5em;\n",
       "  box-sizing: border-box;\n",
       "  text-align: center;\n",
       "  align-items: start;\n",
       "  justify-content: space-between;\n",
       "  gap: 0.5em;\n",
       "}\n",
       "\n",
       "#sk-container-id-59 label.sk-toggleable__label .caption {\n",
       "  font-size: 0.6rem;\n",
       "  font-weight: lighter;\n",
       "  color: var(--sklearn-color-text-muted);\n",
       "}\n",
       "\n",
       "#sk-container-id-59 label.sk-toggleable__label-arrow:before {\n",
       "  /* Arrow on the left of the label */\n",
       "  content: \"▸\";\n",
       "  float: left;\n",
       "  margin-right: 0.25em;\n",
       "  color: var(--sklearn-color-icon);\n",
       "}\n",
       "\n",
       "#sk-container-id-59 label.sk-toggleable__label-arrow:hover:before {\n",
       "  color: var(--sklearn-color-text);\n",
       "}\n",
       "\n",
       "/* Toggleable content - dropdown */\n",
       "\n",
       "#sk-container-id-59 div.sk-toggleable__content {\n",
       "  max-height: 0;\n",
       "  max-width: 0;\n",
       "  overflow: hidden;\n",
       "  text-align: left;\n",
       "  /* unfitted */\n",
       "  background-color: var(--sklearn-color-unfitted-level-0);\n",
       "}\n",
       "\n",
       "#sk-container-id-59 div.sk-toggleable__content.fitted {\n",
       "  /* fitted */\n",
       "  background-color: var(--sklearn-color-fitted-level-0);\n",
       "}\n",
       "\n",
       "#sk-container-id-59 div.sk-toggleable__content pre {\n",
       "  margin: 0.2em;\n",
       "  border-radius: 0.25em;\n",
       "  color: var(--sklearn-color-text);\n",
       "  /* unfitted */\n",
       "  background-color: var(--sklearn-color-unfitted-level-0);\n",
       "}\n",
       "\n",
       "#sk-container-id-59 div.sk-toggleable__content.fitted pre {\n",
       "  /* unfitted */\n",
       "  background-color: var(--sklearn-color-fitted-level-0);\n",
       "}\n",
       "\n",
       "#sk-container-id-59 input.sk-toggleable__control:checked~div.sk-toggleable__content {\n",
       "  /* Expand drop-down */\n",
       "  max-height: 200px;\n",
       "  max-width: 100%;\n",
       "  overflow: auto;\n",
       "}\n",
       "\n",
       "#sk-container-id-59 input.sk-toggleable__control:checked~label.sk-toggleable__label-arrow:before {\n",
       "  content: \"▾\";\n",
       "}\n",
       "\n",
       "/* Pipeline/ColumnTransformer-specific style */\n",
       "\n",
       "#sk-container-id-59 div.sk-label input.sk-toggleable__control:checked~label.sk-toggleable__label {\n",
       "  color: var(--sklearn-color-text);\n",
       "  background-color: var(--sklearn-color-unfitted-level-2);\n",
       "}\n",
       "\n",
       "#sk-container-id-59 div.sk-label.fitted input.sk-toggleable__control:checked~label.sk-toggleable__label {\n",
       "  background-color: var(--sklearn-color-fitted-level-2);\n",
       "}\n",
       "\n",
       "/* Estimator-specific style */\n",
       "\n",
       "/* Colorize estimator box */\n",
       "#sk-container-id-59 div.sk-estimator input.sk-toggleable__control:checked~label.sk-toggleable__label {\n",
       "  /* unfitted */\n",
       "  background-color: var(--sklearn-color-unfitted-level-2);\n",
       "}\n",
       "\n",
       "#sk-container-id-59 div.sk-estimator.fitted input.sk-toggleable__control:checked~label.sk-toggleable__label {\n",
       "  /* fitted */\n",
       "  background-color: var(--sklearn-color-fitted-level-2);\n",
       "}\n",
       "\n",
       "#sk-container-id-59 div.sk-label label.sk-toggleable__label,\n",
       "#sk-container-id-59 div.sk-label label {\n",
       "  /* The background is the default theme color */\n",
       "  color: var(--sklearn-color-text-on-default-background);\n",
       "}\n",
       "\n",
       "/* On hover, darken the color of the background */\n",
       "#sk-container-id-59 div.sk-label:hover label.sk-toggleable__label {\n",
       "  color: var(--sklearn-color-text);\n",
       "  background-color: var(--sklearn-color-unfitted-level-2);\n",
       "}\n",
       "\n",
       "/* Label box, darken color on hover, fitted */\n",
       "#sk-container-id-59 div.sk-label.fitted:hover label.sk-toggleable__label.fitted {\n",
       "  color: var(--sklearn-color-text);\n",
       "  background-color: var(--sklearn-color-fitted-level-2);\n",
       "}\n",
       "\n",
       "/* Estimator label */\n",
       "\n",
       "#sk-container-id-59 div.sk-label label {\n",
       "  font-family: monospace;\n",
       "  font-weight: bold;\n",
       "  display: inline-block;\n",
       "  line-height: 1.2em;\n",
       "}\n",
       "\n",
       "#sk-container-id-59 div.sk-label-container {\n",
       "  text-align: center;\n",
       "}\n",
       "\n",
       "/* Estimator-specific */\n",
       "#sk-container-id-59 div.sk-estimator {\n",
       "  font-family: monospace;\n",
       "  border: 1px dotted var(--sklearn-color-border-box);\n",
       "  border-radius: 0.25em;\n",
       "  box-sizing: border-box;\n",
       "  margin-bottom: 0.5em;\n",
       "  /* unfitted */\n",
       "  background-color: var(--sklearn-color-unfitted-level-0);\n",
       "}\n",
       "\n",
       "#sk-container-id-59 div.sk-estimator.fitted {\n",
       "  /* fitted */\n",
       "  background-color: var(--sklearn-color-fitted-level-0);\n",
       "}\n",
       "\n",
       "/* on hover */\n",
       "#sk-container-id-59 div.sk-estimator:hover {\n",
       "  /* unfitted */\n",
       "  background-color: var(--sklearn-color-unfitted-level-2);\n",
       "}\n",
       "\n",
       "#sk-container-id-59 div.sk-estimator.fitted:hover {\n",
       "  /* fitted */\n",
       "  background-color: var(--sklearn-color-fitted-level-2);\n",
       "}\n",
       "\n",
       "/* Specification for estimator info (e.g. \"i\" and \"?\") */\n",
       "\n",
       "/* Common style for \"i\" and \"?\" */\n",
       "\n",
       ".sk-estimator-doc-link,\n",
       "a:link.sk-estimator-doc-link,\n",
       "a:visited.sk-estimator-doc-link {\n",
       "  float: right;\n",
       "  font-size: smaller;\n",
       "  line-height: 1em;\n",
       "  font-family: monospace;\n",
       "  background-color: var(--sklearn-color-background);\n",
       "  border-radius: 1em;\n",
       "  height: 1em;\n",
       "  width: 1em;\n",
       "  text-decoration: none !important;\n",
       "  margin-left: 0.5em;\n",
       "  text-align: center;\n",
       "  /* unfitted */\n",
       "  border: var(--sklearn-color-unfitted-level-1) 1pt solid;\n",
       "  color: var(--sklearn-color-unfitted-level-1);\n",
       "}\n",
       "\n",
       ".sk-estimator-doc-link.fitted,\n",
       "a:link.sk-estimator-doc-link.fitted,\n",
       "a:visited.sk-estimator-doc-link.fitted {\n",
       "  /* fitted */\n",
       "  border: var(--sklearn-color-fitted-level-1) 1pt solid;\n",
       "  color: var(--sklearn-color-fitted-level-1);\n",
       "}\n",
       "\n",
       "/* On hover */\n",
       "div.sk-estimator:hover .sk-estimator-doc-link:hover,\n",
       ".sk-estimator-doc-link:hover,\n",
       "div.sk-label-container:hover .sk-estimator-doc-link:hover,\n",
       ".sk-estimator-doc-link:hover {\n",
       "  /* unfitted */\n",
       "  background-color: var(--sklearn-color-unfitted-level-3);\n",
       "  color: var(--sklearn-color-background);\n",
       "  text-decoration: none;\n",
       "}\n",
       "\n",
       "div.sk-estimator.fitted:hover .sk-estimator-doc-link.fitted:hover,\n",
       ".sk-estimator-doc-link.fitted:hover,\n",
       "div.sk-label-container:hover .sk-estimator-doc-link.fitted:hover,\n",
       ".sk-estimator-doc-link.fitted:hover {\n",
       "  /* fitted */\n",
       "  background-color: var(--sklearn-color-fitted-level-3);\n",
       "  color: var(--sklearn-color-background);\n",
       "  text-decoration: none;\n",
       "}\n",
       "\n",
       "/* Span, style for the box shown on hovering the info icon */\n",
       ".sk-estimator-doc-link span {\n",
       "  display: none;\n",
       "  z-index: 9999;\n",
       "  position: relative;\n",
       "  font-weight: normal;\n",
       "  right: .2ex;\n",
       "  padding: .5ex;\n",
       "  margin: .5ex;\n",
       "  width: min-content;\n",
       "  min-width: 20ex;\n",
       "  max-width: 50ex;\n",
       "  color: var(--sklearn-color-text);\n",
       "  box-shadow: 2pt 2pt 4pt #999;\n",
       "  /* unfitted */\n",
       "  background: var(--sklearn-color-unfitted-level-0);\n",
       "  border: .5pt solid var(--sklearn-color-unfitted-level-3);\n",
       "}\n",
       "\n",
       ".sk-estimator-doc-link.fitted span {\n",
       "  /* fitted */\n",
       "  background: var(--sklearn-color-fitted-level-0);\n",
       "  border: var(--sklearn-color-fitted-level-3);\n",
       "}\n",
       "\n",
       ".sk-estimator-doc-link:hover span {\n",
       "  display: block;\n",
       "}\n",
       "\n",
       "/* \"?\"-specific style due to the `<a>` HTML tag */\n",
       "\n",
       "#sk-container-id-59 a.estimator_doc_link {\n",
       "  float: right;\n",
       "  font-size: 1rem;\n",
       "  line-height: 1em;\n",
       "  font-family: monospace;\n",
       "  background-color: var(--sklearn-color-background);\n",
       "  border-radius: 1rem;\n",
       "  height: 1rem;\n",
       "  width: 1rem;\n",
       "  text-decoration: none;\n",
       "  /* unfitted */\n",
       "  color: var(--sklearn-color-unfitted-level-1);\n",
       "  border: var(--sklearn-color-unfitted-level-1) 1pt solid;\n",
       "}\n",
       "\n",
       "#sk-container-id-59 a.estimator_doc_link.fitted {\n",
       "  /* fitted */\n",
       "  border: var(--sklearn-color-fitted-level-1) 1pt solid;\n",
       "  color: var(--sklearn-color-fitted-level-1);\n",
       "}\n",
       "\n",
       "/* On hover */\n",
       "#sk-container-id-59 a.estimator_doc_link:hover {\n",
       "  /* unfitted */\n",
       "  background-color: var(--sklearn-color-unfitted-level-3);\n",
       "  color: var(--sklearn-color-background);\n",
       "  text-decoration: none;\n",
       "}\n",
       "\n",
       "#sk-container-id-59 a.estimator_doc_link.fitted:hover {\n",
       "  /* fitted */\n",
       "  background-color: var(--sklearn-color-fitted-level-3);\n",
       "}\n",
       "</style><div id=\"sk-container-id-59\" class=\"sk-top-container\"><div class=\"sk-text-repr-fallback\"><pre>LinearRegression()</pre><b>In a Jupyter environment, please rerun this cell to show the HTML representation or trust the notebook. <br />On GitHub, the HTML representation is unable to render, please try loading this page with nbviewer.org.</b></div><div class=\"sk-container\" hidden><div class=\"sk-item\"><div class=\"sk-estimator fitted sk-toggleable\"><input class=\"sk-toggleable__control sk-hidden--visually\" id=\"sk-estimator-id-59\" type=\"checkbox\" checked><label for=\"sk-estimator-id-59\" class=\"sk-toggleable__label fitted sk-toggleable__label-arrow\"><div><div>LinearRegression</div></div><div><a class=\"sk-estimator-doc-link fitted\" rel=\"noreferrer\" target=\"_blank\" href=\"https://scikit-learn.org/1.6/modules/generated/sklearn.linear_model.LinearRegression.html\">?<span>Documentation for LinearRegression</span></a><span class=\"sk-estimator-doc-link fitted\">i<span>Fitted</span></span></div></label><div class=\"sk-toggleable__content fitted\"><pre>LinearRegression()</pre></div> </div></div></div></div>"
      ],
      "text/plain": [
       "LinearRegression()"
      ]
     },
     "execution_count": 1673,
     "metadata": {},
     "output_type": "execute_result"
    }
   ],
   "source": [
    "model= train_evaluate_model(LinearRegression(), X1_train, y1_train, X1_test, y1_test)\n",
    "model"
   ]
  },
  {
   "cell_type": "code",
   "execution_count": 1674,
   "metadata": {},
   "outputs": [
    {
     "name": "stdout",
     "output_type": "stream",
     "text": [
      "R2 score 0.6312470471974223\n",
      "MAE 272.84169414872383\n",
      "MSE 159266.65059099483\n",
      "RMSE 399.0822604313487\n"
     ]
    },
    {
     "data": {
      "text/html": [
       "<style>#sk-container-id-60 {\n",
       "  /* Definition of color scheme common for light and dark mode */\n",
       "  --sklearn-color-text: #000;\n",
       "  --sklearn-color-text-muted: #666;\n",
       "  --sklearn-color-line: gray;\n",
       "  /* Definition of color scheme for unfitted estimators */\n",
       "  --sklearn-color-unfitted-level-0: #fff5e6;\n",
       "  --sklearn-color-unfitted-level-1: #f6e4d2;\n",
       "  --sklearn-color-unfitted-level-2: #ffe0b3;\n",
       "  --sklearn-color-unfitted-level-3: chocolate;\n",
       "  /* Definition of color scheme for fitted estimators */\n",
       "  --sklearn-color-fitted-level-0: #f0f8ff;\n",
       "  --sklearn-color-fitted-level-1: #d4ebff;\n",
       "  --sklearn-color-fitted-level-2: #b3dbfd;\n",
       "  --sklearn-color-fitted-level-3: cornflowerblue;\n",
       "\n",
       "  /* Specific color for light theme */\n",
       "  --sklearn-color-text-on-default-background: var(--sg-text-color, var(--theme-code-foreground, var(--jp-content-font-color1, black)));\n",
       "  --sklearn-color-background: var(--sg-background-color, var(--theme-background, var(--jp-layout-color0, white)));\n",
       "  --sklearn-color-border-box: var(--sg-text-color, var(--theme-code-foreground, var(--jp-content-font-color1, black)));\n",
       "  --sklearn-color-icon: #696969;\n",
       "\n",
       "  @media (prefers-color-scheme: dark) {\n",
       "    /* Redefinition of color scheme for dark theme */\n",
       "    --sklearn-color-text-on-default-background: var(--sg-text-color, var(--theme-code-foreground, var(--jp-content-font-color1, white)));\n",
       "    --sklearn-color-background: var(--sg-background-color, var(--theme-background, var(--jp-layout-color0, #111)));\n",
       "    --sklearn-color-border-box: var(--sg-text-color, var(--theme-code-foreground, var(--jp-content-font-color1, white)));\n",
       "    --sklearn-color-icon: #878787;\n",
       "  }\n",
       "}\n",
       "\n",
       "#sk-container-id-60 {\n",
       "  color: var(--sklearn-color-text);\n",
       "}\n",
       "\n",
       "#sk-container-id-60 pre {\n",
       "  padding: 0;\n",
       "}\n",
       "\n",
       "#sk-container-id-60 input.sk-hidden--visually {\n",
       "  border: 0;\n",
       "  clip: rect(1px 1px 1px 1px);\n",
       "  clip: rect(1px, 1px, 1px, 1px);\n",
       "  height: 1px;\n",
       "  margin: -1px;\n",
       "  overflow: hidden;\n",
       "  padding: 0;\n",
       "  position: absolute;\n",
       "  width: 1px;\n",
       "}\n",
       "\n",
       "#sk-container-id-60 div.sk-dashed-wrapped {\n",
       "  border: 1px dashed var(--sklearn-color-line);\n",
       "  margin: 0 0.4em 0.5em 0.4em;\n",
       "  box-sizing: border-box;\n",
       "  padding-bottom: 0.4em;\n",
       "  background-color: var(--sklearn-color-background);\n",
       "}\n",
       "\n",
       "#sk-container-id-60 div.sk-container {\n",
       "  /* jupyter's `normalize.less` sets `[hidden] { display: none; }`\n",
       "     but bootstrap.min.css set `[hidden] { display: none !important; }`\n",
       "     so we also need the `!important` here to be able to override the\n",
       "     default hidden behavior on the sphinx rendered scikit-learn.org.\n",
       "     See: https://github.com/scikit-learn/scikit-learn/issues/21755 */\n",
       "  display: inline-block !important;\n",
       "  position: relative;\n",
       "}\n",
       "\n",
       "#sk-container-id-60 div.sk-text-repr-fallback {\n",
       "  display: none;\n",
       "}\n",
       "\n",
       "div.sk-parallel-item,\n",
       "div.sk-serial,\n",
       "div.sk-item {\n",
       "  /* draw centered vertical line to link estimators */\n",
       "  background-image: linear-gradient(var(--sklearn-color-text-on-default-background), var(--sklearn-color-text-on-default-background));\n",
       "  background-size: 2px 100%;\n",
       "  background-repeat: no-repeat;\n",
       "  background-position: center center;\n",
       "}\n",
       "\n",
       "/* Parallel-specific style estimator block */\n",
       "\n",
       "#sk-container-id-60 div.sk-parallel-item::after {\n",
       "  content: \"\";\n",
       "  width: 100%;\n",
       "  border-bottom: 2px solid var(--sklearn-color-text-on-default-background);\n",
       "  flex-grow: 1;\n",
       "}\n",
       "\n",
       "#sk-container-id-60 div.sk-parallel {\n",
       "  display: flex;\n",
       "  align-items: stretch;\n",
       "  justify-content: center;\n",
       "  background-color: var(--sklearn-color-background);\n",
       "  position: relative;\n",
       "}\n",
       "\n",
       "#sk-container-id-60 div.sk-parallel-item {\n",
       "  display: flex;\n",
       "  flex-direction: column;\n",
       "}\n",
       "\n",
       "#sk-container-id-60 div.sk-parallel-item:first-child::after {\n",
       "  align-self: flex-end;\n",
       "  width: 50%;\n",
       "}\n",
       "\n",
       "#sk-container-id-60 div.sk-parallel-item:last-child::after {\n",
       "  align-self: flex-start;\n",
       "  width: 50%;\n",
       "}\n",
       "\n",
       "#sk-container-id-60 div.sk-parallel-item:only-child::after {\n",
       "  width: 0;\n",
       "}\n",
       "\n",
       "/* Serial-specific style estimator block */\n",
       "\n",
       "#sk-container-id-60 div.sk-serial {\n",
       "  display: flex;\n",
       "  flex-direction: column;\n",
       "  align-items: center;\n",
       "  background-color: var(--sklearn-color-background);\n",
       "  padding-right: 1em;\n",
       "  padding-left: 1em;\n",
       "}\n",
       "\n",
       "\n",
       "/* Toggleable style: style used for estimator/Pipeline/ColumnTransformer box that is\n",
       "clickable and can be expanded/collapsed.\n",
       "- Pipeline and ColumnTransformer use this feature and define the default style\n",
       "- Estimators will overwrite some part of the style using the `sk-estimator` class\n",
       "*/\n",
       "\n",
       "/* Pipeline and ColumnTransformer style (default) */\n",
       "\n",
       "#sk-container-id-60 div.sk-toggleable {\n",
       "  /* Default theme specific background. It is overwritten whether we have a\n",
       "  specific estimator or a Pipeline/ColumnTransformer */\n",
       "  background-color: var(--sklearn-color-background);\n",
       "}\n",
       "\n",
       "/* Toggleable label */\n",
       "#sk-container-id-60 label.sk-toggleable__label {\n",
       "  cursor: pointer;\n",
       "  display: flex;\n",
       "  width: 100%;\n",
       "  margin-bottom: 0;\n",
       "  padding: 0.5em;\n",
       "  box-sizing: border-box;\n",
       "  text-align: center;\n",
       "  align-items: start;\n",
       "  justify-content: space-between;\n",
       "  gap: 0.5em;\n",
       "}\n",
       "\n",
       "#sk-container-id-60 label.sk-toggleable__label .caption {\n",
       "  font-size: 0.6rem;\n",
       "  font-weight: lighter;\n",
       "  color: var(--sklearn-color-text-muted);\n",
       "}\n",
       "\n",
       "#sk-container-id-60 label.sk-toggleable__label-arrow:before {\n",
       "  /* Arrow on the left of the label */\n",
       "  content: \"▸\";\n",
       "  float: left;\n",
       "  margin-right: 0.25em;\n",
       "  color: var(--sklearn-color-icon);\n",
       "}\n",
       "\n",
       "#sk-container-id-60 label.sk-toggleable__label-arrow:hover:before {\n",
       "  color: var(--sklearn-color-text);\n",
       "}\n",
       "\n",
       "/* Toggleable content - dropdown */\n",
       "\n",
       "#sk-container-id-60 div.sk-toggleable__content {\n",
       "  max-height: 0;\n",
       "  max-width: 0;\n",
       "  overflow: hidden;\n",
       "  text-align: left;\n",
       "  /* unfitted */\n",
       "  background-color: var(--sklearn-color-unfitted-level-0);\n",
       "}\n",
       "\n",
       "#sk-container-id-60 div.sk-toggleable__content.fitted {\n",
       "  /* fitted */\n",
       "  background-color: var(--sklearn-color-fitted-level-0);\n",
       "}\n",
       "\n",
       "#sk-container-id-60 div.sk-toggleable__content pre {\n",
       "  margin: 0.2em;\n",
       "  border-radius: 0.25em;\n",
       "  color: var(--sklearn-color-text);\n",
       "  /* unfitted */\n",
       "  background-color: var(--sklearn-color-unfitted-level-0);\n",
       "}\n",
       "\n",
       "#sk-container-id-60 div.sk-toggleable__content.fitted pre {\n",
       "  /* unfitted */\n",
       "  background-color: var(--sklearn-color-fitted-level-0);\n",
       "}\n",
       "\n",
       "#sk-container-id-60 input.sk-toggleable__control:checked~div.sk-toggleable__content {\n",
       "  /* Expand drop-down */\n",
       "  max-height: 200px;\n",
       "  max-width: 100%;\n",
       "  overflow: auto;\n",
       "}\n",
       "\n",
       "#sk-container-id-60 input.sk-toggleable__control:checked~label.sk-toggleable__label-arrow:before {\n",
       "  content: \"▾\";\n",
       "}\n",
       "\n",
       "/* Pipeline/ColumnTransformer-specific style */\n",
       "\n",
       "#sk-container-id-60 div.sk-label input.sk-toggleable__control:checked~label.sk-toggleable__label {\n",
       "  color: var(--sklearn-color-text);\n",
       "  background-color: var(--sklearn-color-unfitted-level-2);\n",
       "}\n",
       "\n",
       "#sk-container-id-60 div.sk-label.fitted input.sk-toggleable__control:checked~label.sk-toggleable__label {\n",
       "  background-color: var(--sklearn-color-fitted-level-2);\n",
       "}\n",
       "\n",
       "/* Estimator-specific style */\n",
       "\n",
       "/* Colorize estimator box */\n",
       "#sk-container-id-60 div.sk-estimator input.sk-toggleable__control:checked~label.sk-toggleable__label {\n",
       "  /* unfitted */\n",
       "  background-color: var(--sklearn-color-unfitted-level-2);\n",
       "}\n",
       "\n",
       "#sk-container-id-60 div.sk-estimator.fitted input.sk-toggleable__control:checked~label.sk-toggleable__label {\n",
       "  /* fitted */\n",
       "  background-color: var(--sklearn-color-fitted-level-2);\n",
       "}\n",
       "\n",
       "#sk-container-id-60 div.sk-label label.sk-toggleable__label,\n",
       "#sk-container-id-60 div.sk-label label {\n",
       "  /* The background is the default theme color */\n",
       "  color: var(--sklearn-color-text-on-default-background);\n",
       "}\n",
       "\n",
       "/* On hover, darken the color of the background */\n",
       "#sk-container-id-60 div.sk-label:hover label.sk-toggleable__label {\n",
       "  color: var(--sklearn-color-text);\n",
       "  background-color: var(--sklearn-color-unfitted-level-2);\n",
       "}\n",
       "\n",
       "/* Label box, darken color on hover, fitted */\n",
       "#sk-container-id-60 div.sk-label.fitted:hover label.sk-toggleable__label.fitted {\n",
       "  color: var(--sklearn-color-text);\n",
       "  background-color: var(--sklearn-color-fitted-level-2);\n",
       "}\n",
       "\n",
       "/* Estimator label */\n",
       "\n",
       "#sk-container-id-60 div.sk-label label {\n",
       "  font-family: monospace;\n",
       "  font-weight: bold;\n",
       "  display: inline-block;\n",
       "  line-height: 1.2em;\n",
       "}\n",
       "\n",
       "#sk-container-id-60 div.sk-label-container {\n",
       "  text-align: center;\n",
       "}\n",
       "\n",
       "/* Estimator-specific */\n",
       "#sk-container-id-60 div.sk-estimator {\n",
       "  font-family: monospace;\n",
       "  border: 1px dotted var(--sklearn-color-border-box);\n",
       "  border-radius: 0.25em;\n",
       "  box-sizing: border-box;\n",
       "  margin-bottom: 0.5em;\n",
       "  /* unfitted */\n",
       "  background-color: var(--sklearn-color-unfitted-level-0);\n",
       "}\n",
       "\n",
       "#sk-container-id-60 div.sk-estimator.fitted {\n",
       "  /* fitted */\n",
       "  background-color: var(--sklearn-color-fitted-level-0);\n",
       "}\n",
       "\n",
       "/* on hover */\n",
       "#sk-container-id-60 div.sk-estimator:hover {\n",
       "  /* unfitted */\n",
       "  background-color: var(--sklearn-color-unfitted-level-2);\n",
       "}\n",
       "\n",
       "#sk-container-id-60 div.sk-estimator.fitted:hover {\n",
       "  /* fitted */\n",
       "  background-color: var(--sklearn-color-fitted-level-2);\n",
       "}\n",
       "\n",
       "/* Specification for estimator info (e.g. \"i\" and \"?\") */\n",
       "\n",
       "/* Common style for \"i\" and \"?\" */\n",
       "\n",
       ".sk-estimator-doc-link,\n",
       "a:link.sk-estimator-doc-link,\n",
       "a:visited.sk-estimator-doc-link {\n",
       "  float: right;\n",
       "  font-size: smaller;\n",
       "  line-height: 1em;\n",
       "  font-family: monospace;\n",
       "  background-color: var(--sklearn-color-background);\n",
       "  border-radius: 1em;\n",
       "  height: 1em;\n",
       "  width: 1em;\n",
       "  text-decoration: none !important;\n",
       "  margin-left: 0.5em;\n",
       "  text-align: center;\n",
       "  /* unfitted */\n",
       "  border: var(--sklearn-color-unfitted-level-1) 1pt solid;\n",
       "  color: var(--sklearn-color-unfitted-level-1);\n",
       "}\n",
       "\n",
       ".sk-estimator-doc-link.fitted,\n",
       "a:link.sk-estimator-doc-link.fitted,\n",
       "a:visited.sk-estimator-doc-link.fitted {\n",
       "  /* fitted */\n",
       "  border: var(--sklearn-color-fitted-level-1) 1pt solid;\n",
       "  color: var(--sklearn-color-fitted-level-1);\n",
       "}\n",
       "\n",
       "/* On hover */\n",
       "div.sk-estimator:hover .sk-estimator-doc-link:hover,\n",
       ".sk-estimator-doc-link:hover,\n",
       "div.sk-label-container:hover .sk-estimator-doc-link:hover,\n",
       ".sk-estimator-doc-link:hover {\n",
       "  /* unfitted */\n",
       "  background-color: var(--sklearn-color-unfitted-level-3);\n",
       "  color: var(--sklearn-color-background);\n",
       "  text-decoration: none;\n",
       "}\n",
       "\n",
       "div.sk-estimator.fitted:hover .sk-estimator-doc-link.fitted:hover,\n",
       ".sk-estimator-doc-link.fitted:hover,\n",
       "div.sk-label-container:hover .sk-estimator-doc-link.fitted:hover,\n",
       ".sk-estimator-doc-link.fitted:hover {\n",
       "  /* fitted */\n",
       "  background-color: var(--sklearn-color-fitted-level-3);\n",
       "  color: var(--sklearn-color-background);\n",
       "  text-decoration: none;\n",
       "}\n",
       "\n",
       "/* Span, style for the box shown on hovering the info icon */\n",
       ".sk-estimator-doc-link span {\n",
       "  display: none;\n",
       "  z-index: 9999;\n",
       "  position: relative;\n",
       "  font-weight: normal;\n",
       "  right: .2ex;\n",
       "  padding: .5ex;\n",
       "  margin: .5ex;\n",
       "  width: min-content;\n",
       "  min-width: 20ex;\n",
       "  max-width: 50ex;\n",
       "  color: var(--sklearn-color-text);\n",
       "  box-shadow: 2pt 2pt 4pt #999;\n",
       "  /* unfitted */\n",
       "  background: var(--sklearn-color-unfitted-level-0);\n",
       "  border: .5pt solid var(--sklearn-color-unfitted-level-3);\n",
       "}\n",
       "\n",
       ".sk-estimator-doc-link.fitted span {\n",
       "  /* fitted */\n",
       "  background: var(--sklearn-color-fitted-level-0);\n",
       "  border: var(--sklearn-color-fitted-level-3);\n",
       "}\n",
       "\n",
       ".sk-estimator-doc-link:hover span {\n",
       "  display: block;\n",
       "}\n",
       "\n",
       "/* \"?\"-specific style due to the `<a>` HTML tag */\n",
       "\n",
       "#sk-container-id-60 a.estimator_doc_link {\n",
       "  float: right;\n",
       "  font-size: 1rem;\n",
       "  line-height: 1em;\n",
       "  font-family: monospace;\n",
       "  background-color: var(--sklearn-color-background);\n",
       "  border-radius: 1rem;\n",
       "  height: 1rem;\n",
       "  width: 1rem;\n",
       "  text-decoration: none;\n",
       "  /* unfitted */\n",
       "  color: var(--sklearn-color-unfitted-level-1);\n",
       "  border: var(--sklearn-color-unfitted-level-1) 1pt solid;\n",
       "}\n",
       "\n",
       "#sk-container-id-60 a.estimator_doc_link.fitted {\n",
       "  /* fitted */\n",
       "  border: var(--sklearn-color-fitted-level-1) 1pt solid;\n",
       "  color: var(--sklearn-color-fitted-level-1);\n",
       "}\n",
       "\n",
       "/* On hover */\n",
       "#sk-container-id-60 a.estimator_doc_link:hover {\n",
       "  /* unfitted */\n",
       "  background-color: var(--sklearn-color-unfitted-level-3);\n",
       "  color: var(--sklearn-color-background);\n",
       "  text-decoration: none;\n",
       "}\n",
       "\n",
       "#sk-container-id-60 a.estimator_doc_link.fitted:hover {\n",
       "  /* fitted */\n",
       "  background-color: var(--sklearn-color-fitted-level-3);\n",
       "}\n",
       "</style><div id=\"sk-container-id-60\" class=\"sk-top-container\"><div class=\"sk-text-repr-fallback\"><pre>LinearRegression()</pre><b>In a Jupyter environment, please rerun this cell to show the HTML representation or trust the notebook. <br />On GitHub, the HTML representation is unable to render, please try loading this page with nbviewer.org.</b></div><div class=\"sk-container\" hidden><div class=\"sk-item\"><div class=\"sk-estimator fitted sk-toggleable\"><input class=\"sk-toggleable__control sk-hidden--visually\" id=\"sk-estimator-id-60\" type=\"checkbox\" checked><label for=\"sk-estimator-id-60\" class=\"sk-toggleable__label fitted sk-toggleable__label-arrow\"><div><div>LinearRegression</div></div><div><a class=\"sk-estimator-doc-link fitted\" rel=\"noreferrer\" target=\"_blank\" href=\"https://scikit-learn.org/1.6/modules/generated/sklearn.linear_model.LinearRegression.html\">?<span>Documentation for LinearRegression</span></a><span class=\"sk-estimator-doc-link fitted\">i<span>Fitted</span></span></div></label><div class=\"sk-toggleable__content fitted\"><pre>LinearRegression()</pre></div> </div></div></div></div>"
      ],
      "text/plain": [
       "LinearRegression()"
      ]
     },
     "execution_count": 1674,
     "metadata": {},
     "output_type": "execute_result"
    }
   ],
   "source": [
    "model_1 = train_evaluate_model(LinearRegression(), X_train_scal, y1_train, X_test_scal, y1_test)\n",
    "model_1"
   ]
  },
  {
   "cell_type": "markdown",
   "metadata": {},
   "source": [
    "No hay variaci´´on si escalamos o no le modelo"
   ]
  },
  {
   "cell_type": "markdown",
   "metadata": {},
   "source": [
    "----------------"
   ]
  },
  {
   "cell_type": "markdown",
   "metadata": {},
   "source": [
    "# **MODELOS CATEGÓRICOS**"
   ]
  },
  {
   "cell_type": "markdown",
   "metadata": {},
   "source": [
    "------------"
   ]
  },
  {
   "cell_type": "markdown",
   "metadata": {},
   "source": [
    "# **UNIÓN DE MODELOS**"
   ]
  },
  {
   "cell_type": "markdown",
   "metadata": {},
   "source": [
    "___________________________________________________________________________________________"
   ]
  },
  {
   "cell_type": "markdown",
   "metadata": {},
   "source": [
    "# **Predicciones**."
   ]
  },
  {
   "cell_type": "code",
   "execution_count": 1681,
   "metadata": {},
   "outputs": [],
   "source": [
    "df_portatiles=pd.read_csv(\"test.csv\")"
   ]
  },
  {
   "cell_type": "code",
   "execution_count": 1682,
   "metadata": {},
   "outputs": [
    {
     "data": {
      "text/html": [
       "<div>\n",
       "<style scoped>\n",
       "    .dataframe tbody tr th:only-of-type {\n",
       "        vertical-align: middle;\n",
       "    }\n",
       "\n",
       "    .dataframe tbody tr th {\n",
       "        vertical-align: top;\n",
       "    }\n",
       "\n",
       "    .dataframe thead th {\n",
       "        text-align: right;\n",
       "    }\n",
       "</style>\n",
       "<table border=\"1\" class=\"dataframe\">\n",
       "  <thead>\n",
       "    <tr style=\"text-align: right;\">\n",
       "      <th></th>\n",
       "      <th>id</th>\n",
       "      <th>laptop_ID</th>\n",
       "      <th>Company</th>\n",
       "      <th>Product</th>\n",
       "      <th>TypeName</th>\n",
       "      <th>Inches</th>\n",
       "      <th>ScreenResolution</th>\n",
       "      <th>Cpu</th>\n",
       "      <th>Ram</th>\n",
       "      <th>Memory</th>\n",
       "      <th>Gpu</th>\n",
       "      <th>OpSys</th>\n",
       "      <th>Weight</th>\n",
       "    </tr>\n",
       "  </thead>\n",
       "  <tbody>\n",
       "    <tr>\n",
       "      <th>0</th>\n",
       "      <td>181</td>\n",
       "      <td>1098</td>\n",
       "      <td>HP</td>\n",
       "      <td>Spectre x360</td>\n",
       "      <td>Ultrabook</td>\n",
       "      <td>13.3</td>\n",
       "      <td>IPS Panel 4K Ultra HD 3840x2160</td>\n",
       "      <td>Intel Core i7 7500U 2.7GHz</td>\n",
       "      <td>16GB</td>\n",
       "      <td>512GB SSD</td>\n",
       "      <td>Intel HD Graphics 620</td>\n",
       "      <td>Windows 10</td>\n",
       "      <td>1.3kg</td>\n",
       "    </tr>\n",
       "    <tr>\n",
       "      <th>1</th>\n",
       "      <td>708</td>\n",
       "      <td>330</td>\n",
       "      <td>Acer</td>\n",
       "      <td>Aspire 5</td>\n",
       "      <td>Notebook</td>\n",
       "      <td>15.6</td>\n",
       "      <td>1366x768</td>\n",
       "      <td>AMD A12-Series 9720P 2.7GHz</td>\n",
       "      <td>8GB</td>\n",
       "      <td>256GB SSD</td>\n",
       "      <td>AMD Radeon RX 540</td>\n",
       "      <td>Windows 10</td>\n",
       "      <td>2.2kg</td>\n",
       "    </tr>\n",
       "    <tr>\n",
       "      <th>2</th>\n",
       "      <td>862</td>\n",
       "      <td>1260</td>\n",
       "      <td>Acer</td>\n",
       "      <td>Aspire ES1-572</td>\n",
       "      <td>Notebook</td>\n",
       "      <td>15.6</td>\n",
       "      <td>1366x768</td>\n",
       "      <td>Intel Core i3 6006U 2.0GHz</td>\n",
       "      <td>4GB</td>\n",
       "      <td>500GB HDD</td>\n",
       "      <td>Intel HD Graphics 520</td>\n",
       "      <td>Linux</td>\n",
       "      <td>2.4kg</td>\n",
       "    </tr>\n",
       "    <tr>\n",
       "      <th>3</th>\n",
       "      <td>1064</td>\n",
       "      <td>1137</td>\n",
       "      <td>HP</td>\n",
       "      <td>EliteBook 1040</td>\n",
       "      <td>Notebook</td>\n",
       "      <td>14.0</td>\n",
       "      <td>Full HD 1920x1080</td>\n",
       "      <td>Intel Core i5 6200U 2.3GHz</td>\n",
       "      <td>8GB</td>\n",
       "      <td>256GB SSD</td>\n",
       "      <td>Intel HD Graphics 520</td>\n",
       "      <td>Windows 7</td>\n",
       "      <td>1.43kg</td>\n",
       "    </tr>\n",
       "    <tr>\n",
       "      <th>4</th>\n",
       "      <td>702</td>\n",
       "      <td>1015</td>\n",
       "      <td>HP</td>\n",
       "      <td>ENVY -</td>\n",
       "      <td>Notebook</td>\n",
       "      <td>13.3</td>\n",
       "      <td>IPS Panel Full HD 1920x1080</td>\n",
       "      <td>Intel Core i5 7200U 2.5GHz</td>\n",
       "      <td>8GB</td>\n",
       "      <td>256GB SSD</td>\n",
       "      <td>Intel HD Graphics 620</td>\n",
       "      <td>Windows 10</td>\n",
       "      <td>1.34kg</td>\n",
       "    </tr>\n",
       "  </tbody>\n",
       "</table>\n",
       "</div>"
      ],
      "text/plain": [
       "     id  laptop_ID Company         Product   TypeName  Inches  \\\n",
       "0   181       1098      HP    Spectre x360  Ultrabook    13.3   \n",
       "1   708        330    Acer        Aspire 5   Notebook    15.6   \n",
       "2   862       1260    Acer  Aspire ES1-572   Notebook    15.6   \n",
       "3  1064       1137      HP  EliteBook 1040   Notebook    14.0   \n",
       "4   702       1015      HP          ENVY -   Notebook    13.3   \n",
       "\n",
       "                  ScreenResolution                          Cpu   Ram  \\\n",
       "0  IPS Panel 4K Ultra HD 3840x2160   Intel Core i7 7500U 2.7GHz  16GB   \n",
       "1                         1366x768  AMD A12-Series 9720P 2.7GHz   8GB   \n",
       "2                         1366x768   Intel Core i3 6006U 2.0GHz   4GB   \n",
       "3                Full HD 1920x1080   Intel Core i5 6200U 2.3GHz   8GB   \n",
       "4      IPS Panel Full HD 1920x1080   Intel Core i5 7200U 2.5GHz   8GB   \n",
       "\n",
       "      Memory                    Gpu       OpSys  Weight  \n",
       "0  512GB SSD  Intel HD Graphics 620  Windows 10   1.3kg  \n",
       "1  256GB SSD      AMD Radeon RX 540  Windows 10   2.2kg  \n",
       "2  500GB HDD  Intel HD Graphics 520       Linux   2.4kg  \n",
       "3  256GB SSD  Intel HD Graphics 520   Windows 7  1.43kg  \n",
       "4  256GB SSD  Intel HD Graphics 620  Windows 10  1.34kg  "
      ]
     },
     "execution_count": 1682,
     "metadata": {},
     "output_type": "execute_result"
    }
   ],
   "source": [
    "df_portatiles.head()"
   ]
  },
  {
   "cell_type": "code",
   "execution_count": 1683,
   "metadata": {},
   "outputs": [],
   "source": [
    "X_portatiles=df_portatiles[[\"Inches\"]]"
   ]
  },
  {
   "cell_type": "code",
   "execution_count": 1684,
   "metadata": {},
   "outputs": [
    {
     "name": "stderr",
     "output_type": "stream",
     "text": [
      "c:\\Users\\UX490U\\AppData\\Local\\Programs\\Python\\Python312\\Lib\\site-packages\\sklearn\\utils\\validation.py:2732: UserWarning: X has feature names, but LinearRegression was fitted without feature names\n",
      "  warnings.warn(\n"
     ]
    },
    {
     "ename": "ValueError",
     "evalue": "X has 1 features, but LinearRegression is expecting 4 features as input.",
     "output_type": "error",
     "traceback": [
      "\u001b[1;31m---------------------------------------------------------------------------\u001b[0m",
      "\u001b[1;31mValueError\u001b[0m                                Traceback (most recent call last)",
      "Cell \u001b[1;32mIn[1684], line 1\u001b[0m\n\u001b[1;32m----> 1\u001b[0m y_pred_portatiles \u001b[38;5;241m=\u001b[39m \u001b[43mmodel_1\u001b[49m\u001b[38;5;241;43m.\u001b[39;49m\u001b[43mpredict\u001b[49m\u001b[43m(\u001b[49m\u001b[43mX_portatiles\u001b[49m\u001b[43m)\u001b[49m\n",
      "File \u001b[1;32mc:\\Users\\UX490U\\AppData\\Local\\Programs\\Python\\Python312\\Lib\\site-packages\\sklearn\\linear_model\\_base.py:297\u001b[0m, in \u001b[0;36mLinearModel.predict\u001b[1;34m(self, X)\u001b[0m\n\u001b[0;32m    283\u001b[0m \u001b[38;5;28;01mdef\u001b[39;00m \u001b[38;5;21mpredict\u001b[39m(\u001b[38;5;28mself\u001b[39m, X):\n\u001b[0;32m    284\u001b[0m \u001b[38;5;250m    \u001b[39m\u001b[38;5;124;03m\"\"\"\u001b[39;00m\n\u001b[0;32m    285\u001b[0m \u001b[38;5;124;03m    Predict using the linear model.\u001b[39;00m\n\u001b[0;32m    286\u001b[0m \n\u001b[1;32m   (...)\u001b[0m\n\u001b[0;32m    295\u001b[0m \u001b[38;5;124;03m        Returns predicted values.\u001b[39;00m\n\u001b[0;32m    296\u001b[0m \u001b[38;5;124;03m    \"\"\"\u001b[39;00m\n\u001b[1;32m--> 297\u001b[0m     \u001b[38;5;28;01mreturn\u001b[39;00m \u001b[38;5;28;43mself\u001b[39;49m\u001b[38;5;241;43m.\u001b[39;49m\u001b[43m_decision_function\u001b[49m\u001b[43m(\u001b[49m\u001b[43mX\u001b[49m\u001b[43m)\u001b[49m\n",
      "File \u001b[1;32mc:\\Users\\UX490U\\AppData\\Local\\Programs\\Python\\Python312\\Lib\\site-packages\\sklearn\\linear_model\\_base.py:276\u001b[0m, in \u001b[0;36mLinearModel._decision_function\u001b[1;34m(self, X)\u001b[0m\n\u001b[0;32m    273\u001b[0m \u001b[38;5;28;01mdef\u001b[39;00m \u001b[38;5;21m_decision_function\u001b[39m(\u001b[38;5;28mself\u001b[39m, X):\n\u001b[0;32m    274\u001b[0m     check_is_fitted(\u001b[38;5;28mself\u001b[39m)\n\u001b[1;32m--> 276\u001b[0m     X \u001b[38;5;241m=\u001b[39m \u001b[43mvalidate_data\u001b[49m\u001b[43m(\u001b[49m\u001b[38;5;28;43mself\u001b[39;49m\u001b[43m,\u001b[49m\u001b[43m \u001b[49m\u001b[43mX\u001b[49m\u001b[43m,\u001b[49m\u001b[43m \u001b[49m\u001b[43maccept_sparse\u001b[49m\u001b[38;5;241;43m=\u001b[39;49m\u001b[43m[\u001b[49m\u001b[38;5;124;43m\"\u001b[39;49m\u001b[38;5;124;43mcsr\u001b[39;49m\u001b[38;5;124;43m\"\u001b[39;49m\u001b[43m,\u001b[49m\u001b[43m \u001b[49m\u001b[38;5;124;43m\"\u001b[39;49m\u001b[38;5;124;43mcsc\u001b[39;49m\u001b[38;5;124;43m\"\u001b[39;49m\u001b[43m,\u001b[49m\u001b[43m \u001b[49m\u001b[38;5;124;43m\"\u001b[39;49m\u001b[38;5;124;43mcoo\u001b[39;49m\u001b[38;5;124;43m\"\u001b[39;49m\u001b[43m]\u001b[49m\u001b[43m,\u001b[49m\u001b[43m \u001b[49m\u001b[43mreset\u001b[49m\u001b[38;5;241;43m=\u001b[39;49m\u001b[38;5;28;43;01mFalse\u001b[39;49;00m\u001b[43m)\u001b[49m\n\u001b[0;32m    277\u001b[0m     coef_ \u001b[38;5;241m=\u001b[39m \u001b[38;5;28mself\u001b[39m\u001b[38;5;241m.\u001b[39mcoef_\n\u001b[0;32m    278\u001b[0m     \u001b[38;5;28;01mif\u001b[39;00m coef_\u001b[38;5;241m.\u001b[39mndim \u001b[38;5;241m==\u001b[39m \u001b[38;5;241m1\u001b[39m:\n",
      "File \u001b[1;32mc:\\Users\\UX490U\\AppData\\Local\\Programs\\Python\\Python312\\Lib\\site-packages\\sklearn\\utils\\validation.py:2965\u001b[0m, in \u001b[0;36mvalidate_data\u001b[1;34m(_estimator, X, y, reset, validate_separately, skip_check_array, **check_params)\u001b[0m\n\u001b[0;32m   2962\u001b[0m     out \u001b[38;5;241m=\u001b[39m X, y\n\u001b[0;32m   2964\u001b[0m \u001b[38;5;28;01mif\u001b[39;00m \u001b[38;5;129;01mnot\u001b[39;00m no_val_X \u001b[38;5;129;01mand\u001b[39;00m check_params\u001b[38;5;241m.\u001b[39mget(\u001b[38;5;124m\"\u001b[39m\u001b[38;5;124mensure_2d\u001b[39m\u001b[38;5;124m\"\u001b[39m, \u001b[38;5;28;01mTrue\u001b[39;00m):\n\u001b[1;32m-> 2965\u001b[0m     \u001b[43m_check_n_features\u001b[49m\u001b[43m(\u001b[49m\u001b[43m_estimator\u001b[49m\u001b[43m,\u001b[49m\u001b[43m \u001b[49m\u001b[43mX\u001b[49m\u001b[43m,\u001b[49m\u001b[43m \u001b[49m\u001b[43mreset\u001b[49m\u001b[38;5;241;43m=\u001b[39;49m\u001b[43mreset\u001b[49m\u001b[43m)\u001b[49m\n\u001b[0;32m   2967\u001b[0m \u001b[38;5;28;01mreturn\u001b[39;00m out\n",
      "File \u001b[1;32mc:\\Users\\UX490U\\AppData\\Local\\Programs\\Python\\Python312\\Lib\\site-packages\\sklearn\\utils\\validation.py:2829\u001b[0m, in \u001b[0;36m_check_n_features\u001b[1;34m(estimator, X, reset)\u001b[0m\n\u001b[0;32m   2826\u001b[0m     \u001b[38;5;28;01mreturn\u001b[39;00m\n\u001b[0;32m   2828\u001b[0m \u001b[38;5;28;01mif\u001b[39;00m n_features \u001b[38;5;241m!=\u001b[39m estimator\u001b[38;5;241m.\u001b[39mn_features_in_:\n\u001b[1;32m-> 2829\u001b[0m     \u001b[38;5;28;01mraise\u001b[39;00m \u001b[38;5;167;01mValueError\u001b[39;00m(\n\u001b[0;32m   2830\u001b[0m         \u001b[38;5;124mf\u001b[39m\u001b[38;5;124m\"\u001b[39m\u001b[38;5;124mX has \u001b[39m\u001b[38;5;132;01m{\u001b[39;00mn_features\u001b[38;5;132;01m}\u001b[39;00m\u001b[38;5;124m features, but \u001b[39m\u001b[38;5;132;01m{\u001b[39;00mestimator\u001b[38;5;241m.\u001b[39m\u001b[38;5;18m__class__\u001b[39m\u001b[38;5;241m.\u001b[39m\u001b[38;5;18m__name__\u001b[39m\u001b[38;5;132;01m}\u001b[39;00m\u001b[38;5;124m \u001b[39m\u001b[38;5;124m\"\u001b[39m\n\u001b[0;32m   2831\u001b[0m         \u001b[38;5;124mf\u001b[39m\u001b[38;5;124m\"\u001b[39m\u001b[38;5;124mis expecting \u001b[39m\u001b[38;5;132;01m{\u001b[39;00mestimator\u001b[38;5;241m.\u001b[39mn_features_in_\u001b[38;5;132;01m}\u001b[39;00m\u001b[38;5;124m features as input.\u001b[39m\u001b[38;5;124m\"\u001b[39m\n\u001b[0;32m   2832\u001b[0m     )\n",
      "\u001b[1;31mValueError\u001b[0m: X has 1 features, but LinearRegression is expecting 4 features as input."
     ]
    }
   ],
   "source": [
    "y_pred_portatiles = model_1.predict(X_portatiles)"
   ]
  },
  {
   "cell_type": "code",
   "execution_count": 1179,
   "metadata": {},
   "outputs": [],
   "source": [
    "y_pred_portatiles = np.round(y_pred_portatiles, 2)"
   ]
  },
  {
   "cell_type": "code",
   "execution_count": 1180,
   "metadata": {},
   "outputs": [],
   "source": [
    "subir=pd.DataFrame({\"id\":df_portatiles[\"id\"],\"Price_euros\":y_pred_portatiles})"
   ]
  },
  {
   "cell_type": "code",
   "execution_count": 1181,
   "metadata": {},
   "outputs": [
    {
     "data": {
      "text/html": [
       "<div>\n",
       "<style scoped>\n",
       "    .dataframe tbody tr th:only-of-type {\n",
       "        vertical-align: middle;\n",
       "    }\n",
       "\n",
       "    .dataframe tbody tr th {\n",
       "        vertical-align: top;\n",
       "    }\n",
       "\n",
       "    .dataframe thead th {\n",
       "        text-align: right;\n",
       "    }\n",
       "</style>\n",
       "<table border=\"1\" class=\"dataframe\">\n",
       "  <thead>\n",
       "    <tr style=\"text-align: right;\">\n",
       "      <th></th>\n",
       "      <th>id</th>\n",
       "      <th>Price_euros</th>\n",
       "    </tr>\n",
       "  </thead>\n",
       "  <tbody>\n",
       "    <tr>\n",
       "      <th>0</th>\n",
       "      <td>181</td>\n",
       "      <td>8416.65</td>\n",
       "    </tr>\n",
       "    <tr>\n",
       "      <th>1</th>\n",
       "      <td>708</td>\n",
       "      <td>9678.13</td>\n",
       "    </tr>\n",
       "    <tr>\n",
       "      <th>2</th>\n",
       "      <td>862</td>\n",
       "      <td>9678.13</td>\n",
       "    </tr>\n",
       "    <tr>\n",
       "      <th>3</th>\n",
       "      <td>1064</td>\n",
       "      <td>8800.58</td>\n",
       "    </tr>\n",
       "    <tr>\n",
       "      <th>4</th>\n",
       "      <td>702</td>\n",
       "      <td>8416.65</td>\n",
       "    </tr>\n",
       "    <tr>\n",
       "      <th>...</th>\n",
       "      <td>...</td>\n",
       "      <td>...</td>\n",
       "    </tr>\n",
       "    <tr>\n",
       "      <th>386</th>\n",
       "      <td>1281</td>\n",
       "      <td>9678.13</td>\n",
       "    </tr>\n",
       "    <tr>\n",
       "      <th>387</th>\n",
       "      <td>524</td>\n",
       "      <td>9678.13</td>\n",
       "    </tr>\n",
       "    <tr>\n",
       "      <th>388</th>\n",
       "      <td>1015</td>\n",
       "      <td>9678.13</td>\n",
       "    </tr>\n",
       "    <tr>\n",
       "      <th>389</th>\n",
       "      <td>1236</td>\n",
       "      <td>9678.13</td>\n",
       "    </tr>\n",
       "    <tr>\n",
       "      <th>390</th>\n",
       "      <td>1036</td>\n",
       "      <td>8745.73</td>\n",
       "    </tr>\n",
       "  </tbody>\n",
       "</table>\n",
       "<p>391 rows × 2 columns</p>\n",
       "</div>"
      ],
      "text/plain": [
       "       id  Price_euros\n",
       "0     181      8416.65\n",
       "1     708      9678.13\n",
       "2     862      9678.13\n",
       "3    1064      8800.58\n",
       "4     702      8416.65\n",
       "..    ...          ...\n",
       "386  1281      9678.13\n",
       "387   524      9678.13\n",
       "388  1015      9678.13\n",
       "389  1236      9678.13\n",
       "390  1036      8745.73\n",
       "\n",
       "[391 rows x 2 columns]"
      ]
     },
     "execution_count": 1181,
     "metadata": {},
     "output_type": "execute_result"
    }
   ],
   "source": [
    "subir"
   ]
  },
  {
   "cell_type": "code",
   "execution_count": 1182,
   "metadata": {},
   "outputs": [],
   "source": [
    "subir.to_csv(\"submission.csv\", index=False)"
   ]
  }
 ],
 "metadata": {
  "kernelspec": {
   "display_name": "Python 3",
   "language": "python",
   "name": "python3"
  },
  "language_info": {
   "codemirror_mode": {
    "name": "ipython",
    "version": 3
   },
   "file_extension": ".py",
   "mimetype": "text/x-python",
   "name": "python",
   "nbconvert_exporter": "python",
   "pygments_lexer": "ipython3",
   "version": "3.12.6"
  }
 },
 "nbformat": 4,
 "nbformat_minor": 2
}
