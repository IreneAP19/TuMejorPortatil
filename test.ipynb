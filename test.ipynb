{
 "cells": [
  {
   "cell_type": "code",
   "execution_count": 93,
   "metadata": {},
   "outputs": [],
   "source": [
    "import matplotlib.pyplot as plt\n",
    "import seaborn as sns\n",
    "import pandas as pd\n",
    "import numpy as np\n",
    "from sklearn.preprocessing import StandardScaler"
   ]
  },
  {
   "cell_type": "code",
   "execution_count": 94,
   "metadata": {},
   "outputs": [],
   "source": [
    "df=pd.read_csv(\"test.csv\")"
   ]
  },
  {
   "cell_type": "code",
   "execution_count": 95,
   "metadata": {},
   "outputs": [],
   "source": [
    "def eliminar_to_num(columna, string,tipo):\n",
    "    return columna.str.replace(string,\"\",regex=True).astype(tipo)"
   ]
  },
  {
   "cell_type": "code",
   "execution_count": 96,
   "metadata": {},
   "outputs": [],
   "source": [
    "def str_num(columna): \n",
    "    for posicion, nombre in enumerate(columna.unique()):\n",
    "           columna.replace({nombre:posicion},inplace=True)\n",
    "    return columna"
   ]
  },
  {
   "cell_type": "code",
   "execution_count": 97,
   "metadata": {},
   "outputs": [
    {
     "name": "stderr",
     "output_type": "stream",
     "text": [
      "C:\\Users\\UX490U\\AppData\\Local\\Temp\\ipykernel_13296\\1236849756.py:3: FutureWarning: Downcasting behavior in `replace` is deprecated and will be removed in a future version. To retain the old behavior, explicitly call `result.infer_objects(copy=False)`. To opt-in to the future behavior, set `pd.set_option('future.no_silent_downcasting', True)`\n",
      "  columna.replace({nombre:posicion},inplace=True)\n"
     ]
    },
    {
     "data": {
      "text/plain": [
       "0      0\n",
       "1      1\n",
       "2      1\n",
       "3      0\n",
       "4      0\n",
       "      ..\n",
       "386    5\n",
       "387    5\n",
       "388    0\n",
       "389    0\n",
       "390    5\n",
       "Name: Company, Length: 391, dtype: int64"
      ]
     },
     "execution_count": 97,
     "metadata": {},
     "output_type": "execute_result"
    }
   ],
   "source": [
    "str_num(df[\"Company\"])"
   ]
  },
  {
   "cell_type": "code",
   "execution_count": 98,
   "metadata": {},
   "outputs": [
    {
     "name": "stderr",
     "output_type": "stream",
     "text": [
      "C:\\Users\\UX490U\\AppData\\Local\\Temp\\ipykernel_13296\\1236849756.py:3: FutureWarning: Downcasting behavior in `replace` is deprecated and will be removed in a future version. To retain the old behavior, explicitly call `result.infer_objects(copy=False)`. To opt-in to the future behavior, set `pd.set_option('future.no_silent_downcasting', True)`\n",
      "  columna.replace({nombre:posicion},inplace=True)\n"
     ]
    },
    {
     "data": {
      "text/plain": [
       "0      0\n",
       "1      1\n",
       "2      1\n",
       "3      1\n",
       "4      1\n",
       "      ..\n",
       "386    3\n",
       "387    3\n",
       "388    1\n",
       "389    1\n",
       "390    2\n",
       "Name: TypeName, Length: 391, dtype: int64"
      ]
     },
     "execution_count": 98,
     "metadata": {},
     "output_type": "execute_result"
    }
   ],
   "source": [
    "str_num(df[\"TypeName\"])"
   ]
  },
  {
   "cell_type": "code",
   "execution_count": 99,
   "metadata": {},
   "outputs": [],
   "source": [
    "df[\"Ram\"]=eliminar_to_num(df[\"Ram\"],\"GB\",int)"
   ]
  },
  {
   "cell_type": "code",
   "execution_count": 100,
   "metadata": {},
   "outputs": [],
   "source": [
    "df[\"SSD\"] = df[\"Memory\"].str.extract(r'(\\d+\\.?\\d*TB|\\d+GB) SSD')\n",
    "df[\"HDD\"] = df[\"Memory\"].str.extract(r'(\\d+\\.?\\d*TB|\\d+GB) HDD')\n",
    "df[\"Flash Storage\"] = df[\"Memory\"].str.extract(r'(\\d+\\.?\\d*TB|\\d+GB) Flash Storage')\n",
    "df[\"Hybrid\"] = df[\"Memory\"].str.extract(r'(\\d+\\.?\\d*TB|\\d+GB) Hybrid')\n"
   ]
  },
  {
   "cell_type": "code",
   "execution_count": 101,
   "metadata": {},
   "outputs": [],
   "source": [
    "def convertir_a_gb(valor):\n",
    "    if pd.isna(valor):\n",
    "        return 0 \n",
    "    if \"TB\" in valor:\n",
    "        return int(float(valor.replace(\"TB\", \"\")) * 1024)  # Convertir TB a GB\n",
    "    return int(valor.replace(\"GB\", \"\"))"
   ]
  },
  {
   "cell_type": "code",
   "execution_count": 102,
   "metadata": {},
   "outputs": [],
   "source": [
    "df[\"SSD\"] = df[\"SSD\"].apply(convertir_a_gb)\n",
    "df[\"HDD\"] = df[\"HDD\"].apply(convertir_a_gb)\n",
    "df[\"Flash Storage\"] = df[\"Flash Storage\"].apply(convertir_a_gb)\n",
    "df[\"Hybrid\"] = df[\"Hybrid\"].apply(convertir_a_gb)"
   ]
  },
  {
   "cell_type": "code",
   "execution_count": 103,
   "metadata": {},
   "outputs": [],
   "source": [
    "df[\"Total_Almacenamiento_GB\"]=df[\"SSD\"]+df[\"HDD\"] +df[\"Flash Storage\"]+df[\"Hybrid\"] "
   ]
  },
  {
   "cell_type": "code",
   "execution_count": 104,
   "metadata": {},
   "outputs": [],
   "source": [
    "df['Storage_SSD'] = df['Memory'].str.contains('SSD').astype(int)\n",
    "df['Storage_HDD'] = df['Memory'].str.contains('HDD').astype(int)\n",
    "df['Storage_Flash'] = df['Memory'].str.contains('Flash').astype(int)\n",
    "df['Storage_Hybrid'] = df['Memory'].str.contains('Hybrid').astype(int)"
   ]
  },
  {
   "cell_type": "code",
   "execution_count": 105,
   "metadata": {},
   "outputs": [
    {
     "name": "stderr",
     "output_type": "stream",
     "text": [
      "C:\\Users\\UX490U\\AppData\\Local\\Temp\\ipykernel_13296\\1236849756.py:3: FutureWarning: Downcasting behavior in `replace` is deprecated and will be removed in a future version. To retain the old behavior, explicitly call `result.infer_objects(copy=False)`. To opt-in to the future behavior, set `pd.set_option('future.no_silent_downcasting', True)`\n",
      "  columna.replace({nombre:posicion},inplace=True)\n"
     ]
    },
    {
     "data": {
      "text/plain": [
       "0      0\n",
       "1      0\n",
       "2      1\n",
       "3      2\n",
       "4      0\n",
       "      ..\n",
       "386    3\n",
       "387    0\n",
       "388    3\n",
       "389    0\n",
       "390    0\n",
       "Name: OpSys, Length: 391, dtype: int64"
      ]
     },
     "execution_count": 105,
     "metadata": {},
     "output_type": "execute_result"
    }
   ],
   "source": [
    "str_num(df[\"OpSys\"])"
   ]
  },
  {
   "cell_type": "code",
   "execution_count": 106,
   "metadata": {},
   "outputs": [],
   "source": [
    "df[\"Weight\"]=eliminar_to_num(df[\"Weight\"],\"kg\",float)"
   ]
  },
  {
   "cell_type": "code",
   "execution_count": 107,
   "metadata": {},
   "outputs": [],
   "source": [
    "tactil=[]\n",
    "for i in df[\"ScreenResolution\"]:\n",
    "    if \"Touchscreen\" in i:\n",
    "        tactil.append(1)\n",
    "    else:\n",
    "        tactil.append(0)"
   ]
  },
  {
   "cell_type": "code",
   "execution_count": 108,
   "metadata": {},
   "outputs": [],
   "source": [
    "df[\"pantalla_tactil\"]=tactil"
   ]
  },
  {
   "cell_type": "code",
   "execution_count": 109,
   "metadata": {},
   "outputs": [],
   "source": [
    "lista_tamaño=df[\"ScreenResolution\"].str.split(\" \")\n",
    "tamaño_pantalla=[]\n",
    "for i in lista_tamaño:\n",
    "    tamaño_pantalla.append(i[-1])\n"
   ]
  },
  {
   "cell_type": "code",
   "execution_count": 110,
   "metadata": {},
   "outputs": [],
   "source": [
    "df[\"tamaño_pantalla\"]=lista_tamaño"
   ]
  },
  {
   "cell_type": "code",
   "execution_count": 111,
   "metadata": {},
   "outputs": [],
   "source": [
    "tamaño_num=[]\n",
    "for i in df[\"tamaño_pantalla\"]:\n",
    "    tamaño_num.append(i[-1])"
   ]
  },
  {
   "cell_type": "code",
   "execution_count": 112,
   "metadata": {},
   "outputs": [],
   "source": [
    "df[\"tamaño_pantalla\"]=tamaño_num"
   ]
  },
  {
   "cell_type": "code",
   "execution_count": 113,
   "metadata": {},
   "outputs": [],
   "source": [
    "ancho_alto=df[\"tamaño_pantalla\"].str.split(\"x\")\n",
    "ancho_pantalla=[]\n",
    "alto_pantalla=[]\n",
    "for i in ancho_alto:\n",
    "    alto_pantalla.append(i[-1])\n",
    "    ancho_pantalla.append(i[0])"
   ]
  },
  {
   "cell_type": "code",
   "execution_count": 114,
   "metadata": {},
   "outputs": [],
   "source": [
    "df[\"ancho_pantalla\"] =ancho_pantalla\n",
    "df[\"alto_pantalla\"] =alto_pantalla"
   ]
  },
  {
   "cell_type": "code",
   "execution_count": 115,
   "metadata": {},
   "outputs": [],
   "source": [
    "df[[\"alto_pantalla\",\"ancho_pantalla\"]]=df[[\"alto_pantalla\",\"ancho_pantalla\"]].astype(float)"
   ]
  },
  {
   "cell_type": "code",
   "execution_count": 116,
   "metadata": {},
   "outputs": [],
   "source": [
    "df[\"tamaño_pantalla\"]=df[\"alto_pantalla\"]*df[\"ancho_pantalla\"]"
   ]
  },
  {
   "cell_type": "code",
   "execution_count": 117,
   "metadata": {},
   "outputs": [],
   "source": [
    "lista1=df['Cpu'].str.split(\" \")"
   ]
  },
  {
   "cell_type": "code",
   "execution_count": 118,
   "metadata": {},
   "outputs": [],
   "source": [
    "marca_fabricante=[]\n",
    "velocidad_procesador=[]\n",
    "for i in lista1:\n",
    "    marca_fabricante.append(i[0])\n",
    "    velocidad_procesador.append(i[-1])\n",
    "    "
   ]
  },
  {
   "cell_type": "code",
   "execution_count": 119,
   "metadata": {},
   "outputs": [],
   "source": [
    "df[\"marca_fabricante\"]=marca_fabricante\n",
    "df[\"velocidad_procesador\"]=velocidad_procesador"
   ]
  },
  {
   "cell_type": "code",
   "execution_count": 120,
   "metadata": {},
   "outputs": [],
   "source": [
    "df[\"Intel\"] = (df[\"marca_fabricante\"] == \"Intel\").astype(int)\n",
    "\n",
    "# Eliminar la columna original \"Marca\"\n",
    "df.drop(columns=[\"marca_fabricante\"], inplace=True)"
   ]
  },
  {
   "cell_type": "code",
   "execution_count": 121,
   "metadata": {},
   "outputs": [],
   "source": [
    "df[\"velocidad_procesador\"]=eliminar_to_num(df[\"velocidad_procesador\"],\"GHz\",float)"
   ]
  },
  {
   "cell_type": "code",
   "execution_count": 122,
   "metadata": {},
   "outputs": [],
   "source": [
    "gpu_str=df['Gpu'].str.split(\" \")"
   ]
  },
  {
   "cell_type": "code",
   "execution_count": 123,
   "metadata": {},
   "outputs": [],
   "source": [
    "tipo_gpu=[]\n",
    "for i in gpu_str:\n",
    "    tipo_gpu.append(i[0])"
   ]
  },
  {
   "cell_type": "code",
   "execution_count": 124,
   "metadata": {},
   "outputs": [],
   "source": [
    "df[\"tipo_gpu\"]=tipo_gpu"
   ]
  },
  {
   "cell_type": "code",
   "execution_count": 125,
   "metadata": {},
   "outputs": [
    {
     "name": "stderr",
     "output_type": "stream",
     "text": [
      "C:\\Users\\UX490U\\AppData\\Local\\Temp\\ipykernel_13296\\1236849756.py:3: FutureWarning: Downcasting behavior in `replace` is deprecated and will be removed in a future version. To retain the old behavior, explicitly call `result.infer_objects(copy=False)`. To opt-in to the future behavior, set `pd.set_option('future.no_silent_downcasting', True)`\n",
      "  columna.replace({nombre:posicion},inplace=True)\n"
     ]
    },
    {
     "data": {
      "text/plain": [
       "0      0\n",
       "1      1\n",
       "2      0\n",
       "3      0\n",
       "4      0\n",
       "      ..\n",
       "386    2\n",
       "387    2\n",
       "388    0\n",
       "389    1\n",
       "390    0\n",
       "Name: tipo_gpu, Length: 391, dtype: int64"
      ]
     },
     "execution_count": 125,
     "metadata": {},
     "output_type": "execute_result"
    }
   ],
   "source": [
    "str_num(df[\"tipo_gpu\"])"
   ]
  },
  {
   "cell_type": "code",
   "execution_count": 126,
   "metadata": {},
   "outputs": [],
   "source": [
    "df1=df.copy()"
   ]
  },
  {
   "cell_type": "code",
   "execution_count": 127,
   "metadata": {},
   "outputs": [
    {
     "data": {
      "text/html": [
       "<div>\n",
       "<style scoped>\n",
       "    .dataframe tbody tr th:only-of-type {\n",
       "        vertical-align: middle;\n",
       "    }\n",
       "\n",
       "    .dataframe tbody tr th {\n",
       "        vertical-align: top;\n",
       "    }\n",
       "\n",
       "    .dataframe thead th {\n",
       "        text-align: right;\n",
       "    }\n",
       "</style>\n",
       "<table border=\"1\" class=\"dataframe\">\n",
       "  <thead>\n",
       "    <tr style=\"text-align: right;\">\n",
       "      <th></th>\n",
       "      <th>id</th>\n",
       "      <th>laptop_ID</th>\n",
       "      <th>Company</th>\n",
       "      <th>Product</th>\n",
       "      <th>TypeName</th>\n",
       "      <th>Inches</th>\n",
       "      <th>ScreenResolution</th>\n",
       "      <th>Cpu</th>\n",
       "      <th>Ram</th>\n",
       "      <th>Memory</th>\n",
       "      <th>...</th>\n",
       "      <th>Storage_HDD</th>\n",
       "      <th>Storage_Flash</th>\n",
       "      <th>Storage_Hybrid</th>\n",
       "      <th>pantalla_tactil</th>\n",
       "      <th>tamaño_pantalla</th>\n",
       "      <th>ancho_pantalla</th>\n",
       "      <th>alto_pantalla</th>\n",
       "      <th>velocidad_procesador</th>\n",
       "      <th>Intel</th>\n",
       "      <th>tipo_gpu</th>\n",
       "    </tr>\n",
       "  </thead>\n",
       "  <tbody>\n",
       "    <tr>\n",
       "      <th>0</th>\n",
       "      <td>181</td>\n",
       "      <td>1098</td>\n",
       "      <td>0</td>\n",
       "      <td>Spectre x360</td>\n",
       "      <td>0</td>\n",
       "      <td>13.3</td>\n",
       "      <td>IPS Panel 4K Ultra HD 3840x2160</td>\n",
       "      <td>Intel Core i7 7500U 2.7GHz</td>\n",
       "      <td>16</td>\n",
       "      <td>512GB SSD</td>\n",
       "      <td>...</td>\n",
       "      <td>0</td>\n",
       "      <td>0</td>\n",
       "      <td>0</td>\n",
       "      <td>0</td>\n",
       "      <td>8294400.0</td>\n",
       "      <td>3840.0</td>\n",
       "      <td>2160.0</td>\n",
       "      <td>2.7</td>\n",
       "      <td>1</td>\n",
       "      <td>0</td>\n",
       "    </tr>\n",
       "    <tr>\n",
       "      <th>1</th>\n",
       "      <td>708</td>\n",
       "      <td>330</td>\n",
       "      <td>1</td>\n",
       "      <td>Aspire 5</td>\n",
       "      <td>1</td>\n",
       "      <td>15.6</td>\n",
       "      <td>1366x768</td>\n",
       "      <td>AMD A12-Series 9720P 2.7GHz</td>\n",
       "      <td>8</td>\n",
       "      <td>256GB SSD</td>\n",
       "      <td>...</td>\n",
       "      <td>0</td>\n",
       "      <td>0</td>\n",
       "      <td>0</td>\n",
       "      <td>0</td>\n",
       "      <td>1049088.0</td>\n",
       "      <td>1366.0</td>\n",
       "      <td>768.0</td>\n",
       "      <td>2.7</td>\n",
       "      <td>0</td>\n",
       "      <td>1</td>\n",
       "    </tr>\n",
       "    <tr>\n",
       "      <th>2</th>\n",
       "      <td>862</td>\n",
       "      <td>1260</td>\n",
       "      <td>1</td>\n",
       "      <td>Aspire ES1-572</td>\n",
       "      <td>1</td>\n",
       "      <td>15.6</td>\n",
       "      <td>1366x768</td>\n",
       "      <td>Intel Core i3 6006U 2.0GHz</td>\n",
       "      <td>4</td>\n",
       "      <td>500GB HDD</td>\n",
       "      <td>...</td>\n",
       "      <td>1</td>\n",
       "      <td>0</td>\n",
       "      <td>0</td>\n",
       "      <td>0</td>\n",
       "      <td>1049088.0</td>\n",
       "      <td>1366.0</td>\n",
       "      <td>768.0</td>\n",
       "      <td>2.0</td>\n",
       "      <td>1</td>\n",
       "      <td>0</td>\n",
       "    </tr>\n",
       "    <tr>\n",
       "      <th>3</th>\n",
       "      <td>1064</td>\n",
       "      <td>1137</td>\n",
       "      <td>0</td>\n",
       "      <td>EliteBook 1040</td>\n",
       "      <td>1</td>\n",
       "      <td>14.0</td>\n",
       "      <td>Full HD 1920x1080</td>\n",
       "      <td>Intel Core i5 6200U 2.3GHz</td>\n",
       "      <td>8</td>\n",
       "      <td>256GB SSD</td>\n",
       "      <td>...</td>\n",
       "      <td>0</td>\n",
       "      <td>0</td>\n",
       "      <td>0</td>\n",
       "      <td>0</td>\n",
       "      <td>2073600.0</td>\n",
       "      <td>1920.0</td>\n",
       "      <td>1080.0</td>\n",
       "      <td>2.3</td>\n",
       "      <td>1</td>\n",
       "      <td>0</td>\n",
       "    </tr>\n",
       "    <tr>\n",
       "      <th>4</th>\n",
       "      <td>702</td>\n",
       "      <td>1015</td>\n",
       "      <td>0</td>\n",
       "      <td>ENVY -</td>\n",
       "      <td>1</td>\n",
       "      <td>13.3</td>\n",
       "      <td>IPS Panel Full HD 1920x1080</td>\n",
       "      <td>Intel Core i5 7200U 2.5GHz</td>\n",
       "      <td>8</td>\n",
       "      <td>256GB SSD</td>\n",
       "      <td>...</td>\n",
       "      <td>0</td>\n",
       "      <td>0</td>\n",
       "      <td>0</td>\n",
       "      <td>0</td>\n",
       "      <td>2073600.0</td>\n",
       "      <td>1920.0</td>\n",
       "      <td>1080.0</td>\n",
       "      <td>2.5</td>\n",
       "      <td>1</td>\n",
       "      <td>0</td>\n",
       "    </tr>\n",
       "    <tr>\n",
       "      <th>...</th>\n",
       "      <td>...</td>\n",
       "      <td>...</td>\n",
       "      <td>...</td>\n",
       "      <td>...</td>\n",
       "      <td>...</td>\n",
       "      <td>...</td>\n",
       "      <td>...</td>\n",
       "      <td>...</td>\n",
       "      <td>...</td>\n",
       "      <td>...</td>\n",
       "      <td>...</td>\n",
       "      <td>...</td>\n",
       "      <td>...</td>\n",
       "      <td>...</td>\n",
       "      <td>...</td>\n",
       "      <td>...</td>\n",
       "      <td>...</td>\n",
       "      <td>...</td>\n",
       "      <td>...</td>\n",
       "      <td>...</td>\n",
       "      <td>...</td>\n",
       "    </tr>\n",
       "    <tr>\n",
       "      <th>386</th>\n",
       "      <td>1281</td>\n",
       "      <td>145</td>\n",
       "      <td>5</td>\n",
       "      <td>Legion Y520-15IKBN</td>\n",
       "      <td>3</td>\n",
       "      <td>15.6</td>\n",
       "      <td>IPS Panel Full HD 1920x1080</td>\n",
       "      <td>Intel Core i7 7700HQ 2.8GHz</td>\n",
       "      <td>8</td>\n",
       "      <td>256GB SSD</td>\n",
       "      <td>...</td>\n",
       "      <td>0</td>\n",
       "      <td>0</td>\n",
       "      <td>0</td>\n",
       "      <td>0</td>\n",
       "      <td>2073600.0</td>\n",
       "      <td>1920.0</td>\n",
       "      <td>1080.0</td>\n",
       "      <td>2.8</td>\n",
       "      <td>1</td>\n",
       "      <td>2</td>\n",
       "    </tr>\n",
       "    <tr>\n",
       "      <th>387</th>\n",
       "      <td>524</td>\n",
       "      <td>1195</td>\n",
       "      <td>5</td>\n",
       "      <td>IdeaPad Y700-15ISK</td>\n",
       "      <td>3</td>\n",
       "      <td>15.6</td>\n",
       "      <td>IPS Panel Full HD 1920x1080</td>\n",
       "      <td>Intel Core i7 6700HQ 2.6GHz</td>\n",
       "      <td>16</td>\n",
       "      <td>512GB SSD</td>\n",
       "      <td>...</td>\n",
       "      <td>0</td>\n",
       "      <td>0</td>\n",
       "      <td>0</td>\n",
       "      <td>0</td>\n",
       "      <td>2073600.0</td>\n",
       "      <td>1920.0</td>\n",
       "      <td>1080.0</td>\n",
       "      <td>2.6</td>\n",
       "      <td>1</td>\n",
       "      <td>2</td>\n",
       "    </tr>\n",
       "    <tr>\n",
       "      <th>388</th>\n",
       "      <td>1015</td>\n",
       "      <td>1070</td>\n",
       "      <td>0</td>\n",
       "      <td>250 G5</td>\n",
       "      <td>1</td>\n",
       "      <td>15.6</td>\n",
       "      <td>1366x768</td>\n",
       "      <td>Intel Core i5 7200U 2.5GHz</td>\n",
       "      <td>4</td>\n",
       "      <td>500GB HDD</td>\n",
       "      <td>...</td>\n",
       "      <td>1</td>\n",
       "      <td>0</td>\n",
       "      <td>0</td>\n",
       "      <td>0</td>\n",
       "      <td>1049088.0</td>\n",
       "      <td>1366.0</td>\n",
       "      <td>768.0</td>\n",
       "      <td>2.5</td>\n",
       "      <td>1</td>\n",
       "      <td>0</td>\n",
       "    </tr>\n",
       "    <tr>\n",
       "      <th>389</th>\n",
       "      <td>1236</td>\n",
       "      <td>104</td>\n",
       "      <td>0</td>\n",
       "      <td>15-bw000nv (E2-9000e/4GB/500GB/Radeon</td>\n",
       "      <td>1</td>\n",
       "      <td>15.6</td>\n",
       "      <td>Full HD 1920x1080</td>\n",
       "      <td>AMD E-Series E2-9000e 1.5GHz</td>\n",
       "      <td>4</td>\n",
       "      <td>500GB HDD</td>\n",
       "      <td>...</td>\n",
       "      <td>1</td>\n",
       "      <td>0</td>\n",
       "      <td>0</td>\n",
       "      <td>0</td>\n",
       "      <td>2073600.0</td>\n",
       "      <td>1920.0</td>\n",
       "      <td>1080.0</td>\n",
       "      <td>1.5</td>\n",
       "      <td>0</td>\n",
       "      <td>1</td>\n",
       "    </tr>\n",
       "    <tr>\n",
       "      <th>390</th>\n",
       "      <td>1036</td>\n",
       "      <td>258</td>\n",
       "      <td>5</td>\n",
       "      <td>Yoga 920-13IKB</td>\n",
       "      <td>2</td>\n",
       "      <td>13.9</td>\n",
       "      <td>IPS Panel Full HD / Touchscreen 1920x1080</td>\n",
       "      <td>Intel Core i7 8550U 1.8GHz</td>\n",
       "      <td>8</td>\n",
       "      <td>512GB SSD</td>\n",
       "      <td>...</td>\n",
       "      <td>0</td>\n",
       "      <td>0</td>\n",
       "      <td>0</td>\n",
       "      <td>1</td>\n",
       "      <td>2073600.0</td>\n",
       "      <td>1920.0</td>\n",
       "      <td>1080.0</td>\n",
       "      <td>1.8</td>\n",
       "      <td>1</td>\n",
       "      <td>0</td>\n",
       "    </tr>\n",
       "  </tbody>\n",
       "</table>\n",
       "<p>391 rows × 29 columns</p>\n",
       "</div>"
      ],
      "text/plain": [
       "       id  laptop_ID  Company                                Product  \\\n",
       "0     181       1098        0                           Spectre x360   \n",
       "1     708        330        1                               Aspire 5   \n",
       "2     862       1260        1                         Aspire ES1-572   \n",
       "3    1064       1137        0                         EliteBook 1040   \n",
       "4     702       1015        0                                 ENVY -   \n",
       "..    ...        ...      ...                                    ...   \n",
       "386  1281        145        5                     Legion Y520-15IKBN   \n",
       "387   524       1195        5                     IdeaPad Y700-15ISK   \n",
       "388  1015       1070        0                                 250 G5   \n",
       "389  1236        104        0  15-bw000nv (E2-9000e/4GB/500GB/Radeon   \n",
       "390  1036        258        5                         Yoga 920-13IKB   \n",
       "\n",
       "     TypeName  Inches                           ScreenResolution  \\\n",
       "0           0    13.3            IPS Panel 4K Ultra HD 3840x2160   \n",
       "1           1    15.6                                   1366x768   \n",
       "2           1    15.6                                   1366x768   \n",
       "3           1    14.0                          Full HD 1920x1080   \n",
       "4           1    13.3                IPS Panel Full HD 1920x1080   \n",
       "..        ...     ...                                        ...   \n",
       "386         3    15.6                IPS Panel Full HD 1920x1080   \n",
       "387         3    15.6                IPS Panel Full HD 1920x1080   \n",
       "388         1    15.6                                   1366x768   \n",
       "389         1    15.6                          Full HD 1920x1080   \n",
       "390         2    13.9  IPS Panel Full HD / Touchscreen 1920x1080   \n",
       "\n",
       "                              Cpu  Ram     Memory  ... Storage_HDD  \\\n",
       "0      Intel Core i7 7500U 2.7GHz   16  512GB SSD  ...           0   \n",
       "1     AMD A12-Series 9720P 2.7GHz    8  256GB SSD  ...           0   \n",
       "2      Intel Core i3 6006U 2.0GHz    4  500GB HDD  ...           1   \n",
       "3      Intel Core i5 6200U 2.3GHz    8  256GB SSD  ...           0   \n",
       "4      Intel Core i5 7200U 2.5GHz    8  256GB SSD  ...           0   \n",
       "..                            ...  ...        ...  ...         ...   \n",
       "386   Intel Core i7 7700HQ 2.8GHz    8  256GB SSD  ...           0   \n",
       "387   Intel Core i7 6700HQ 2.6GHz   16  512GB SSD  ...           0   \n",
       "388    Intel Core i5 7200U 2.5GHz    4  500GB HDD  ...           1   \n",
       "389  AMD E-Series E2-9000e 1.5GHz    4  500GB HDD  ...           1   \n",
       "390    Intel Core i7 8550U 1.8GHz    8  512GB SSD  ...           0   \n",
       "\n",
       "     Storage_Flash  Storage_Hybrid  pantalla_tactil  tamaño_pantalla  \\\n",
       "0                0               0                0        8294400.0   \n",
       "1                0               0                0        1049088.0   \n",
       "2                0               0                0        1049088.0   \n",
       "3                0               0                0        2073600.0   \n",
       "4                0               0                0        2073600.0   \n",
       "..             ...             ...              ...              ...   \n",
       "386              0               0                0        2073600.0   \n",
       "387              0               0                0        2073600.0   \n",
       "388              0               0                0        1049088.0   \n",
       "389              0               0                0        2073600.0   \n",
       "390              0               0                1        2073600.0   \n",
       "\n",
       "     ancho_pantalla  alto_pantalla  velocidad_procesador  Intel  tipo_gpu  \n",
       "0            3840.0         2160.0                   2.7      1         0  \n",
       "1            1366.0          768.0                   2.7      0         1  \n",
       "2            1366.0          768.0                   2.0      1         0  \n",
       "3            1920.0         1080.0                   2.3      1         0  \n",
       "4            1920.0         1080.0                   2.5      1         0  \n",
       "..              ...            ...                   ...    ...       ...  \n",
       "386          1920.0         1080.0                   2.8      1         2  \n",
       "387          1920.0         1080.0                   2.6      1         2  \n",
       "388          1366.0          768.0                   2.5      1         0  \n",
       "389          1920.0         1080.0                   1.5      0         1  \n",
       "390          1920.0         1080.0                   1.8      1         0  \n",
       "\n",
       "[391 rows x 29 columns]"
      ]
     },
     "execution_count": 127,
     "metadata": {},
     "output_type": "execute_result"
    }
   ],
   "source": [
    "df1"
   ]
  },
  {
   "cell_type": "code",
   "execution_count": 128,
   "metadata": {},
   "outputs": [],
   "source": [
    "df1.drop(columns=[ \"Product\", \"ScreenResolution\",\"Cpu\",\"Gpu\",\"Memory\"],inplace=True)"
   ]
  },
  {
   "cell_type": "code",
   "execution_count": 129,
   "metadata": {},
   "outputs": [],
   "source": [
    "df1.to_csv(\"df_portatiles.csv\")"
   ]
  }
 ],
 "metadata": {
  "kernelspec": {
   "display_name": "Python 3",
   "language": "python",
   "name": "python3"
  },
  "language_info": {
   "codemirror_mode": {
    "name": "ipython",
    "version": 3
   },
   "file_extension": ".py",
   "mimetype": "text/x-python",
   "name": "python",
   "nbconvert_exporter": "python",
   "pygments_lexer": "ipython3",
   "version": "3.12.6"
  }
 },
 "nbformat": 4,
 "nbformat_minor": 2
}
