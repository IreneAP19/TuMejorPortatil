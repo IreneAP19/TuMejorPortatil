{
 "cells": [
  {
   "cell_type": "code",
   "execution_count": 530,
   "metadata": {},
   "outputs": [],
   "source": [
    "import matplotlib.pyplot as plt\n",
    "import seaborn as sns\n",
    "import pandas as pd\n",
    "import numpy as np\n",
    "from sklearn.preprocessing import StandardScaler"
   ]
  },
  {
   "cell_type": "code",
   "execution_count": 531,
   "metadata": {},
   "outputs": [],
   "source": [
    "df=pd.read_csv(\"data/test.csv\")"
   ]
  },
  {
   "cell_type": "code",
   "execution_count": 532,
   "metadata": {},
   "outputs": [],
   "source": [
    "df_test=pd.read_csv(\"data/df_train.csv\")"
   ]
  },
  {
   "cell_type": "code",
   "execution_count": 533,
   "metadata": {},
   "outputs": [
    {
     "data": {
      "text/html": [
       "<div>\n",
       "<style scoped>\n",
       "    .dataframe tbody tr th:only-of-type {\n",
       "        vertical-align: middle;\n",
       "    }\n",
       "\n",
       "    .dataframe tbody tr th {\n",
       "        vertical-align: top;\n",
       "    }\n",
       "\n",
       "    .dataframe thead th {\n",
       "        text-align: right;\n",
       "    }\n",
       "</style>\n",
       "<table border=\"1\" class=\"dataframe\">\n",
       "  <thead>\n",
       "    <tr style=\"text-align: right;\">\n",
       "      <th></th>\n",
       "      <th>id</th>\n",
       "      <th>laptop_ID</th>\n",
       "      <th>Company</th>\n",
       "      <th>Product</th>\n",
       "      <th>TypeName</th>\n",
       "      <th>Inches</th>\n",
       "      <th>ScreenResolution</th>\n",
       "      <th>Cpu</th>\n",
       "      <th>Ram</th>\n",
       "      <th>Memory</th>\n",
       "      <th>...</th>\n",
       "      <th>pantalla_tactil</th>\n",
       "      <th>pantalla_tactil_mean</th>\n",
       "      <th>ScreenResolution_mean</th>\n",
       "      <th>tamaño_pantalla</th>\n",
       "      <th>tamaño_pantalla_mean</th>\n",
       "      <th>marca_fabricante</th>\n",
       "      <th>velocidad_procesador</th>\n",
       "      <th>marca_fabricante_mean</th>\n",
       "      <th>tipo_gpu</th>\n",
       "      <th>tipo_gpu_mean</th>\n",
       "    </tr>\n",
       "  </thead>\n",
       "  <tbody>\n",
       "    <tr>\n",
       "      <th>0</th>\n",
       "      <td>268</td>\n",
       "      <td>1002</td>\n",
       "      <td>0</td>\n",
       "      <td>Inspiron 5567</td>\n",
       "      <td>0</td>\n",
       "      <td>15.6</td>\n",
       "      <td>1366x768</td>\n",
       "      <td>Intel Core i7 7500U 2.7GHz</td>\n",
       "      <td>8</td>\n",
       "      <td>1TB HDD</td>\n",
       "      <td>...</td>\n",
       "      <td>0</td>\n",
       "      <td>1055.785643</td>\n",
       "      <td>536.252163</td>\n",
       "      <td>1366x768</td>\n",
       "      <td>540.144498</td>\n",
       "      <td>Intel</td>\n",
       "      <td>2.7</td>\n",
       "      <td>1133.507718</td>\n",
       "      <td>AMD</td>\n",
       "      <td>762.709180</td>\n",
       "    </tr>\n",
       "    <tr>\n",
       "      <th>1</th>\n",
       "      <td>347</td>\n",
       "      <td>867</td>\n",
       "      <td>1</td>\n",
       "      <td>X541NA (N4200/4GB/1TB/W10)</td>\n",
       "      <td>0</td>\n",
       "      <td>15.6</td>\n",
       "      <td>1366x768</td>\n",
       "      <td>Intel Pentium Quad Core N4200 1.1GHz</td>\n",
       "      <td>4</td>\n",
       "      <td>1TB HDD</td>\n",
       "      <td>...</td>\n",
       "      <td>0</td>\n",
       "      <td>1055.785643</td>\n",
       "      <td>536.252163</td>\n",
       "      <td>1366x768</td>\n",
       "      <td>540.144498</td>\n",
       "      <td>Intel</td>\n",
       "      <td>1.1</td>\n",
       "      <td>1133.507718</td>\n",
       "      <td>Intel</td>\n",
       "      <td>972.139195</td>\n",
       "    </tr>\n",
       "    <tr>\n",
       "      <th>2</th>\n",
       "      <td>353</td>\n",
       "      <td>966</td>\n",
       "      <td>2</td>\n",
       "      <td>Portege Z30-C-1CW</td>\n",
       "      <td>0</td>\n",
       "      <td>13.3</td>\n",
       "      <td>Full HD 1920x1080</td>\n",
       "      <td>Intel Core i5 6200U 2.3GHz</td>\n",
       "      <td>8</td>\n",
       "      <td>256GB SSD</td>\n",
       "      <td>...</td>\n",
       "      <td>0</td>\n",
       "      <td>1055.785643</td>\n",
       "      <td>1130.398382</td>\n",
       "      <td>1920x1080</td>\n",
       "      <td>1206.182612</td>\n",
       "      <td>Intel</td>\n",
       "      <td>2.3</td>\n",
       "      <td>1133.507718</td>\n",
       "      <td>Intel</td>\n",
       "      <td>972.139195</td>\n",
       "    </tr>\n",
       "    <tr>\n",
       "      <th>3</th>\n",
       "      <td>578</td>\n",
       "      <td>767</td>\n",
       "      <td>0</td>\n",
       "      <td>Alienware 17</td>\n",
       "      <td>1</td>\n",
       "      <td>15.6</td>\n",
       "      <td>IPS Panel 4K Ultra HD 3840x2160</td>\n",
       "      <td>Intel Core i7 7700HQ 2.8GHz</td>\n",
       "      <td>16</td>\n",
       "      <td>256GB SSD +  1TB HDD</td>\n",
       "      <td>...</td>\n",
       "      <td>0</td>\n",
       "      <td>1055.785643</td>\n",
       "      <td>2857.436000</td>\n",
       "      <td>3840x2160</td>\n",
       "      <td>2558.836471</td>\n",
       "      <td>Intel</td>\n",
       "      <td>2.8</td>\n",
       "      <td>1133.507718</td>\n",
       "      <td>Nvidia</td>\n",
       "      <td>1530.227164</td>\n",
       "    </tr>\n",
       "    <tr>\n",
       "      <th>4</th>\n",
       "      <td>42</td>\n",
       "      <td>1241</td>\n",
       "      <td>0</td>\n",
       "      <td>Latitude E7270</td>\n",
       "      <td>2</td>\n",
       "      <td>12.5</td>\n",
       "      <td>Full HD / Touchscreen 1920x1080</td>\n",
       "      <td>Intel Core i5 6300U 2.4GHz</td>\n",
       "      <td>8</td>\n",
       "      <td>256GB SSD</td>\n",
       "      <td>...</td>\n",
       "      <td>1</td>\n",
       "      <td>1411.991269</td>\n",
       "      <td>1402.203438</td>\n",
       "      <td>1920x1080</td>\n",
       "      <td>1206.182612</td>\n",
       "      <td>Intel</td>\n",
       "      <td>2.4</td>\n",
       "      <td>1133.507718</td>\n",
       "      <td>Intel</td>\n",
       "      <td>972.139195</td>\n",
       "    </tr>\n",
       "  </tbody>\n",
       "</table>\n",
       "<p>5 rows × 36 columns</p>\n",
       "</div>"
      ],
      "text/plain": [
       "    id  laptop_ID  Company                     Product  TypeName  Inches  \\\n",
       "0  268       1002        0               Inspiron 5567         0    15.6   \n",
       "1  347        867        1  X541NA (N4200/4GB/1TB/W10)         0    15.6   \n",
       "2  353        966        2           Portege Z30-C-1CW         0    13.3   \n",
       "3  578        767        0                Alienware 17         1    15.6   \n",
       "4   42       1241        0              Latitude E7270         2    12.5   \n",
       "\n",
       "                  ScreenResolution                                   Cpu  Ram  \\\n",
       "0                         1366x768            Intel Core i7 7500U 2.7GHz    8   \n",
       "1                         1366x768  Intel Pentium Quad Core N4200 1.1GHz    4   \n",
       "2                Full HD 1920x1080            Intel Core i5 6200U 2.3GHz    8   \n",
       "3  IPS Panel 4K Ultra HD 3840x2160           Intel Core i7 7700HQ 2.8GHz   16   \n",
       "4  Full HD / Touchscreen 1920x1080            Intel Core i5 6300U 2.4GHz    8   \n",
       "\n",
       "                 Memory  ... pantalla_tactil  pantalla_tactil_mean  \\\n",
       "0               1TB HDD  ...               0           1055.785643   \n",
       "1               1TB HDD  ...               0           1055.785643   \n",
       "2             256GB SSD  ...               0           1055.785643   \n",
       "3  256GB SSD +  1TB HDD  ...               0           1055.785643   \n",
       "4             256GB SSD  ...               1           1411.991269   \n",
       "\n",
       "   ScreenResolution_mean  tamaño_pantalla  tamaño_pantalla_mean  \\\n",
       "0             536.252163         1366x768            540.144498   \n",
       "1             536.252163         1366x768            540.144498   \n",
       "2            1130.398382        1920x1080           1206.182612   \n",
       "3            2857.436000        3840x2160           2558.836471   \n",
       "4            1402.203438        1920x1080           1206.182612   \n",
       "\n",
       "   marca_fabricante  velocidad_procesador  marca_fabricante_mean  tipo_gpu  \\\n",
       "0             Intel                   2.7            1133.507718       AMD   \n",
       "1             Intel                   1.1            1133.507718     Intel   \n",
       "2             Intel                   2.3            1133.507718     Intel   \n",
       "3             Intel                   2.8            1133.507718    Nvidia   \n",
       "4             Intel                   2.4            1133.507718     Intel   \n",
       "\n",
       "   tipo_gpu_mean  \n",
       "0     762.709180  \n",
       "1     972.139195  \n",
       "2     972.139195  \n",
       "3    1530.227164  \n",
       "4     972.139195  \n",
       "\n",
       "[5 rows x 36 columns]"
      ]
     },
     "execution_count": 533,
     "metadata": {},
     "output_type": "execute_result"
    }
   ],
   "source": [
    "df_test.head()"
   ]
  },
  {
   "cell_type": "code",
   "execution_count": 534,
   "metadata": {},
   "outputs": [],
   "source": [
    "def eliminar_to_num(columna, string,tipo):\n",
    "    return columna.str.replace(string,\"\",regex=True).astype(tipo)"
   ]
  },
  {
   "cell_type": "code",
   "execution_count": 535,
   "metadata": {},
   "outputs": [],
   "source": [
    "def str_num(columna): \n",
    "    for posicion, nombre in enumerate(columna.unique()):\n",
    "           columna.replace({nombre:posicion},inplace=True)\n",
    "    return columna"
   ]
  },
  {
   "cell_type": "code",
   "execution_count": 536,
   "metadata": {},
   "outputs": [],
   "source": [
    "comp_mean=df_test.groupby(\"Company\")[\"Price_euros\"].mean()"
   ]
  },
  {
   "cell_type": "code",
   "execution_count": 537,
   "metadata": {},
   "outputs": [
    {
     "name": "stderr",
     "output_type": "stream",
     "text": [
      "C:\\Users\\UX490U\\AppData\\Local\\Temp\\ipykernel_7156\\1236849756.py:3: FutureWarning: Downcasting behavior in `replace` is deprecated and will be removed in a future version. To retain the old behavior, explicitly call `result.infer_objects(copy=False)`. To opt-in to the future behavior, set `pd.set_option('future.no_silent_downcasting', True)`\n",
      "  columna.replace({nombre:posicion},inplace=True)\n"
     ]
    },
    {
     "data": {
      "text/plain": [
       "0      0\n",
       "1      1\n",
       "2      1\n",
       "3      0\n",
       "4      0\n",
       "      ..\n",
       "386    5\n",
       "387    5\n",
       "388    0\n",
       "389    0\n",
       "390    5\n",
       "Name: Company, Length: 391, dtype: int64"
      ]
     },
     "execution_count": 537,
     "metadata": {},
     "output_type": "execute_result"
    }
   ],
   "source": [
    "str_num(df[\"Company\"])"
   ]
  },
  {
   "cell_type": "code",
   "execution_count": 538,
   "metadata": {},
   "outputs": [],
   "source": [
    "df[\"Company_mean\"]=df[\"Company\"].map(comp_mean)"
   ]
  },
  {
   "cell_type": "code",
   "execution_count": 539,
   "metadata": {},
   "outputs": [],
   "source": [
    "TN_mean=df_test.groupby(\"TypeName\")[\"Price_euros\"].mean()"
   ]
  },
  {
   "cell_type": "code",
   "execution_count": 540,
   "metadata": {},
   "outputs": [
    {
     "name": "stderr",
     "output_type": "stream",
     "text": [
      "C:\\Users\\UX490U\\AppData\\Local\\Temp\\ipykernel_7156\\1236849756.py:3: FutureWarning: Downcasting behavior in `replace` is deprecated and will be removed in a future version. To retain the old behavior, explicitly call `result.infer_objects(copy=False)`. To opt-in to the future behavior, set `pd.set_option('future.no_silent_downcasting', True)`\n",
      "  columna.replace({nombre:posicion},inplace=True)\n"
     ]
    },
    {
     "data": {
      "text/plain": [
       "0      0\n",
       "1      1\n",
       "2      1\n",
       "3      1\n",
       "4      1\n",
       "      ..\n",
       "386    3\n",
       "387    3\n",
       "388    1\n",
       "389    1\n",
       "390    2\n",
       "Name: TypeName, Length: 391, dtype: int64"
      ]
     },
     "execution_count": 540,
     "metadata": {},
     "output_type": "execute_result"
    }
   ],
   "source": [
    "str_num(df[\"TypeName\"])"
   ]
  },
  {
   "cell_type": "code",
   "execution_count": 541,
   "metadata": {},
   "outputs": [],
   "source": [
    "df[\"TypeName_mean\"]=df[\"TypeName\"].map(TN_mean)"
   ]
  },
  {
   "cell_type": "code",
   "execution_count": 542,
   "metadata": {},
   "outputs": [],
   "source": [
    "df[\"Ram\"]=eliminar_to_num(df[\"Ram\"],\"GB\",int)"
   ]
  },
  {
   "cell_type": "code",
   "execution_count": 543,
   "metadata": {},
   "outputs": [],
   "source": [
    "df[\"SSD\"] = df[\"Memory\"].str.extract(r'(\\d+\\.?\\d*TB|\\d+GB) SSD')\n",
    "df[\"HDD\"] = df[\"Memory\"].str.extract(r'(\\d+\\.?\\d*TB|\\d+GB) HDD')\n",
    "df[\"Flash Storage\"] = df[\"Memory\"].str.extract(r'(\\d+\\.?\\d*TB|\\d+GB) Flash Storage')\n",
    "df[\"Hybrid\"] = df[\"Memory\"].str.extract(r'(\\d+\\.?\\d*TB|\\d+GB) Hybrid')\n"
   ]
  },
  {
   "cell_type": "code",
   "execution_count": 544,
   "metadata": {},
   "outputs": [],
   "source": [
    "def convertir_a_gb(valor):\n",
    "    if pd.isna(valor):\n",
    "        return 0 \n",
    "    if \"TB\" in valor:\n",
    "        return int(float(valor.replace(\"TB\", \"\")) * 1024)  # Convertir TB a GB\n",
    "    return int(valor.replace(\"GB\", \"\"))"
   ]
  },
  {
   "cell_type": "code",
   "execution_count": 545,
   "metadata": {},
   "outputs": [],
   "source": [
    "df[\"SSD\"] = df[\"SSD\"].apply(convertir_a_gb)\n",
    "df[\"HDD\"] = df[\"HDD\"].apply(convertir_a_gb)\n",
    "df[\"Flash Storage\"] = df[\"Flash Storage\"].apply(convertir_a_gb)\n",
    "df[\"Hybrid\"] = df[\"Hybrid\"].apply(convertir_a_gb)"
   ]
  },
  {
   "cell_type": "code",
   "execution_count": 546,
   "metadata": {},
   "outputs": [],
   "source": [
    "ssd_mean=df_test.groupby(\"SSD\")[\"Price_euros\"].mean()\n",
    "hdd_mean=df_test.groupby(\"HDD\")[\"Price_euros\"].mean()\n",
    "fs_mean=df_test.groupby(\"Flash Storage\")[\"Price_euros\"].mean()\n",
    "hib_mean=df_test.groupby(\"Hybrid\")[\"Price_euros\"].mean()"
   ]
  },
  {
   "cell_type": "code",
   "execution_count": 547,
   "metadata": {},
   "outputs": [],
   "source": [
    "df[\"SSD_mean\"]=df[\"SSD\"].map(ssd_mean)\n",
    "df[\"HDD_mean\"]=df[\"HDD\"].map(hdd_mean)\n",
    "df[\"Flash Storage_mean\"]=df[\"Flash Storage\"].map(fs_mean)\n",
    "df[\"Hybrid_mean\"]=df[\"Hybrid\"].map(hib_mean)"
   ]
  },
  {
   "cell_type": "code",
   "execution_count": 548,
   "metadata": {},
   "outputs": [],
   "source": [
    "df[\"Total_Almacenamiento_GB\"]=df[\"SSD\"]+df[\"HDD\"] +df[\"Flash Storage\"]+df[\"Hybrid\"] "
   ]
  },
  {
   "cell_type": "code",
   "execution_count": 549,
   "metadata": {},
   "outputs": [],
   "source": [
    "# df['Storage_SSD'] = df['Memory'].str.contains('SSD').astype(int)\n",
    "# df['Storage_HDD'] = df['Memory'].str.contains('HDD').astype(int)\n",
    "# df['Storage_Flash'] = df['Memory'].str.contains('Flash').astype(int)\n",
    "# df['Storage_Hybrid'] = df['Memory'].str.contains('Hybrid').astype(int)"
   ]
  },
  {
   "cell_type": "code",
   "execution_count": 550,
   "metadata": {},
   "outputs": [
    {
     "name": "stderr",
     "output_type": "stream",
     "text": [
      "C:\\Users\\UX490U\\AppData\\Local\\Temp\\ipykernel_7156\\1236849756.py:3: FutureWarning: Downcasting behavior in `replace` is deprecated and will be removed in a future version. To retain the old behavior, explicitly call `result.infer_objects(copy=False)`. To opt-in to the future behavior, set `pd.set_option('future.no_silent_downcasting', True)`\n",
      "  columna.replace({nombre:posicion},inplace=True)\n"
     ]
    },
    {
     "data": {
      "text/plain": [
       "0      0\n",
       "1      0\n",
       "2      1\n",
       "3      2\n",
       "4      0\n",
       "      ..\n",
       "386    3\n",
       "387    0\n",
       "388    3\n",
       "389    0\n",
       "390    0\n",
       "Name: OpSys, Length: 391, dtype: int64"
      ]
     },
     "execution_count": 550,
     "metadata": {},
     "output_type": "execute_result"
    }
   ],
   "source": [
    "str_num(df[\"OpSys\"])"
   ]
  },
  {
   "cell_type": "code",
   "execution_count": 551,
   "metadata": {},
   "outputs": [],
   "source": [
    "op_mean=df_test.groupby(\"OpSys\")[\"Price_euros\"].mean()"
   ]
  },
  {
   "cell_type": "code",
   "execution_count": 552,
   "metadata": {},
   "outputs": [],
   "source": [
    "df[\"OpSys_mean\"]=df[\"OpSys\"].map(op_mean)"
   ]
  },
  {
   "cell_type": "code",
   "execution_count": 553,
   "metadata": {},
   "outputs": [],
   "source": [
    "df[\"Weight\"]=eliminar_to_num(df[\"Weight\"],\"kg\",float)"
   ]
  },
  {
   "cell_type": "code",
   "execution_count": 554,
   "metadata": {},
   "outputs": [],
   "source": [
    "tactil=[]\n",
    "for i in df[\"ScreenResolution\"]:\n",
    "    if \"Touchscreen\" in i:\n",
    "        tactil.append(1)\n",
    "    else:\n",
    "        tactil.append(0)"
   ]
  },
  {
   "cell_type": "code",
   "execution_count": 555,
   "metadata": {},
   "outputs": [],
   "source": [
    "df[\"pantalla_tactil\"]=tactil"
   ]
  },
  {
   "cell_type": "code",
   "execution_count": 556,
   "metadata": {},
   "outputs": [],
   "source": [
    "pt_mean=df_test.groupby(\"pantalla_tactil\")[\"Price_euros\"].mean()\n",
    "df[\"pantalla_tactil_mean\"]=df[\"pantalla_tactil\"].map(pt_mean)"
   ]
  },
  {
   "cell_type": "code",
   "execution_count": 557,
   "metadata": {},
   "outputs": [],
   "source": [
    "lista_tamaño=df[\"ScreenResolution\"].str.split(\" \")\n",
    "tamaño_pantalla=[]\n",
    "for i in lista_tamaño:\n",
    "    tamaño_pantalla.append(i[-1])\n"
   ]
  },
  {
   "cell_type": "code",
   "execution_count": 558,
   "metadata": {},
   "outputs": [],
   "source": [
    "pt_mean=df_test.groupby(\"ScreenResolution\")[\"Price_euros\"].mean()\n",
    "df[\"ScreenResolution_mean\"]=df[\"ScreenResolution\"].map(pt_mean)"
   ]
  },
  {
   "cell_type": "code",
   "execution_count": 559,
   "metadata": {},
   "outputs": [],
   "source": [
    "df[\"tamaño_pantalla\"]=lista_tamaño"
   ]
  },
  {
   "cell_type": "code",
   "execution_count": 560,
   "metadata": {},
   "outputs": [],
   "source": [
    "tamaño_num=[]\n",
    "for i in df[\"tamaño_pantalla\"]:\n",
    "    tamaño_num.append(i[-1])"
   ]
  },
  {
   "cell_type": "code",
   "execution_count": 561,
   "metadata": {},
   "outputs": [],
   "source": [
    "df[\"tamaño_pantalla\"]=tamaño_num"
   ]
  },
  {
   "cell_type": "code",
   "execution_count": 562,
   "metadata": {},
   "outputs": [],
   "source": [
    "tp_mean=df_test.groupby(\"tamaño_pantalla\")[\"Price_euros\"].mean()\n",
    "df[\"tamaño_pantalla_mean\"]=df[\"tamaño_pantalla\"].map(tp_mean)"
   ]
  },
  {
   "cell_type": "code",
   "execution_count": 563,
   "metadata": {},
   "outputs": [],
   "source": [
    "# ancho_alto=df[\"tamaño_pantalla\"].str.split(\"x\")\n",
    "# ancho_pantalla=[]\n",
    "# alto_pantalla=[]\n",
    "# for i in ancho_alto:\n",
    "#     alto_pantalla.append(i[-1])\n",
    "#     ancho_pantalla.append(i[0])"
   ]
  },
  {
   "cell_type": "code",
   "execution_count": 564,
   "metadata": {},
   "outputs": [],
   "source": [
    "# df[\"ancho_pantalla\"] =ancho_pantalla\n",
    "# df[\"alto_pantalla\"] =alto_pantalla"
   ]
  },
  {
   "cell_type": "code",
   "execution_count": 565,
   "metadata": {},
   "outputs": [],
   "source": [
    "# df[[\"alto_pantalla\",\"ancho_pantalla\"]]=df[[\"alto_pantalla\",\"ancho_pantalla\"]].astype(float)"
   ]
  },
  {
   "cell_type": "code",
   "execution_count": 566,
   "metadata": {},
   "outputs": [],
   "source": [
    "# df[\"tamaño_pantalla\"]=df[\"alto_pantalla\"]*df[\"ancho_pantalla\"]"
   ]
  },
  {
   "cell_type": "code",
   "execution_count": 567,
   "metadata": {},
   "outputs": [],
   "source": [
    "lista1=df['Cpu'].str.split(\" \")"
   ]
  },
  {
   "cell_type": "code",
   "execution_count": 568,
   "metadata": {},
   "outputs": [],
   "source": [
    "marca_fabricante=[]\n",
    "velocidad_procesador=[]\n",
    "for i in lista1:\n",
    "    marca_fabricante.append(i[0])\n",
    "    velocidad_procesador.append(i[-1])\n",
    "    "
   ]
  },
  {
   "cell_type": "code",
   "execution_count": 569,
   "metadata": {},
   "outputs": [],
   "source": [
    "df[\"marca_fabricante\"]=marca_fabricante\n",
    "df[\"velocidad_procesador\"]=velocidad_procesador"
   ]
  },
  {
   "cell_type": "code",
   "execution_count": 570,
   "metadata": {},
   "outputs": [],
   "source": [
    "mf_mean=df_test.groupby(\"marca_fabricante\")[\"Price_euros\"].mean()\n",
    "df[\"marca_fabricante_mean\"]=df[\"marca_fabricante\"].map(mf_mean)"
   ]
  },
  {
   "cell_type": "code",
   "execution_count": 571,
   "metadata": {},
   "outputs": [],
   "source": [
    "# df[\"Intel\"] = (df[\"marca_fabricante\"] == \"Intel\").astype(int)\n",
    "\n",
    "# # Eliminar la columna original \"Marca\"\n",
    "# df.drop(columns=[\"marca_fabricante\"], inplace=True)"
   ]
  },
  {
   "cell_type": "code",
   "execution_count": 572,
   "metadata": {},
   "outputs": [],
   "source": [
    "df[\"velocidad_procesador\"]=eliminar_to_num(df[\"velocidad_procesador\"],\"GHz\",float)"
   ]
  },
  {
   "cell_type": "code",
   "execution_count": 573,
   "metadata": {},
   "outputs": [],
   "source": [
    "gpu_str=df['Gpu'].str.split(\" \")"
   ]
  },
  {
   "cell_type": "code",
   "execution_count": 574,
   "metadata": {},
   "outputs": [],
   "source": [
    "tipo_gpu=[]\n",
    "for i in gpu_str:\n",
    "    tipo_gpu.append(i[0])"
   ]
  },
  {
   "cell_type": "code",
   "execution_count": 575,
   "metadata": {},
   "outputs": [],
   "source": [
    "df[\"tipo_gpu\"]=tipo_gpu"
   ]
  },
  {
   "cell_type": "code",
   "execution_count": 576,
   "metadata": {},
   "outputs": [],
   "source": [
    "gpu_mean=df_test.groupby(\"tipo_gpu\")[\"Price_euros\"].mean()\n",
    "df[\"tipo_gpu_mean\"]=df[\"tipo_gpu\"].map(gpu_mean)"
   ]
  },
  {
   "cell_type": "code",
   "execution_count": 577,
   "metadata": {},
   "outputs": [],
   "source": [
    "# str_num(df[\"tipo_gpu\"])"
   ]
  },
  {
   "cell_type": "code",
   "execution_count": 578,
   "metadata": {},
   "outputs": [],
   "source": [
    "df1=df.copy()"
   ]
  },
  {
   "cell_type": "code",
   "execution_count": 579,
   "metadata": {},
   "outputs": [],
   "source": [
    "df1.drop(columns=[\"laptop_ID\",\n",
    "       'Flash Storage_mean',  'Company','Hybrid_mean', \"tamaño_pantalla\",'pantalla_tactil','marca_fabricante', 'tipo_gpu', 'Product', 'TypeName', 'SSD', 'HDD','Flash Storage', 'Hybrid', \"Product\", \"ScreenResolution\",\"Cpu\",\"Gpu\",\"Memory\"],inplace=True)"
   ]
  },
  {
   "cell_type": "code",
   "execution_count": 580,
   "metadata": {},
   "outputs": [
    {
     "data": {
      "text/plain": [
       "Index(['id', 'Inches', 'Ram', 'OpSys', 'Weight', 'Company_mean',\n",
       "       'TypeName_mean', 'SSD_mean', 'HDD_mean', 'Total_Almacenamiento_GB',\n",
       "       'OpSys_mean', 'pantalla_tactil_mean', 'ScreenResolution_mean',\n",
       "       'tamaño_pantalla_mean', 'velocidad_procesador', 'marca_fabricante_mean',\n",
       "       'tipo_gpu_mean'],\n",
       "      dtype='object')"
      ]
     },
     "execution_count": 580,
     "metadata": {},
     "output_type": "execute_result"
    }
   ],
   "source": [
    "df1.columns"
   ]
  },
  {
   "cell_type": "code",
   "execution_count": 581,
   "metadata": {},
   "outputs": [],
   "source": [
    "df1.to_csv(\"df_portatiles.csv\",index=False)"
   ]
  }
 ],
 "metadata": {
  "kernelspec": {
   "display_name": "Python 3",
   "language": "python",
   "name": "python3"
  },
  "language_info": {
   "codemirror_mode": {
    "name": "ipython",
    "version": 3
   },
   "file_extension": ".py",
   "mimetype": "text/x-python",
   "name": "python",
   "nbconvert_exporter": "python",
   "pygments_lexer": "ipython3",
   "version": "3.12.6"
  }
 },
 "nbformat": 4,
 "nbformat_minor": 2
}
